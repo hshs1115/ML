{
  "nbformat": 4,
  "nbformat_minor": 0,
  "metadata": {
    "colab": {
      "name": "텍스트전처리(장삐쭈).ipynb의 사본",
      "provenance": [],
      "collapsed_sections": []
    },
    "kernelspec": {
      "name": "python3",
      "display_name": "Python 3"
    },
    "language_info": {
      "name": "python"
    }
  },
  "cells": [
    {
      "cell_type": "markdown",
      "metadata": {
        "id": "8F2Sgt6YzdYU"
      },
      "source": [
        "1. 텍스트 스크래핑"
      ]
    },
    {
      "cell_type": "code",
      "metadata": {
        "colab": {
          "base_uri": "https://localhost:8080/"
        },
        "id": "6HwebY0-RwgP",
        "outputId": "d468019d-c856-470e-ebe3-57a8d8ec25c3"
      },
      "source": [
        "pip install youtube_transcript_api"
      ],
      "execution_count": null,
      "outputs": [
        {
          "output_type": "stream",
          "text": [
            "Collecting youtube_transcript_api\n",
            "  Downloading https://files.pythonhosted.org/packages/c9/24/581920922d80f6d6d2feb30787aa4d9e298db83cb081c1de1a63cc7cf121/youtube_transcript_api-0.4.1-py3-none-any.whl\n",
            "Requirement already satisfied: requests in /usr/local/lib/python3.7/dist-packages (from youtube_transcript_api) (2.23.0)\n",
            "Requirement already satisfied: urllib3!=1.25.0,!=1.25.1,<1.26,>=1.21.1 in /usr/local/lib/python3.7/dist-packages (from requests->youtube_transcript_api) (1.24.3)\n",
            "Requirement already satisfied: chardet<4,>=3.0.2 in /usr/local/lib/python3.7/dist-packages (from requests->youtube_transcript_api) (3.0.4)\n",
            "Requirement already satisfied: idna<3,>=2.5 in /usr/local/lib/python3.7/dist-packages (from requests->youtube_transcript_api) (2.10)\n",
            "Requirement already satisfied: certifi>=2017.4.17 in /usr/local/lib/python3.7/dist-packages (from requests->youtube_transcript_api) (2020.12.5)\n",
            "Installing collected packages: youtube-transcript-api\n",
            "Successfully installed youtube-transcript-api-0.4.1\n"
          ],
          "name": "stdout"
        }
      ]
    },
    {
      "cell_type": "code",
      "metadata": {
        "colab": {
          "base_uri": "https://localhost:8080/"
        },
        "id": "6hm1ubnPRyB2",
        "outputId": "17b9e335-f21a-4ef9-b04c-3683e29f201a"
      },
      "source": [
        "pip install pytube"
      ],
      "execution_count": null,
      "outputs": [
        {
          "output_type": "stream",
          "text": [
            "Collecting pytube\n",
            "\u001b[?25l  Downloading https://files.pythonhosted.org/packages/c0/d0/01b6936455527bdf7cf32f0fd32f7365bc7e3aa066ff3b16d45fa42c71f1/pytube-10.8.4-py3-none-any.whl (46kB)\n",
            "\r\u001b[K     |███████                         | 10kB 17.5MB/s eta 0:00:01\r\u001b[K     |██████████████▏                 | 20kB 20.5MB/s eta 0:00:01\r\u001b[K     |█████████████████████▎          | 30kB 10.5MB/s eta 0:00:01\r\u001b[K     |████████████████████████████▎   | 40kB 8.3MB/s eta 0:00:01\r\u001b[K     |████████████████████████████████| 51kB 3.3MB/s \n",
            "\u001b[?25hInstalling collected packages: pytube\n",
            "Successfully installed pytube-10.8.4\n"
          ],
          "name": "stdout"
        }
      ]
    },
    {
      "cell_type": "code",
      "metadata": {
        "id": "A3WisRodQnl5"
      },
      "source": [
        "import os\n",
        "import subprocess\n",
        "import pytube\n",
        "import re\n",
        "import requests\n",
        "\n",
        "import json\n",
        "from youtube_transcript_api import YouTubeTranscriptApi"
      ],
      "execution_count": null,
      "outputs": []
    },
    {
      "cell_type": "code",
      "metadata": {
        "id": "pkGWZEuwQnRV"
      },
      "source": [
        "\n",
        "data2 = []"
      ],
      "execution_count": null,
      "outputs": []
    },
    {
      "cell_type": "code",
      "metadata": {
        "id": "pBHOW_ECQwNT",
        "colab": {
          "base_uri": "https://localhost:8080/"
        },
        "outputId": "5afcb46d-7d2b-4542-eaae-9903daa0d3c4"
      },
      "source": [
        "url = \"https://www.youtube.com/watch?v=M5A78YO0WaY\"\n",
        "yt = pytube.YouTube(url)\n",
        "stream = yt.streams.first()\n",
        "\n",
        "pat = re.compile(\"(v=)([a-zA-Z0-9-_]{11})\")\n",
        "video_id = pat.search(url).group(2)\n",
        "\n",
        "#parent_dir = dir_path + dir_name + '/'\n",
        "#print(parent_dir)\n",
        "data = YouTubeTranscriptApi.get_transcript(video_id,languages = {'ko'})\n",
        "for line in data:\n",
        "  data2.append(line['text'])\n",
        "len(data2)"
      ],
      "execution_count": null,
      "outputs": [
        {
          "output_type": "execute_result",
          "data": {
            "text/plain": [
              "741"
            ]
          },
          "metadata": {
            "tags": []
          },
          "execution_count": 12
        }
      ]
    },
    {
      "cell_type": "code",
      "metadata": {
        "colab": {
          "base_uri": "https://localhost:8080/"
        },
        "id": "UvUhhV60cXU1",
        "outputId": "f2ff9bc1-d4bf-49c3-f6fd-6273ff77d4ab"
      },
      "source": [
        "from google.colab import drive\n",
        "drive.mount('/content/drive')"
      ],
      "execution_count": null,
      "outputs": [
        {
          "output_type": "stream",
          "text": [
            "Mounted at /content/drive\n"
          ],
          "name": "stdout"
        }
      ]
    },
    {
      "cell_type": "code",
      "metadata": {
        "colab": {
          "base_uri": "https://localhost:8080/",
          "height": 422
        },
        "id": "b-9k0CmKboDk",
        "outputId": "286771c3-26c8-4aba-f4bd-c4fcc2422c36"
      },
      "source": [
        "import pandas as pd\n",
        "\n",
        "data2 = pd.DataFrame(data2)\n",
        "data2"
      ],
      "execution_count": null,
      "outputs": [
        {
          "output_type": "execute_result",
          "data": {
            "text/html": [
              "<div>\n",
              "<style scoped>\n",
              "    .dataframe tbody tr th:only-of-type {\n",
              "        vertical-align: middle;\n",
              "    }\n",
              "\n",
              "    .dataframe tbody tr th {\n",
              "        vertical-align: top;\n",
              "    }\n",
              "\n",
              "    .dataframe thead th {\n",
              "        text-align: right;\n",
              "    }\n",
              "</style>\n",
              "<table border=\"1\" class=\"dataframe\">\n",
              "  <thead>\n",
              "    <tr style=\"text-align: right;\">\n",
              "      <th></th>\n",
              "      <th>0</th>\n",
              "    </tr>\n",
              "  </thead>\n",
              "  <tbody>\n",
              "    <tr>\n",
              "      <th>0</th>\n",
              "      <td>아... 뭔 주말에 배수로 작업이냐</td>\n",
              "    </tr>\n",
              "    <tr>\n",
              "      <th>1</th>\n",
              "      <td>존X 빡치게...</td>\n",
              "    </tr>\n",
              "    <tr>\n",
              "      <th>2</th>\n",
              "      <td>아... 죄송합니다</td>\n",
              "    </tr>\n",
              "    <tr>\n",
              "      <th>3</th>\n",
              "      <td>가위바위보 이겼어야 됐는데</td>\n",
              "    </tr>\n",
              "    <tr>\n",
              "      <th>4</th>\n",
              "      <td>아니 우리 부대는 왜 이렇게\\n가위바위보를 잘하는 새X가 없어?</td>\n",
              "    </tr>\n",
              "    <tr>\n",
              "      <th>...</th>\n",
              "      <td>...</td>\n",
              "    </tr>\n",
              "    <tr>\n",
              "      <th>736</th>\n",
              "      <td>니들 뭐야!</td>\n",
              "    </tr>\n",
              "    <tr>\n",
              "      <th>737</th>\n",
              "      <td>어...</td>\n",
              "    </tr>\n",
              "    <tr>\n",
              "      <th>738</th>\n",
              "      <td>아....</td>\n",
              "    </tr>\n",
              "    <tr>\n",
              "      <th>739</th>\n",
              "      <td>체력 단련...</td>\n",
              "    </tr>\n",
              "    <tr>\n",
              "      <th>740</th>\n",
              "      <td>하고 있었습니다....</td>\n",
              "    </tr>\n",
              "  </tbody>\n",
              "</table>\n",
              "<p>741 rows × 1 columns</p>\n",
              "</div>"
            ],
            "text/plain": [
              "                                       0\n",
              "0                    아... 뭔 주말에 배수로 작업이냐\n",
              "1                              존X 빡치게...\n",
              "2                             아... 죄송합니다\n",
              "3                         가위바위보 이겼어야 됐는데\n",
              "4    아니 우리 부대는 왜 이렇게\\n가위바위보를 잘하는 새X가 없어?\n",
              "..                                   ...\n",
              "736                               니들 뭐야!\n",
              "737                                 어...\n",
              "738                                아....\n",
              "739                             체력 단련...\n",
              "740                         하고 있었습니다....\n",
              "\n",
              "[741 rows x 1 columns]"
            ]
          },
          "metadata": {
            "tags": []
          },
          "execution_count": 18
        }
      ]
    },
    {
      "cell_type": "code",
      "metadata": {
        "id": "RCSKex9MccaI"
      },
      "source": [
        "data2.to_csv('/content/drive/MyDrive/aa/장삐쭈stt.csv',encoding='utf-8-sig')"
      ],
      "execution_count": null,
      "outputs": []
    },
    {
      "cell_type": "code",
      "metadata": {
        "id": "oEEnerMccNdS"
      },
      "source": [
        ""
      ],
      "execution_count": null,
      "outputs": []
    },
    {
      "cell_type": "code",
      "metadata": {
        "colab": {
          "base_uri": "https://localhost:8080/"
        },
        "id": "b3tPdCQikCh6",
        "outputId": "a43b4e69-c327-44ca-b1f2-89cdea9dae6b"
      },
      "source": [
        "import re\n",
        "\n",
        "text = []\n",
        "hangul = re.compile('[^ ㄱ-ㅣ가-힣]+') # 한글과 띄어쓰기를 제외한 모든 글자\n",
        "\n",
        "for i in data2:\n",
        "  s = i.split(',')[0].replace(\"'text': '\",\"\")[:-1]\n",
        "  text.append(hangul.sub('',s))\n",
        "text"
      ],
      "execution_count": null,
      "outputs": [
        {
          "output_type": "execute_result",
          "data": {
            "text/plain": [
              "['아 뭔 주말에 배수로 작업이',\n",
              " '존 빡치게',\n",
              " '아 죄송합니',\n",
              " '가위바위보 이겼어야 됐는',\n",
              " '아니 우리 부대는 왜 이렇게가위바위보를 잘하는 새가 없어',\n",
              " '뭐 했다 하면 다 우리야 시',\n",
              " '죄송합니다다음엔 이겨보겠습니',\n",
              " '야 박민',\n",
              " '일병 박민',\n",
              " '담배 있냐',\n",
              " '아 저 담배 끊었습니',\n",
              " '뭐 언제부터',\n",
              " '아 체력도 떨어지고 해서일주일 전부터 끊었습니',\n",
              " '네가 시 떨어질 체력이 어딨어 새야',\n",
              " '아 있습니다',\n",
              " '야 안 펴도 내일부터 한 갑씩은 가지고 다',\n",
              " '알았어',\n",
              " '',\n",
              " '야 임다',\n",
              " '일병 임다',\n",
              " '팔 괜찮냐',\n",
              " '예 괜찮습니',\n",
              " '근데 왜 이렇게 삽질이 시원치 않아',\n",
              " '팍팍 해 새야 팍팍',\n",
              " '빨리 끝내고 가게',\n",
              " '예 알겠습니',\n",
              " '최일구 상병님담배 좀 드립니까',\n",
              " '아 네 꺼 맨솔이잖',\n",
              " '그럼 뭐안 드려도 됩니까',\n",
              " '아 아냐 한 대 줘',\n",
              " '여깄습니',\n",
              " '야 임다혜',\n",
              " '일병 임다',\n",
              " '잘 보고 있다가누구 오면 바로 말해',\n",
              " '예 알겠습니',\n",
              " '아이씨 또 지이',\n",
              " '거 물 묻은 거 아닙니까',\n",
              " '어',\n",
              " '최일구 상병',\n",
              " '사람 옵니',\n",
              " '어 누군데',\n",
              " '어',\n",
              " '소대장님인 것 같습니',\n",
              " '아니 그 양반이 왜 와 또귀찮',\n",
              " '그만하고 들어오라는 거 아닙니까',\n",
              " '그럴 거면 병사를 보내지저 양반이 오겠냐 새야',\n",
              " '최일구 상병',\n",
              " '배수로 작전은 잘 진행되고 있나',\n",
              " '예 잘 되고 있습니다',\n",
              " '왜 오셨습니까',\n",
              " '행보관이 인솔자로 가보면 어떻겠냐고제안을 해서 오게 됐',\n",
              " '제안이 아니라 명령입니다 그거',\n",
              " '배수로 작전 진행 상황보고할 수 있도',\n",
              " '일단 테니스장 앞쪽으로 해가지고초소 뒤까지는 대충 끝났',\n",
              " '이제 여기만 하면 끝입니',\n",
              " '그래내가 확인해봐도 되겠나',\n",
              " '예예 해보십',\n",
              " '아니 줄자는 왜',\n",
              " '음',\n",
              " '센치',\n",
              " '센치가 부족한데',\n",
              " '아니 대충 삽으로 그냥 파는 거',\n",
              " '누가 그런 걸 재면서 작업합니까',\n",
              " '김상훈 일',\n",
              " '아 예',\n",
              " '제설 작전과 배수로 작전이왜 작전이라고 불리우는지 알고 있나',\n",
              " '어 모르겠습니',\n",
              " '그 이유를 알기 위해',\n",
              " '제설 작전과 배수로 작전이처음으로 시행됐던 ',\n",
              " '아 알겠으니까 그만하십쇼',\n",
              " '야 박민석 임다혜',\n",
              " ' 예 예',\n",
              " '센치가 부족하다니까',\n",
              " '딱 그만큼만 더 파라 알았냐',\n",
              " '만약 센치라도 더 파면뒤질 줄 알아 알았어',\n",
              " ' 예 알겠습니다 예 알겠습니',\n",
              " '최일구 상병 배수용 파이프는 어딨지',\n",
              " '그게 또 뭡니까',\n",
              " '그냥 좀 빨리 하고 들어가면 안 됩니까주말인데',\n",
              " '그게 없으면 배수로 작전은실패로 돌아가게 될 만큼 아주 중요한 문제',\n",
              " '소대장님 배수로 몇 번이나 까보셨습니',\n",
              " '',\n",
              " '저는 작년부터 배수로 작업만스무 번은 넘게 했습니',\n",
              " '제발 좀 하던 대로 그냥',\n",
              " '최일구 상병님',\n",
              " '아',\n",
              " '어 ',\n",
              " '여기로 좀 와보시지 말입니',\n",
              " '왜 뭐 문제 있어',\n",
              " '이것 좀 보시지 말입니',\n",
              " '왜 뭐 돌',\n",
              " '파면 되잖',\n",
              " '보이는 것만 이 정도지파봤는데 존 큰 것 같습니',\n",
              " '음',\n",
              " '좀 크긴 하',\n",
              " '어떡합니까파려면 시간 좀 걸릴 것 같은',\n",
              " '좀 튀어나오긴 했는데이 정도는 그냥 무시해도 ',\n",
              " '계속 ',\n",
              " '이 돌은 적출해내야 될 것 같은',\n",
              " '아 뭔 소립니까 또',\n",
              " '이 정도는 그냥 넘어가도 됩니',\n",
              " '아예 막고 있는 거 아니',\n",
              " '지금 당장에야 괜찮겠지',\n",
              " '만약 지금이 전시상황이라고 가정해봤을 때이 돌이 가져올 수 있는 변수',\n",
              " '아니 전시상황이 아니잖습니까 지금',\n",
              " '훈련은 실전처',\n",
              " '이게 바로 군인정',\n",
              " '아 군인 하십쇼 하십쇼평생 하십쇼',\n",
              " '야 됐어 그냥 파 계속 ',\n",
              " '예 알겠습니',\n",
              " '동작 그',\n",
              " '야 빨리 끝내고 가자비 더 오기 전',\n",
              " ' 예 예',\n",
              " '동작 그',\n",
              " '소대장님도 이제 들어가십쇼빨리 끝내고 올라가겠습니',\n",
              " '동작 그만',\n",
              " '',\n",
              " 'ㅎ허 소대장님 소리 지르는 거처음 봤습니',\n",
              " '이 시간부로 이 작전은본 지휘관이 통제한다 알겠나',\n",
              " '하ㅋㅋㅋ나 진짜 씨',\n",
              " '이거 실화야',\n",
              " '박민석 일병',\n",
              " '일병 박민',\n",
              " '지금 당장 물자창고에 가서곡괭이 가져오도록 한다',\n",
              " '실시',\n",
              " '시 실시',\n",
              " '야 박민',\n",
              " '일병 박민',\n",
              " '가지 말고 계속 ',\n",
              " '아 계속 합니까',\n",
              " '박민석 일병지금 지휘관의 명령에 불복종하는 건가',\n",
              " '',\n",
              " '그 최일구 상병님이',\n",
              " '최일구 상병과 나 오석진 소위 중누가 더 계급이 높지',\n",
              " '어어 실제 계급 말입니까',\n",
              " '바로 나다',\n",
              " '그럼 누구 명령을 따라야 하지',\n",
              " '어어',\n",
              " '최일구 상병',\n",
              " '그렇지 당연히 그래야지',\n",
              " '박민석 일병지휘관으로서 명령한',\n",
              " '엎드려 뻗',\n",
              " '어 엎드려 뻗',\n",
              " '야 하지',\n",
              " '예 잘못 들었습니다',\n",
              " '엎드려 뻗쳐',\n",
              " '엎드려 뻗',\n",
              " '하지 말고 빨리 파라고 들어가게',\n",
              " '예 알겠습니다',\n",
              " '엎드려 뻗쳐',\n",
              " '엎드려 뻗쳐',\n",
              " '하지마',\n",
              " '하지마',\n",
              " '엎드려 뻗쳐',\n",
              " '엎드려 뻗쳐',\n",
              " '하지마',\n",
              " '하지마',\n",
              " '엎드려 뻗쳐',\n",
              " '엎드려 뻗쳐',\n",
              " '하지마',\n",
              " '하지마',\n",
              " '임다혜 일병 엎드려 뻗쳐',\n",
              " '엎드려 뻗',\n",
              " '하지',\n",
              " '하지',\n",
              " '엎드려 뻗쳐',\n",
              " '엎드려 뻗',\n",
              " '하지',\n",
              " '하지',\n",
              " '김상훈 일병엎드려 뻗쳐',\n",
              " '하 좀 이럴 시간에 끝냈겠습니',\n",
              " '아이 시 내 말이',\n",
              " '김상훈 일병엎드려 뻗쳐',\n",
              " '아 걍 빨리 얼차려 받고진행하시지 말입니',\n",
              " '야 하지',\n",
              " '이건 자존심 문제',\n",
              " '아 계급에 자존심이 어딨습니',\n",
              " '빨리 끝내고 들어가시지 말입니',\n",
              " '야 시 하지 말라고',\n",
              " '아니 그럼 어떡합니까계속 이러고 있습니까',\n",
              " '추워 죽겠습니',\n",
              " '그럼 어쩔 수 없',\n",
              " '본 지휘관은 이 모든 책임이가장 선임자인 최일구 상병에게 있다고 판단했',\n",
              " '최일구 상병엎드려 뻗쳐',\n",
              " '야 계속 파 계속 ',\n",
              " '다시 한번 말한',\n",
              " '최일구 상병엎드려 뻗쳐',\n",
              " '야 빗줄기도 굵어지는데빨리 끝내고 올라가자',\n",
              " '한번 더 대답 안 할 시엔명령 불복종으로 징계위원회 소집하겠',\n",
              " '마지막으로 명령한다최일구 상병',\n",
              " '엎드려 뻗',\n",
              " '지',\n",
              " '',\n",
              " '앗 지금 마무리 중입니',\n",
              " '다 끝났습니다',\n",
              " '내려간 지가 은젠데아직도 여기 하고 있노',\n",
              " '테니스장은 했나',\n",
              " '아 예 시작을 아예 거기서부터 시작했습니',\n",
              " '시',\n",
              " '그럼 머가 문젠데',\n",
              " '아 그게 지금 그소대장님 하고',\n",
              " '행보관엎드려 뻗쳐',\n",
              " '야',\n",
              " '내가 지금 잘못 들은 거지',\n",
              " '저 저도',\n",
              " '소대장님지금 머라 했습니까',\n",
              " '병사 교육은 행보관 담당이라고 들었다',\n",
              " '병사들 군기가 이 모양이니까병사 교육 담당인 행보관에게 얼차려',\n",
              " '이 사건은 삽시간에 중대 내에 퍼졌',\n",
              " '소대장은 중대장에게 시간 동안 개털리',\n",
              " '이틀째 매일매일 완전 군장으로연병장을 돌고 있',\n",
              " '다들 이 사건을 쏘가리 대첩이라고 하며 웃어댔지',\n",
              " '나는 웃음이 나지 않았',\n",
              " '오히',\n",
              " '저 쏘가리가',\n",
              " '소위일 때 군대 와서',\n",
              " '참',\n",
              " '다행이라',\n",
              " '종교 다녀왔습니',\n",
              " '어 다 어디 갔지',\n",
              " '완전 아수라장이네',\n",
              " '아니 병호는 종교도 안 가면서 어디 간 거야',\n",
              " '빨래부터 해야겠다',\n",
              " '다 끝났다',\n",
              " '이제 분리수거 해야겠다',\n",
              " '아니 근데 병호는 어디 간 거야',\n",
              " '분명 오후에 분리수거 알려준다고 했는데',\n",
              " '야 진짜 마지막에 찔러주는 거 진짜 지렸',\n",
              " '김상훈 일병님오셨습니까',\n",
              " '아닙니다 김상훈 상병님마무리가 진짜 예술이었습니',\n",
              " '병호',\n",
              " '이병 차병호',\n",
              " '어디 갔다 온 거야',\n",
              " '축구하고 왔는데 왜',\n",
              " '아 아닙니',\n",
              " '그 분리수거',\n",
              " ' 야 차병호 샤워하러 가자 아 네 알겠습니다',\n",
              " '아 그 샤워 끝나고 ',\n",
              " '분리수거 알려줄',\n",
              " '아 네 알겠습니',\n",
              " ' 야 가자 아 네',\n",
              " '그니까 윤신영 병장님 스타일이 딱 그거',\n",
              " '딱 찔러주면달리기가 존 빠르니',\n",
              " '아 근데 김상훈 상병님도달리기 엄청 빠르신 거 같습니',\n",
              " '야 나는 여기서 존 느린 편이',\n",
              " '아 그렇습니',\n",
              " '어 병호야 이제 다 했으면',\n",
              " '야 피엑스 가',\n",
              " '아 그박민석 일병이랑',\n",
              " '뭐 분리수거',\n",
              " '아 네 그렇습니',\n",
              " '아니 갔다 와혼자 하고 있을 테니',\n",
              " '아 알겠습니다',\n",
              " '금방 갔다 오겠습니',\n",
              " '박민',\n",
              " '아 아닙니다다녀오셔도 됩니다 ㅎ',\n",
              " '야 뭐 음료수 같은 거뭐 아이스크림 같은 거 먹을래',\n",
              " '아 아닙니다 괜찮습니다다녀오십시',\n",
              " '다녀오십시오는 명령이고 새야',\n",
              " ' 간다 아 네',\n",
              " '웃긴 게 그 이후로 연락이 한번도 없었습니',\n",
              " '이 새 완전 쓰레기네',\n",
              " '박민석 일병',\n",
              " '이거',\n",
              " '분리수거 알려줄 테니까 여기 앉',\n",
              " '아 네',\n",
              " '여기서는 종이랑 플라스틱이랑 붙어 있으면다 분류해가지고 버려야 ',\n",
              " '아 네 알겠습니',\n",
              " '만약 칫솔 껍질이면여기는 플라스틱이고 여기는 종이잖',\n",
              " '야 박민',\n",
              " '아 네 다녀오십시오',\n",
              " ' 야 이병 차병호',\n",
              " '최일구 병장님 주무시니까조용히 대답해',\n",
              " '알았냐',\n",
              " '아 네 알겠습니다',\n",
              " '너',\n",
              " '내가 같냐',\n",
              " '',\n",
              " '내가 같냐',\n",
              " '',\n",
              " '내가 오전에 분명히 말했지오후에 분리수거 알려준다',\n",
              " '이건 종이니까 여기고캔이랑 유리는 따로 빼놔야 ',\n",
              " '아씨 카드 안 가지고 왔',\n",
              " '',\n",
              " '내가 오후에 분리수거 알려준다고분명 말했잖',\n",
              " '아 네 맞습니',\n",
              " '근데 김상훈 상병님이',\n",
              " '핑계 대지마',\n",
              " '김상훈 상병님이 죽으라면 죽을 거야',\n",
              " '아 아닙니',\n",
              " '죄송합니',\n",
              " '내가 잘해주니까존 만만하게 보이',\n",
              " '',\n",
              " '같으면 계급장 떼고 맞짱 한',\n",
              " '이건 좀 특이한 건데 프링글스 통 같은 경우에는아래 밑바닥은 쇠 같은 거거든',\n",
              " '아 ',\n",
              " '임다혜 일병님 어디 가십니까',\n",
              " '싸지',\n",
              " '',\n",
              " '어디까지 했냐',\n",
              " '아 그 계급장 떼고맞짱 뜨시자',\n",
              " '아 그니까맞짱 한번 뜰래',\n",
              " '아닙니다 죄송합니',\n",
              " '죄송할 짓',\n",
              " '아',\n",
              " '죄송하면 군생활 끝나',\n",
              " '아닙니',\n",
              " '네가 사회에서 얼마나 뭐 잘나갔던 간에운동을 했던 간에 여기서 그냥 너는 밥이',\n",
              " '나도 처음에 헷갈렸는데이거 금방 익숙해질 거',\n",
              " '헷갈리는 거 있으면 물어',\n",
              " '아 네',\n",
              " '알겠습니',\n",
              " '어디까지 했지',\n",
              " '그 저 밥이라고',\n",
              " '아 맞어 네가',\n",
              " '뭐라 했지',\n",
              " '사회에서 뭘 했건',\n",
              " '아',\n",
              " '아 ',\n",
              " '어',\n",
              " '그',\n",
              " '',\n",
              " '그 관심 없',\n",
              " '',\n",
              " '그',\n",
              " '내가 같냐',\n",
              " '아닙니다 절대 아닙니',\n",
              " '다음부턴 진짜 잘하겠습니',\n",
              " '군대에서 다음이란 건 없거든',\n",
              " '전쟁 나도 다음에 잘하겠다고 그럴 거야',\n",
              " '아닙니다 죄송합니',\n",
              " '죄송하면 군생활 끝나',\n",
              " '아',\n",
              " '아닙니다 안 끝납니',\n",
              " '네가 잘못하면 내가 욕 먹는 거야알어',\n",
              " '아 네 알고 있습니',\n",
              " '알고 있으면 똑바로 해라 앞으',\n",
              " '네 알겠습니',\n",
              " '나는 네가 사회에서 뭘 했건 간에 아무',\n",
              " '어 이거 했나',\n",
              " '',\n",
              " '어 그',\n",
              " '',\n",
              " '그',\n",
              " '앞으로 잘할 거지',\n",
              " '네 진짜 잘하겠습니',\n",
              " '진짜 죄송합니',\n",
              " '그래 앞으로 좀 잘하',\n",
              " '죄송할 짓 만들지 말',\n",
              " '네 알겠습니다',\n",
              " '그래 이거 봐봐분리수거 알려줄',\n",
              " '유리는 이쪽에다가따로 모아놔야 되거든',\n",
              " ' 그래야지 야 드디어 끝났냐',\n",
              " '어 일어나셨습니까',\n",
              " '야 ㅋㅋ 좀 더해봐존 재밌으니']"
            ]
          },
          "metadata": {
            "tags": []
          },
          "execution_count": 49
        }
      ]
    },
    {
      "cell_type": "markdown",
      "metadata": {
        "id": "xDMdO7JBuyMQ"
      },
      "source": [
        "**2. 노이즈 캔슬링**"
      ]
    },
    {
      "cell_type": "code",
      "metadata": {
        "colab": {
          "base_uri": "https://localhost:8080/"
        },
        "id": "wFx6Loj9spFH",
        "outputId": "fe355718-1a39-405b-9ac4-435cdc6e85d2"
      },
      "source": [
        "!git clone https://github.com/ssut/py-hanspell.git # 네이버 맞춤법 검사기"
      ],
      "execution_count": null,
      "outputs": [
        {
          "output_type": "stream",
          "text": [
            "fatal: destination path 'py-hanspell' already exists and is not an empty directory.\n"
          ],
          "name": "stdout"
        }
      ]
    },
    {
      "cell_type": "code",
      "metadata": {
        "colab": {
          "base_uri": "https://localhost:8080/"
        },
        "id": "yBGTS5KczABY",
        "outputId": "84b9a5bb-2116-468b-8e3e-f0f28962b25c"
      },
      "source": [
        "cd py-hanspell/"
      ],
      "execution_count": null,
      "outputs": [
        {
          "output_type": "stream",
          "text": [
            "/content/py-hanspell\n"
          ],
          "name": "stdout"
        }
      ]
    },
    {
      "cell_type": "code",
      "metadata": {
        "colab": {
          "base_uri": "https://localhost:8080/"
        },
        "id": "DiG5XPUXu4Eu",
        "outputId": "86e8d9cf-ec7b-48cb-814e-874fa1b67b47"
      },
      "source": [
        "!python setup.py install"
      ],
      "execution_count": null,
      "outputs": [
        {
          "output_type": "stream",
          "text": [
            "/usr/local/lib/python3.7/dist-packages/setuptools/dist.py:694: UserWarning: Usage of dash-separated 'description-file' will not be supported in future versions. Please use the underscore name 'description_file' instead\n",
            "  % (opt, underscore_opt))\n",
            "running install\n",
            "running bdist_egg\n",
            "running egg_info\n",
            "writing py_hanspell.egg-info/PKG-INFO\n",
            "writing dependency_links to py_hanspell.egg-info/dependency_links.txt\n",
            "writing requirements to py_hanspell.egg-info/requires.txt\n",
            "writing top-level names to py_hanspell.egg-info/top_level.txt\n",
            "adding license file 'LICENSE'\n",
            "writing manifest file 'py_hanspell.egg-info/SOURCES.txt'\n",
            "installing library code to build/bdist.linux-x86_64/egg\n",
            "running install_lib\n",
            "running build_py\n",
            "creating build/bdist.linux-x86_64/egg\n",
            "creating build/bdist.linux-x86_64/egg/hanspell\n",
            "copying build/lib/hanspell/__init__.py -> build/bdist.linux-x86_64/egg/hanspell\n",
            "copying build/lib/hanspell/spell_checker.py -> build/bdist.linux-x86_64/egg/hanspell\n",
            "copying build/lib/hanspell/response.py -> build/bdist.linux-x86_64/egg/hanspell\n",
            "copying build/lib/hanspell/constants.py -> build/bdist.linux-x86_64/egg/hanspell\n",
            "byte-compiling build/bdist.linux-x86_64/egg/hanspell/__init__.py to __init__.cpython-37.pyc\n",
            "byte-compiling build/bdist.linux-x86_64/egg/hanspell/spell_checker.py to spell_checker.cpython-37.pyc\n",
            "byte-compiling build/bdist.linux-x86_64/egg/hanspell/response.py to response.cpython-37.pyc\n",
            "byte-compiling build/bdist.linux-x86_64/egg/hanspell/constants.py to constants.cpython-37.pyc\n",
            "creating build/bdist.linux-x86_64/egg/EGG-INFO\n",
            "copying py_hanspell.egg-info/PKG-INFO -> build/bdist.linux-x86_64/egg/EGG-INFO\n",
            "copying py_hanspell.egg-info/SOURCES.txt -> build/bdist.linux-x86_64/egg/EGG-INFO\n",
            "copying py_hanspell.egg-info/dependency_links.txt -> build/bdist.linux-x86_64/egg/EGG-INFO\n",
            "copying py_hanspell.egg-info/requires.txt -> build/bdist.linux-x86_64/egg/EGG-INFO\n",
            "copying py_hanspell.egg-info/top_level.txt -> build/bdist.linux-x86_64/egg/EGG-INFO\n",
            "zip_safe flag not set; analyzing archive contents...\n",
            "creating 'dist/py_hanspell-1.1-py3.7.egg' and adding 'build/bdist.linux-x86_64/egg' to it\n",
            "removing 'build/bdist.linux-x86_64/egg' (and everything under it)\n",
            "Processing py_hanspell-1.1-py3.7.egg\n",
            "Removing /usr/local/lib/python3.7/dist-packages/py_hanspell-1.1-py3.7.egg\n",
            "Copying py_hanspell-1.1-py3.7.egg to /usr/local/lib/python3.7/dist-packages\n",
            "py-hanspell 1.1 is already the active version in easy-install.pth\n",
            "\n",
            "Installed /usr/local/lib/python3.7/dist-packages/py_hanspell-1.1-py3.7.egg\n",
            "Processing dependencies for py-hanspell==1.1\n",
            "Searching for requests==2.23.0\n",
            "Best match: requests 2.23.0\n",
            "Adding requests 2.23.0 to easy-install.pth file\n",
            "\n",
            "Using /usr/local/lib/python3.7/dist-packages\n",
            "Searching for chardet==3.0.4\n",
            "Best match: chardet 3.0.4\n",
            "Adding chardet 3.0.4 to easy-install.pth file\n",
            "Installing chardetect script to /usr/local/bin\n",
            "\n",
            "Using /usr/local/lib/python3.7/dist-packages\n",
            "Searching for idna==2.10\n",
            "Best match: idna 2.10\n",
            "Adding idna 2.10 to easy-install.pth file\n",
            "\n",
            "Using /usr/local/lib/python3.7/dist-packages\n",
            "Searching for urllib3==1.24.3\n",
            "Best match: urllib3 1.24.3\n",
            "Adding urllib3 1.24.3 to easy-install.pth file\n",
            "\n",
            "Using /usr/local/lib/python3.7/dist-packages\n",
            "Searching for certifi==2020.12.5\n",
            "Best match: certifi 2020.12.5\n",
            "Adding certifi 2020.12.5 to easy-install.pth file\n",
            "\n",
            "Using /usr/local/lib/python3.7/dist-packages\n",
            "Finished processing dependencies for py-hanspell==1.1\n"
          ],
          "name": "stdout"
        }
      ]
    },
    {
      "cell_type": "code",
      "metadata": {
        "colab": {
          "base_uri": "https://localhost:8080/"
        },
        "id": "Gho_jhr2wHOo",
        "outputId": "2f7db8a6-31e9-4a06-9df6-d10b4e324881"
      },
      "source": [
        "from hanspell import spell_checker\n",
        "\n",
        "text2 = []\n",
        "for i in text:\n",
        "  result = spell_checker.check(i)\n",
        "  text2.append(result.checked)\n",
        "text2"
      ],
      "execution_count": null,
      "outputs": [
        {
          "output_type": "execute_result",
          "data": {
            "text/plain": [
              "['아 뭔 주말에 배수로 작업이',\n",
              " '존 화나게',\n",
              " '아 죄송합니',\n",
              " '가위바위보이겼어야 됐는',\n",
              " '아니 우리 부대는 왜 이렇게 가위바위보를 잘하는 새가 없어',\n",
              " '뭐 했다 하면 다 우리야 시',\n",
              " '죄송합니다 다음엔 이겨보겠습니',\n",
              " '야 박민',\n",
              " '일병 박민',\n",
              " '담배 있냐',\n",
              " '아 저 담배 끊어습니',\n",
              " '뭐 언제부터',\n",
              " '아 체력도 떨어지고 해서 일주일 전부터 끊어습니',\n",
              " '네가 시 떨어질 체력이 어딨어 새야',\n",
              " '아 있습니다',\n",
              " '야 안 펴도 내일부터 한 갑씩은 가지고 다',\n",
              " '알았어',\n",
              " '',\n",
              " '야임다',\n",
              " '일병임다',\n",
              " '팔 괜찮냐',\n",
              " '예 괜찮습니',\n",
              " '근데 왜 이렇게 삽질이 시원치 않아',\n",
              " '팍팍해 새야 팍팍',\n",
              " '빨리 끝내고 가게',\n",
              " '예 알겠습니',\n",
              " '최일구 상병님 담배 좀 드립니까',\n",
              " '아 네 꺼 맨솔이잖',\n",
              " '그럼 뭐 안 드려도 됩니까',\n",
              " '아 아냐 한 대 줘',\n",
              " '여깄습니',\n",
              " '야 김다혜',\n",
              " '일병임다',\n",
              " '잘 보고 있다가 누구 오면 바로 말해',\n",
              " '예 알겠습니',\n",
              " '아이씨 또 지이',\n",
              " '거 물 묻은 거 아닙니까',\n",
              " '어',\n",
              " '최일구 상병',\n",
              " '사람 옵니',\n",
              " '어 누군데',\n",
              " '어',\n",
              " '소대장님인 것 같습니',\n",
              " '아니 그 양반이 왜 와 또 귀차',\n",
              " '그만하고 들어오라는 거 아닙니까',\n",
              " '그럴 거면 병사를 보내지 저 양반이 오겠냐 새야',\n",
              " '최일구 상병',\n",
              " '배수로 작전은 잘 진행되고 있나',\n",
              " '예 잘 되고 있습니다',\n",
              " '왜 오셨습니까',\n",
              " '행보관이 인솔자로 가보면 어떻겠냐고 제안을 해서 오게 됐',\n",
              " '제안이 아니라 명령입니다 그거',\n",
              " '배수로 작전 진행 상황 보고할 수 있도',\n",
              " '일단 테니스장 앞쪽으로 해가지고 초소 뒤까지는 대충 끝나',\n",
              " '이제 여기만 하면 끝입니',\n",
              " '그래 내가 확인해봐도 되겠나',\n",
              " '예예 해보신',\n",
              " '아니 줄자는 왜',\n",
              " '음',\n",
              " '센티',\n",
              " '센티가 부족한데',\n",
              " '아니 대충 삽으로 그냥 파는 거',\n",
              " '누가 그런 걸 재면서 작업합니까',\n",
              " '김상훈 일',\n",
              " '아 예',\n",
              " '제설 작전과 배수로 작전이 왜 작전이라고 불리는지 알고 있나',\n",
              " '어 모르겠습니',\n",
              " '그 이유를 알기 위해',\n",
              " '제설 작전과 배수로 작전이 처음으로 시행됐던 ',\n",
              " '아 알겠으니까 그만하십쇼',\n",
              " '야 박민석 김다혜',\n",
              " ' 예 예',\n",
              " '센티가 부족하다니까',\n",
              " '딱 그만큼만 더 파라 알았냐',\n",
              " '만약 센티라도 더 파면 뒤질 줄 알아 알았어',\n",
              " ' 예 알겠습니다 예 알겠습니',\n",
              " '최일구 상병 배수용 파이프는 어딨지',\n",
              " '그게 또 뭡니까',\n",
              " '그냥 좀 빨리하고 들어가면 안 됩니까 주말인데',\n",
              " '그게 없으면 배수로 작전은 실패로 돌아가게 될 만큼 아주 중요한 문제',\n",
              " '소대장님 배수로 몇 번이나 가보셨습니',\n",
              " '',\n",
              " '저는 작년부터 배수로 작업만 스무 번은 넘게 했습니',\n",
              " '제발 좀 하던 대로 그냥',\n",
              " '최일구 상병님',\n",
              " '아',\n",
              " '어 ',\n",
              " '여기로 좀 와보시지 말입니',\n",
              " '왜 뭐 문제 있어',\n",
              " '이것 좀 보시지 말입니',\n",
              " '왜 뭐 돌',\n",
              " '파면 되잔',\n",
              " '보이는 것만 이 정도 지파 봤는데 존 큰 것 같습니',\n",
              " '음',\n",
              " '좀 크긴 하',\n",
              " '어떡합니까 파려면 시간 좀 걸릴 것 같은',\n",
              " '좀 튀어나오긴 했는데 이 정도는 그냥 무시해도 ',\n",
              " '계속 ',\n",
              " '이 돌은 적출해내야 될 것 같은',\n",
              " '아 뭔 소립니까 또',\n",
              " '이 정도는 그냥 넘어가도 됐니',\n",
              " '아예 막고 있는 거 아니',\n",
              " '지금 당장에야 괜찮겠지',\n",
              " '만약 지금이 전시상황이라고 가정해봤을 때의 돌이 가져올 수 있는 변수',\n",
              " '아니 전시상황이 아니잖습니까 지금',\n",
              " '훈련은 실전처',\n",
              " '이게 바로 군인전',\n",
              " '아 군인 하십쇼 하십쇼 평생 하십쇼',\n",
              " '야 됐어 그냥 파 계속 ',\n",
              " '예 알겠습니',\n",
              " '동작 그',\n",
              " '야 빨리 끝내고 가자니 더 오기 전',\n",
              " ' 예 예',\n",
              " '동작 그',\n",
              " '소대장님도 이제 들어가 십쇼 빨리 끝내고 올라가겠습니',\n",
              " '동작 그만',\n",
              " '',\n",
              " 'ㅎ허 소대장님 소리 지르는 거 처음 봤습니',\n",
              " '이 시간부로 이 작전은 본 지휘관이 통제한다 알겠나',\n",
              " '하ㅋㅋㅋ 나 진짜 씨',\n",
              " '이거 실화야',\n",
              " '박민석 일병',\n",
              " '일병 박민',\n",
              " '지금 당장 물자창고에 가서 곡괭이 가져오도록 한다',\n",
              " '실시',\n",
              " '시 실시',\n",
              " '야 박민',\n",
              " '일병 박민',\n",
              " '가지 말고 계속 ',\n",
              " '아 계속합니까',\n",
              " '박민석 일병 지금 지휘관의 명령에 불복종하는 건가',\n",
              " '',\n",
              " '그 최일구 상병님이',\n",
              " '최일구 상병과 나 오성진 소위 중누가 더 계급이 높지',\n",
              " '어어 실제 계급 말입니까',\n",
              " '바로 나다',\n",
              " '그럼 누구 명령을 따라야 하지',\n",
              " '어어',\n",
              " '최일구 상병',\n",
              " '그렇지 당연히 그래야지',\n",
              " '박민석 일병 지휘관으로서 명령한',\n",
              " '엎드려 뻗',\n",
              " '어 엎드려 뻗',\n",
              " '야 하지',\n",
              " '예 잘못 들었습니다',\n",
              " '엎드려뻗쳐',\n",
              " '엎드려 뻗',\n",
              " '하지 말고 빨리 파라고 들어가게',\n",
              " '예 알겠습니다',\n",
              " '엎드려뻗쳐',\n",
              " '엎드려뻗쳐',\n",
              " '하지 마',\n",
              " '하지 마',\n",
              " '엎드려뻗쳐',\n",
              " '엎드려뻗쳐',\n",
              " '하지 마',\n",
              " '하지 마',\n",
              " '엎드려뻗쳐',\n",
              " '엎드려뻗쳐',\n",
              " '하지 마',\n",
              " '하지 마',\n",
              " '김다혜 일병 엎드려뻗쳐',\n",
              " '엎드려 뻗',\n",
              " '하지',\n",
              " '하지',\n",
              " '엎드려뻗쳐',\n",
              " '엎드려 뻗',\n",
              " '하지',\n",
              " '하지',\n",
              " '김상훈 일병 엎드려뻗쳐',\n",
              " '하 좀 이럴 시간에 끝냈겠습니',\n",
              " '아이 시 내 말이',\n",
              " '김상훈 일병 엎드려뻗쳐',\n",
              " '아 그냥 빨리 얼차려 받고 진행하시지 말입니',\n",
              " '야 하지',\n",
              " '이건 자존심 문제',\n",
              " '아 계급에 자존심이 어딨습니',\n",
              " '빨리 끝내고 들어가시지 말입니',\n",
              " '야 시 하지 말라고',\n",
              " '아니 그럼 어떡합니까 계속 이러고 있습니까',\n",
              " '추워 죽겠습니',\n",
              " '그럼 어쩔 수 없',\n",
              " '본 지휘관은 이 모든 책임이 가장 선임자인 최일구 상병에게 있다고 판다 했',\n",
              " '최일구 상병 엎드려뻗쳐',\n",
              " '야 계속 파 계속 ',\n",
              " '다시 한번 말한',\n",
              " '최일구 상병 엎드려뻗쳐',\n",
              " '야 빗줄기도 굵어지는데 빨리 끝내고 올라가자',\n",
              " '한 번 더 대답 안 할 시엔 명령 불복종으로 징계위원회 소집하게',\n",
              " '마지막으로 명령한다 최일구 상병',\n",
              " '엎드려 뻗',\n",
              " '지',\n",
              " '',\n",
              " '앗 지금 마무리 중이니',\n",
              " '다 끝났습니다',\n",
              " '내려간 지가 은젠데 아직도 여기 하고 있노',\n",
              " '테니스장은 했나',\n",
              " '아 예 시작을 아예 거기서부터 시작했습니',\n",
              " '시',\n",
              " '그럼 머가 문젠데',\n",
              " '아 그게 지금 그 소대장님 하고',\n",
              " '행보관 엎드려뻗쳐',\n",
              " '야',\n",
              " '내가 지금 잘못 들은 거지',\n",
              " '저 저도',\n",
              " '소대장님 지금 머라 했습니까',\n",
              " '병사 교육은 행보관 담당이라고 들었다',\n",
              " '병사들 군기가 이 모양이니까 병사 교육 담당인 행보관에게 얼차려',\n",
              " '이 사건은 삽시간에 중대 내에 퍼졌',\n",
              " '소대장은 중대장에게 시간 동안 개털니',\n",
              " '이틀째 매일매일 완전 군장으로 연병장을 돌고 있',\n",
              " '다들 이 사건을 쏘가리 대첩이라고 하며 웃어댔지',\n",
              " '나는 웃음이 나지 않았',\n",
              " '오히',\n",
              " '저 쏘가리가',\n",
              " '소위일 때 군대 와서',\n",
              " '참',\n",
              " '다행이라',\n",
              " '종교 다녀왔습니',\n",
              " '어 다 어디 갔지',\n",
              " '완전 아수라장이네',\n",
              " '아니 병호는 종교도 안 가면서 어디 간 거야',\n",
              " '빨래부터 해야겠다',\n",
              " '다 끝났다',\n",
              " '이제 분리수거해야겠다',\n",
              " '아니 근데 병호는 어디 간 거야',\n",
              " '분명 오후에 분리수거 알려준다고 했는데',\n",
              " '야 진짜 마지막에 찔러주는 거 진짜 지렸',\n",
              " '김상훈 일병님 오셨습니까',\n",
              " '아닙니다 김상훈 상병님 마무리가 진짜 예술이었습니',\n",
              " '병호',\n",
              " '이병 최병호',\n",
              " '어디 갔다 온 거야',\n",
              " '축구하고 왔는데 왜',\n",
              " '아 아닙니',\n",
              " '그 분리수거',\n",
              " ' 야 최병호 샤워하러 가자 아 네 알겠습니다',\n",
              " '아 그 샤워 끝나고 ',\n",
              " '분리수거 알려줄',\n",
              " '아 네 알겠습니',\n",
              " ' 야 가자 아 네',\n",
              " '그니까 윤신영 병장님 스타일이 딱 그거',\n",
              " '딱 찔러주면 달리기가 존 빠르니',\n",
              " '아 근데 김상훈 상병님도 달리기 엄청 빠르신 거 같습니',\n",
              " '야 나는 여기서 존 느린 편이',\n",
              " '아 그렇습니',\n",
              " '어 병호야 이제 다 했으면',\n",
              " '야 피엑스 가',\n",
              " '아 그박민석 일병이랑',\n",
              " '뭐 분리수거',\n",
              " '아 네 그렇습니',\n",
              " '아니 갔다 와 혼자 하고 있을 테니',\n",
              " '아 알겠습니다',\n",
              " '금방 갔다 오겠습니',\n",
              " '박민',\n",
              " '아 아닙니다 다녀오셔도 됩니다 ㅎ',\n",
              " '야 뭐 음료수 같은 거 뭐 아이스크림 같은 거 먹을래',\n",
              " '아 아닙니다 괜찮습니다 다녀 오 십시',\n",
              " '다녀오십시오는 명령이고 새야',\n",
              " ' 간다 아 네',\n",
              " '웃긴 게 그 이후로 연락이 한 번도 없었습니',\n",
              " '이 새 완전히 쓰레기네',\n",
              " '박민석 일병',\n",
              " '이거',\n",
              " '분리수거 알려줄 테니까 여기 앉',\n",
              " '아 네',\n",
              " '여기서는 종이랑 플라스틱이랑 붙어 있으면 다 분류해가지고 버려야 ',\n",
              " '아 네 알겠습니',\n",
              " '만약 칫솔 껍질이면 여기는 플라스틱이고 여기는 종이 잔',\n",
              " '야 박민',\n",
              " '아 네 다녀오십시오',\n",
              " ' 야 이병 최병호',\n",
              " '최일구 병장님 주무시니까 조용히 대답해',\n",
              " '알았냐',\n",
              " '아 네 알겠습니다',\n",
              " '너',\n",
              " '내가 같냐',\n",
              " '',\n",
              " '내가 같냐',\n",
              " '',\n",
              " '내가 오전에 분명히 말했지 오후에 분리수거 알려준다',\n",
              " '이건 종이니까 여기고 캔 이랑 유리는 따로 빼놔야 ',\n",
              " '아씨 카드 안 가지고 왔',\n",
              " '',\n",
              " '내가 오후에 분리수거 알려준다고 분명 말했잖',\n",
              " '아 네 맞습니',\n",
              " '근데 김상훈 상병님이',\n",
              " '핑계 대지 마',\n",
              " '김상훈 상병님이 죽으라면 죽을 거야',\n",
              " '아 아닙니',\n",
              " '죄송합니',\n",
              " '내가 잘해주니까 존 만만하게 보이',\n",
              " '',\n",
              " '같으면 계급장 떼고 맞짱 한',\n",
              " '이건 좀 특이한 건데 프링글스 통 같은 경우에는 아래 밑바닥은 쇠 같은 거거든',\n",
              " '아 ',\n",
              " '김다혜 일병님 어디 가십니까',\n",
              " '싸지',\n",
              " '',\n",
              " '어디까지 했냐',\n",
              " '아 그 계급장 떼고 맞짱 뜨시자',\n",
              " '아 그니까 맞짱 한번 뜰래',\n",
              " '아닙니다 죄송합니',\n",
              " '죄송할 짓',\n",
              " '아',\n",
              " '죄송하면 군 생활 끝나',\n",
              " '아닙니',\n",
              " '네가 사회에서 얼마나 뭐 잘 나갔든 간에 운동을 했든 간에 여기서 그냥 너는 밥이',\n",
              " '나도 처음에 헷갈렸는데 이거 금방 익숙해질 거',\n",
              " '헷갈리는 거 있으면 물어',\n",
              " '아 네',\n",
              " '알겠습니',\n",
              " '어디까지 했지',\n",
              " '그 저 밥이라고',\n",
              " '아 맞아 네가',\n",
              " '뭐라 했지',\n",
              " '사회에서 뭘 했건',\n",
              " '아',\n",
              " '아 ',\n",
              " '어',\n",
              " '그',\n",
              " '',\n",
              " '그 관심 없',\n",
              " '',\n",
              " '그',\n",
              " '내가 같냐',\n",
              " '아닙니다 절대 아닙니',\n",
              " '다음부턴 진짜 잘하겠습니',\n",
              " '군대에서 다음이란 건 없거든',\n",
              " '전쟁 나도 다음에 잘하겠다고 그럴 거야',\n",
              " '아닙니다 죄송합니',\n",
              " '죄송하면 군 생활 끝나',\n",
              " '아',\n",
              " '아닙니다 안 끝 남니',\n",
              " '네가 잘못하면 내가 욕먹는 거야 알아',\n",
              " '아 네 알고 있습니',\n",
              " '알고 있으면 똑바로 해라 앞의',\n",
              " '네 알겠습니',\n",
              " '나는 네가 사회에서 뭘 했건 간에 아무',\n",
              " '어 이거 했나',\n",
              " '',\n",
              " '어 그',\n",
              " '',\n",
              " '그',\n",
              " '앞으로 잘할 거지',\n",
              " '네 진짜 잘하겠습니',\n",
              " '진짜 죄송합니',\n",
              " '그래 앞으로 좀 잘한',\n",
              " '죄송할 짓 만들지 말',\n",
              " '네 알겠습니다',\n",
              " '그래 이거 봐봐 분리수거 알려줄',\n",
              " '유리는 이쪽에다가 따로 모아놔야 되거든',\n",
              " ' 그래야지 야 드디어 끝났냐',\n",
              " '어 일어나셨습니까',\n",
              " '야 ㅋㅋ 좀 더해봐 존 재밌으니']"
            ]
          },
          "metadata": {
            "tags": []
          },
          "execution_count": 50
        }
      ]
    },
    {
      "cell_type": "markdown",
      "metadata": {
        "id": "kKM1hhGszXYm"
      },
      "source": [
        "**3. 토크나이징**\n",
        "**4. 어휘 분석**"
      ]
    },
    {
      "cell_type": "code",
      "metadata": {
        "colab": {
          "base_uri": "https://localhost:8080/"
        },
        "id": "5-F5ZxAF1j-R",
        "outputId": "3580f75b-090d-469b-90aa-27b074462213"
      },
      "source": [
        "! pip install konlpy wordcloud"
      ],
      "execution_count": null,
      "outputs": [
        {
          "output_type": "stream",
          "text": [
            "Requirement already satisfied: konlpy in /usr/local/lib/python3.7/dist-packages (0.5.2)\n",
            "Requirement already satisfied: wordcloud in /usr/local/lib/python3.7/dist-packages (1.5.0)\n",
            "Requirement already satisfied: lxml>=4.1.0 in /usr/local/lib/python3.7/dist-packages (from konlpy) (4.2.6)\n",
            "Requirement already satisfied: colorama in /usr/local/lib/python3.7/dist-packages (from konlpy) (0.4.4)\n",
            "Requirement already satisfied: tweepy>=3.7.0 in /usr/local/lib/python3.7/dist-packages (from konlpy) (3.10.0)\n",
            "Requirement already satisfied: beautifulsoup4==4.6.0 in /usr/local/lib/python3.7/dist-packages (from konlpy) (4.6.0)\n",
            "Requirement already satisfied: JPype1>=0.7.0 in /usr/local/lib/python3.7/dist-packages (from konlpy) (1.3.0)\n",
            "Requirement already satisfied: numpy>=1.6 in /usr/local/lib/python3.7/dist-packages (from konlpy) (1.20.3)\n",
            "Requirement already satisfied: pillow in /usr/local/lib/python3.7/dist-packages (from wordcloud) (7.1.2)\n",
            "Requirement already satisfied: six>=1.10.0 in /usr/local/lib/python3.7/dist-packages (from tweepy>=3.7.0->konlpy) (1.15.0)\n",
            "Requirement already satisfied: requests[socks]>=2.11.1 in /usr/local/lib/python3.7/dist-packages (from tweepy>=3.7.0->konlpy) (2.23.0)\n",
            "Requirement already satisfied: requests-oauthlib>=0.7.0 in /usr/local/lib/python3.7/dist-packages (from tweepy>=3.7.0->konlpy) (1.3.0)\n",
            "Requirement already satisfied: typing-extensions; python_version < \"3.8\" in /usr/local/lib/python3.7/dist-packages (from JPype1>=0.7.0->konlpy) (3.7.4.3)\n",
            "Requirement already satisfied: idna<3,>=2.5 in /usr/local/lib/python3.7/dist-packages (from requests[socks]>=2.11.1->tweepy>=3.7.0->konlpy) (2.10)\n",
            "Requirement already satisfied: certifi>=2017.4.17 in /usr/local/lib/python3.7/dist-packages (from requests[socks]>=2.11.1->tweepy>=3.7.0->konlpy) (2020.12.5)\n",
            "Requirement already satisfied: urllib3!=1.25.0,!=1.25.1,<1.26,>=1.21.1 in /usr/local/lib/python3.7/dist-packages (from requests[socks]>=2.11.1->tweepy>=3.7.0->konlpy) (1.24.3)\n",
            "Requirement already satisfied: chardet<4,>=3.0.2 in /usr/local/lib/python3.7/dist-packages (from requests[socks]>=2.11.1->tweepy>=3.7.0->konlpy) (3.0.4)\n",
            "Requirement already satisfied: PySocks!=1.5.7,>=1.5.6; extra == \"socks\" in /usr/local/lib/python3.7/dist-packages (from requests[socks]>=2.11.1->tweepy>=3.7.0->konlpy) (1.7.1)\n",
            "Requirement already satisfied: oauthlib>=3.0.0 in /usr/local/lib/python3.7/dist-packages (from requests-oauthlib>=0.7.0->tweepy>=3.7.0->konlpy) (3.1.0)\n"
          ],
          "name": "stdout"
        }
      ]
    },
    {
      "cell_type": "code",
      "metadata": {
        "id": "o64Fdn0gzVqj"
      },
      "source": [
        "import konlpy\n",
        "from konlpy.tag import Kkma, Okt, Hannanum, Komoran"
      ],
      "execution_count": null,
      "outputs": []
    },
    {
      "cell_type": "code",
      "metadata": {
        "id": "xaeXkIGk5Coy"
      },
      "source": [
        "kkma = Kkma()\n",
        "okt = Okt()\n",
        "hannanum = Hannanum()\n",
        "komoran = Komoran()"
      ],
      "execution_count": null,
      "outputs": []
    },
    {
      "cell_type": "code",
      "metadata": {
        "colab": {
          "base_uri": "https://localhost:8080/"
        },
        "id": "jEwtuAIt5KqU",
        "outputId": "9320bfbf-19d5-4b38-8df6-39228bd1071f"
      },
      "source": [
        "exp = text2[1]\n",
        "print(exp)\n",
        "print(kkma.morphs(exp))\n",
        "print(okt.morphs(exp))\n",
        "print(hannanum.morphs(exp)) # 선택!!\n",
        "print(komoran.morphs(exp))"
      ],
      "execution_count": null,
      "outputs": [
        {
          "output_type": "stream",
          "text": [
            "존 화나게\n",
            "['존', '화나', '게']\n",
            "['존', '화나게']\n",
            "['졸', 'ㄴ', '화나', '게']\n",
            "['존', '화나', '게']\n"
          ],
          "name": "stdout"
        }
      ]
    },
    {
      "cell_type": "code",
      "metadata": {
        "colab": {
          "base_uri": "https://localhost:8080/"
        },
        "id": "axYvoQtB5rkV",
        "outputId": "bcf2353f-d9ec-4e82-89a6-e7f81a80f41a"
      },
      "source": [
        "# 품사 태깅\n",
        "exp = text2[1]\n",
        "print(exp)\n",
        "print(kkma.pos(exp))\n",
        "print(okt.pos(exp))\n",
        "print(hannanum.pos(exp))\n",
        "print(komoran.pos(exp))"
      ],
      "execution_count": null,
      "outputs": [
        {
          "output_type": "stream",
          "text": [
            "존 화나게\n",
            "[('존', 'NNP'), ('화나', 'VV'), ('게', 'ECD')]\n",
            "[('존', 'Noun'), ('화나게', 'Verb')]\n",
            "[('졸', 'P'), ('ㄴ', 'E'), ('화나', 'P'), ('게', 'E')]\n",
            "[('존', 'NNP'), ('화나', 'VV'), ('게', 'EC')]\n"
          ],
          "name": "stdout"
        }
      ]
    },
    {
      "cell_type": "markdown",
      "metadata": {
        "id": "xJOM9sJb6UAf"
      },
      "source": [
        "5. 불용어 처리"
      ]
    },
    {
      "cell_type": "code",
      "metadata": {
        "id": "0QxgMQUV9O38"
      },
      "source": [
        "stopwords = ['의','가','이','은','들','는','좀','잘','걍','과','도','를','으로','자','에','와','한','하다']"
      ],
      "execution_count": null,
      "outputs": []
    },
    {
      "cell_type": "markdown",
      "metadata": {
        "id": "Sh17SDGY6Vut"
      },
      "source": [
        "6. 텍스트 벡터화"
      ]
    },
    {
      "cell_type": "code",
      "metadata": {
        "id": "icKrTpaspUXP"
      },
      "source": [
        "#word2vec\n",
        "vec = []\n",
        "for i in range(len(text2)):\n",
        "    vec2 = []\n",
        "    tm_ls = hannanum.nouns(text2[i])\n",
        "    if len(tm_ls) == 0: #비어있는 리스트 삭제\n",
        "        pass\n",
        "    else:\n",
        "        for j in range(len(tm_ls)): #비어있지 않은 리스트 중에서 단어가 한 음절인 것은 pass\n",
        "            if len(tm_ls[j]) > 1:\n",
        "                vec2.append(tm_ls[j])\n",
        "            else:\n",
        "                pass\n",
        "    if len(vec2) == 0:\n",
        "        pass\n",
        "    else:\n",
        "        vec.append(vec2)"
      ],
      "execution_count": null,
      "outputs": []
    },
    {
      "cell_type": "code",
      "metadata": {
        "id": "PXNbllC6qs1J"
      },
      "source": [
        "from gensim.models import Word2Vec\n",
        "model = Word2Vec(vec, min_count=1,window=3,iter=20, size=100, sg=1) #skip-gram"
      ],
      "execution_count": null,
      "outputs": []
    },
    {
      "cell_type": "markdown",
      "metadata": {
        "id": "Bd87ttB-_WJ0"
      },
      "source": [
        "**wordcloud**"
      ]
    },
    {
      "cell_type": "code",
      "metadata": {
        "id": "laKLRivWB8gj"
      },
      "source": [
        "!apt-get update -qq\n",
        "!apt-get install fonts-nanum* -qq"
      ],
      "execution_count": null,
      "outputs": []
    },
    {
      "cell_type": "code",
      "metadata": {
        "colab": {
          "base_uri": "https://localhost:8080/"
        },
        "id": "XZY4M3CfCCOp",
        "outputId": "66a271ea-b60e-4658-fb04-52a27f7eaef4"
      },
      "source": [
        "import matplotlib.font_manager as fm\n",
        "import matplotlib.pyplot as plt\n",
        "\n",
        "path = '/usr/share/fonts/truetype/nanum/NanumGothicEco.ttf'\n",
        "font_name = fm.FontProperties(fname=path, size=10).get_name()\n",
        "print(font_name)\n",
        "plt.rc('font', family=font_name)\n",
        "fm._rebuild()"
      ],
      "execution_count": null,
      "outputs": [
        {
          "output_type": "stream",
          "text": [
            "NanumGothic Eco\n"
          ],
          "name": "stdout"
        }
      ]
    },
    {
      "cell_type": "code",
      "metadata": {
        "id": "sITj6VYfHBfS"
      },
      "source": [
        "noun_list = []\n",
        "for i in vec:\n",
        "  for j in i:\n",
        "    noun_list.append(j)"
      ],
      "execution_count": null,
      "outputs": []
    },
    {
      "cell_type": "code",
      "metadata": {
        "id": "ZG8NwZMiF6zb"
      },
      "source": [
        "from collections import Counter\n",
        "\n",
        "# 빈도수 계산\n",
        "count = Counter(noun_list)\n",
        "\n",
        "# 상위 50건 추출\n",
        "most = count.most_common(50)\n",
        "\n",
        "# 딕셔너리 구성\n",
        "tags = {}\n",
        "for n, c in most:\n",
        "  tags[n] = c"
      ],
      "execution_count": null,
      "outputs": []
    },
    {
      "cell_type": "code",
      "metadata": {
        "colab": {
          "base_uri": "https://localhost:8080/",
          "height": 286
        },
        "id": "tD5zdDKeoE2F",
        "outputId": "e9f67adb-d6ad-4414-a573-1624b2f3cf7c"
      },
      "source": [
        "from wordcloud import WordCloud\n",
        "wc = WordCloud(font_path=\"NanumGothic\", width=600, height=400,\n",
        "               scale=2.0, max_font_size=250)\n",
        "gen = wc.generate_from_frequencies(tags)\n",
        "plt.figure()\n",
        "plt.imshow(gen, interpolation='bilinear')"
      ],
      "execution_count": null,
      "outputs": [
        {
          "output_type": "execute_result",
          "data": {
            "text/plain": [
              "<matplotlib.image.AxesImage at 0x7faef0c2ea10>"
            ]
          },
          "metadata": {
            "tags": []
          },
          "execution_count": 61
        },
        {
          "output_type": "display_data",
          "data": {
            "image/png": "[encoded data removed]",
            "text/plain": [
              "<Figure size 432x288 with 1 Axes>"
            ]
          },
          "metadata": {
            "tags": [],
            "needs_background": "light"
          }
        }
      ]
    },
    {
      "cell_type": "markdown",
      "metadata": {
        "id": "EwiWh_mHo1v0"
      },
      "source": [
        "token 군집화 (kmeans)"
      ]
    },
    {
      "cell_type": "code",
      "metadata": {
        "colab": {
          "base_uri": "https://localhost:8080/"
        },
        "id": "86Q0CbjVr65J",
        "outputId": "380df96d-c33b-4781-b167-1d4a00cc43c9"
      },
      "source": [
        "print(model.wv.syn0.shape) #w2v size  -> 14개의 단어가 100차원을 가지고 있음\n",
        "\n",
        "#14개의 단어가 100차원으로 벡터화된 수치를 넣어줌\n",
        "word_vectors = model.wv.syn0 # model.wv.vectors와 같은 값을 가짐"
      ],
      "execution_count": null,
      "outputs": [
        {
          "output_type": "stream",
          "text": [
            "(250, 100)\n"
          ],
          "name": "stdout"
        },
        {
          "output_type": "stream",
          "text": [
            "/usr/local/lib/python3.7/dist-packages/ipykernel_launcher.py:1: DeprecationWarning: Call to deprecated `syn0` (Attribute will be removed in 4.0.0, use self.wv.vectors instead).\n",
            "  \"\"\"Entry point for launching an IPython kernel.\n",
            "/usr/local/lib/python3.7/dist-packages/ipykernel_launcher.py:4: DeprecationWarning: Call to deprecated `syn0` (Attribute will be removed in 4.0.0, use self.wv.vectors instead).\n",
            "  after removing the cwd from sys.path.\n"
          ],
          "name": "stderr"
        }
      ]
    },
    {
      "cell_type": "code",
      "metadata": {
        "colab": {
          "base_uri": "https://localhost:8080/"
        },
        "id": "FSTJ9j-zsDvz",
        "outputId": "2932d362-3b55-4498-c643-e6a321a96324"
      },
      "source": [
        "!pip3 install KMeans"
      ],
      "execution_count": null,
      "outputs": [
        {
          "output_type": "stream",
          "text": [
            "Requirement already satisfied: KMeans in /usr/local/lib/python3.7/dist-packages (1.0.2)\n"
          ],
          "name": "stdout"
        }
      ]
    },
    {
      "cell_type": "code",
      "metadata": {
        "id": "JhqJcLrssFnU"
      },
      "source": [
        "from sklearn.cluster import KMeans\n",
        "num_clusters = 4 #cluster의 갯수 산정\n",
        "kmeans_clustering = KMeans( n_clusters = num_clusters )#default"
      ],
      "execution_count": null,
      "outputs": []
    },
    {
      "cell_type": "code",
      "metadata": {
        "colab": {
          "base_uri": "https://localhost:8080/"
        },
        "id": "0_HFKbmvsIrM",
        "outputId": "e87cf16a-be5a-49c6-840e-8a32306002bb"
      },
      "source": [
        "idx = kmeans_clustering.fit_predict( word_vectors ) #각 단어가 어떤 군집에 속하는지 확인\n",
        "idx"
      ],
      "execution_count": null,
      "outputs": [
        {
          "output_type": "execute_result",
          "data": {
            "text/plain": [
              "array([1, 1, 2, 0, 0, 2, 0, 2, 0, 2, 2, 1, 3, 2, 0, 2, 0, 0, 3, 1, 1, 0,\n",
              "       2, 3, 1, 2, 0, 3, 1, 2, 1, 2, 1, 0, 3, 0, 2, 3, 2, 3, 2, 1, 1, 2,\n",
              "       2, 0, 0, 2, 0, 3, 3, 2, 2, 2, 2, 2, 2, 3, 3, 1, 3, 1, 0, 0, 2, 0,\n",
              "       0, 0, 0, 2, 0, 1, 0, 0, 3, 3, 0, 2, 0, 2, 1, 1, 2, 3, 0, 3, 0, 2,\n",
              "       2, 2, 0, 1, 1, 3, 1, 3, 3, 3, 1, 2, 2, 1, 3, 1, 0, 0, 0, 0, 0, 0,\n",
              "       2, 2, 2, 3, 3, 2, 1, 0, 1, 3, 1, 0, 1, 2, 0, 0, 0, 1, 2, 3, 1, 3,\n",
              "       1, 2, 3, 0, 2, 0, 2, 0, 2, 2, 0, 1, 1, 2, 2, 3, 2, 0, 1, 2, 3, 1,\n",
              "       3, 1, 0, 1, 2, 1, 0, 3, 2, 0, 2, 0, 3, 2, 1, 0, 0, 1, 0, 3, 1, 0,\n",
              "       1, 1, 1, 1, 0, 2, 0, 0, 3, 0, 0, 2, 0, 0, 1, 2, 1, 3, 3, 2, 0, 2,\n",
              "       2, 2, 3, 2, 2, 2, 1, 2, 2, 2, 2, 0, 2, 3, 3, 1, 0, 1, 0, 0, 1, 0,\n",
              "       3, 1, 2, 1, 0, 0, 0, 3, 2, 1, 2, 2, 2, 0, 0, 1, 2, 3, 2, 2, 3, 2,\n",
              "       0, 1, 3, 0, 0, 2, 2, 0], dtype=int32)"
            ]
          },
          "metadata": {
            "tags": []
          },
          "execution_count": 64
        }
      ]
    },
    {
      "cell_type": "code",
      "metadata": {
        "colab": {
          "base_uri": "https://localhost:8080/"
        },
        "id": "R3H9KBazsKdd",
        "outputId": "5bdd72e1-1752-485e-97c7-c4fba8954c0f"
      },
      "source": [
        "# 각 어휘 단어를 클러스터 번호에 매핑되게 word/Index 사전을 만든다.\n",
        "idx = list(idx)\n",
        "names = model.wv.index2word #학습된 단어들 unique\n",
        "word_centroid_map = {names[i]: idx[i] for i in range(len(names))}#각 단어 별로 클러스터 번호에 매칭\n",
        "word_centroid_map"
      ],
      "execution_count": null,
      "outputs": [
        {
          "output_type": "execute_result",
          "data": {
            "text/plain": [
              "{'ㅋㅋ': 2,\n",
              " 'ㅎ허': 2,\n",
              " '가게': 1,\n",
              " '가보셨습니': 2,\n",
              " '가위바위보': 0,\n",
              " '가위바위보이겼어야': 2,\n",
              " '가정': 2,\n",
              " '가지': 3,\n",
              " '같습니': 1,\n",
              " '개털니': 0,\n",
              " '거기': 0,\n",
              " '거지': 0,\n",
              " '건가': 0,\n",
              " '경우': 1,\n",
              " '계급': 3,\n",
              " '계급장': 0,\n",
              " '계속': 1,\n",
              " '곡괭이': 1,\n",
              " '관심': 3,\n",
              " '괜찮습니': 0,\n",
              " '교육': 2,\n",
              " '군기': 0,\n",
              " '군대': 0,\n",
              " '군인전': 2,\n",
              " '군장': 2,\n",
              " '귀차': 3,\n",
              " '그거': 2,\n",
              " '그렇습니': 3,\n",
              " '그만하십쇼': 3,\n",
              " '그박민석': 3,\n",
              " '근데': 1,\n",
              " '김다혜': 1,\n",
              " '김상훈': 2,\n",
              " '껍질': 1,\n",
              " '끊어습니': 0,\n",
              " '끝났다': 2,\n",
              " '끝냈겠습니': 2,\n",
              " '끝입니': 0,\n",
              " '내일': 2,\n",
              " '누구': 2,\n",
              " '누군데': 1,\n",
              " '다녀왔습니': 3,\n",
              " '다들': 3,\n",
              " '다음': 3,\n",
              " '다음부턴': 2,\n",
              " '다행': 2,\n",
              " '담당': 0,\n",
              " '담배': 1,\n",
              " '당장': 3,\n",
              " '대답': 1,\n",
              " '대답해': 0,\n",
              " '대첩': 3,\n",
              " '동안': 2,\n",
              " '동작': 2,\n",
              " '되잔': 2,\n",
              " '뜰래': 2,\n",
              " '마무리': 0,\n",
              " '마지막': 1,\n",
              " '만큼': 0,\n",
              " '말입니': 3,\n",
              " '말했잖': 1,\n",
              " '맞습니': 2,\n",
              " '맞짱': 1,\n",
              " '매일매일': 1,\n",
              " '맨솔이잖': 3,\n",
              " '먹을래': 1,\n",
              " '명령': 0,\n",
              " '명령한': 0,\n",
              " '모르겠습니': 2,\n",
              " '모아놔야': 0,\n",
              " '모양': 2,\n",
              " '무시해도': 1,\n",
              " '문제': 1,\n",
              " '문젠데': 1,\n",
              " '물자창고': 3,\n",
              " '뭡니까': 3,\n",
              " '밑바닥': 3,\n",
              " '박민': 2,\n",
              " '박민석': 0,\n",
              " '배수': 0,\n",
              " '배수용': 1,\n",
              " '변수': 0,\n",
              " '병사': 2,\n",
              " '병사들': 1,\n",
              " '병장님': 3,\n",
              " '병호': 2,\n",
              " '병호야': 0,\n",
              " '보이': 2,\n",
              " '봤습니': 3,\n",
              " '부대': 3,\n",
              " '부족': 2,\n",
              " '부족한데': 2,\n",
              " '분류': 1,\n",
              " '분리수거': 2,\n",
              " '분명': 0,\n",
              " '불복종': 3,\n",
              " '빗줄기': 2,\n",
              " '빨래': 2,\n",
              " '빼놔': 0,\n",
              " '사건': 0,\n",
              " '사람': 2,\n",
              " '사회': 2,\n",
              " '삽시간': 0,\n",
              " '삽질': 1,\n",
              " '상병': 0,\n",
              " '상병님': 1,\n",
              " '상황': 0,\n",
              " '생활': 1,\n",
              " '샤워': 0,\n",
              " '선임자': 3,\n",
              " '센티': 2,\n",
              " '소대장': 0,\n",
              " '소대장님': 2,\n",
              " '소리': 2,\n",
              " '소위': 2,\n",
              " '소집': 0,\n",
              " '스무': 0,\n",
              " '스타일': 2,\n",
              " '시간': 3,\n",
              " '시간부': 2,\n",
              " '시원치': 1,\n",
              " '시작': 1,\n",
              " '시작했습니': 1,\n",
              " '시행': 3,\n",
              " '실시': 2,\n",
              " '실전처': 2,\n",
              " '실제': 1,\n",
              " '실패': 1,\n",
              " '실화': 2,\n",
              " '십쇼': 1,\n",
              " '십시': 0,\n",
              " '쏘가리': 2,\n",
              " '쓰레기': 3,\n",
              " '아니잖습니까': 2,\n",
              " '아닙니': 2,\n",
              " '아래': 2,\n",
              " '아수라장': 2,\n",
              " '아씨': 3,\n",
              " '아이스크림': 0,\n",
              " '아이씨': 3,\n",
              " '않았': 0,\n",
              " '알겠습니': 2,\n",
              " '앞쪽': 0,\n",
              " '야임다': 2,\n",
              " '양반': 3,\n",
              " '어디': 2,\n",
              " '어딨습니': 2,\n",
              " '어딨어': 2,\n",
              " '어딨지': 1,\n",
              " '얼차려': 3,\n",
              " '없었습니': 0,\n",
              " '엎드려뻗쳐': 1,\n",
              " '여기': 0,\n",
              " '여깄습니': 3,\n",
              " '연락': 1,\n",
              " '연병장': 1,\n",
              " '예술이었습니': 2,\n",
              " '오겠습니': 3,\n",
              " '오성진': 1,\n",
              " '오전': 0,\n",
              " '오후': 3,\n",
              " '올라가겠습니': 1,\n",
              " '옵니': 2,\n",
              " '완전': 0,\n",
              " '우리': 0,\n",
              " '운동': 2,\n",
              " '웃음': 2,\n",
              " '유리': 2,\n",
              " '윤신영': 2,\n",
              " '은젠데': 0,\n",
              " '음료수': 1,\n",
              " '이거': 3,\n",
              " '이것': 1,\n",
              " '이겨보겠습니': 3,\n",
              " '이럴': 3,\n",
              " '이병': 0,\n",
              " '이유': 2,\n",
              " '이쪽': 0,\n",
              " '이틀째': 0,\n",
              " '이후': 0,\n",
              " '인솔자': 1,\n",
              " '일단': 0,\n",
              " '일병': 2,\n",
              " '일병님': 1,\n",
              " '일병임다': 0,\n",
              " '일어나': 2,\n",
              " '일주일': 0,\n",
              " '있노': 3,\n",
              " '있습니': 3,\n",
              " '자존심': 1,\n",
              " '작년': 0,\n",
              " '작업': 0,\n",
              " '작전': 0,\n",
              " '잘못': 1,\n",
              " '잘하겠습니': 1,\n",
              " '재밌으': 0,\n",
              " '저도': 1,\n",
              " '적출': 2,\n",
              " '전시상황': 2,\n",
              " '전쟁': 0,\n",
              " '정도': 0,\n",
              " '제안': 2,\n",
              " '종교': 2,\n",
              " '종이': 1,\n",
              " '죄송': 0,\n",
              " '죄송합니': 2,\n",
              " '주말': 2,\n",
              " '죽겠습니': 0,\n",
              " '중누': 2,\n",
              " '중대': 0,\n",
              " '중대장': 0,\n",
              " '중요': 1,\n",
              " '중이': 1,\n",
              " '지금': 0,\n",
              " '지렸': 1,\n",
              " '지이': 1,\n",
              " '지파': 3,\n",
              " '지휘관': 1,\n",
              " '진짜': 3,\n",
              " '진행': 3,\n",
              " '진행하시': 0,\n",
              " '징계위원회': 0,\n",
              " '처음': 2,\n",
              " '체력': 2,\n",
              " '초소': 0,\n",
              " '최병호': 2,\n",
              " '최일구': 1,\n",
              " '축구': 2,\n",
              " '칫솔': 2,\n",
              " '카드': 2,\n",
              " '크긴': 1,\n",
              " '테니스장': 2,\n",
              " '통제': 0,\n",
              " '튀어나오긴': 3,\n",
              " '특이한': 0,\n",
              " '파이프': 0,\n",
              " '팍팍해': 3,\n",
              " '퍼졌': 3,\n",
              " '평생': 0,\n",
              " '프링글스': 0,\n",
              " '플라스틱': 0,\n",
              " '피엑스': 2,\n",
              " '핑계': 2,\n",
              " '하십쇼': 0,\n",
              " '한번': 3,\n",
              " '핰ㅋㅋ': 1,\n",
              " '했습니': 0,\n",
              " '행보관': 0,\n",
              " '확인': 0,\n",
              " '훈련': 0}"
            ]
          },
          "metadata": {
            "tags": []
          },
          "execution_count": 65
        }
      ]
    },
    {
      "cell_type": "code",
      "metadata": {
        "colab": {
          "base_uri": "https://localhost:8080/"
        },
        "id": "871yz2MpsOh9",
        "outputId": "d48bb7af-8914-4df5-cbd6-c45f28481c76"
      },
      "source": [
        "for cluster in range(num_clusters):\n",
        "    # 클러스터 번호를 출력\n",
        "    print(\"\\nCluster {}\".format(cluster))\n",
        "    \n",
        "    # 클러스터번호와 클러스터에 있는 단어를 찍는다.\n",
        "    words = []\n",
        "    for i in range(0,len(list(word_centroid_map.values()))): #list(dict)키 값만 리스트로 반환\n",
        "        #list(dict.values)는 value값이 리스트로 반환\n",
        "        if( list(word_centroid_map.values())[i] == cluster ):\n",
        "            words.append(list(word_centroid_map.keys())[i])\n",
        "    print(words)"
      ],
      "execution_count": null,
      "outputs": [
        {
          "output_type": "stream",
          "text": [
            "\n",
            "Cluster 0\n",
            "['상병', '작전', '배수', '여기', '명령', '죄송', '박민석', '행보관', '작업', '정도', '하십쇼', '우리', '끊어습니', '일병임다', '마무리', '거지', '담당', '사건', '완전', '군대', '분명', '이병', '샤워', '플라스틱', '계급장', '가위바위보', '일주일', '괜찮습니', '상황', '일단', '앞쪽', '초소', '끝입니', '확인', '파이프', '만큼', '작년', '스무', '했습니', '지금', '변수', '훈련', '평생', '통제', '건가', '명령한', '진행하시', '죽겠습니', '징계위원회', '소집', '은젠데', '거기', '군기', '삽시간', '중대', '소대장', '중대장', '개털니', '이틀째', '않았', '병호야', '아이스크림', '십시', '이후', '없었습니', '대답해', '오전', '빼놔', '특이한', '프링글스', '전쟁', '이쪽', '모아놔야', '재밌으']\n",
            "\n",
            "Cluster 1\n",
            "['엎드려뻗쳐', '최일구', '상병님', '근데', '김다혜', '지휘관', '담배', '같습니', '문제', '종이', '맞짱', '자존심', '마지막', '일병님', '생활', '잘하겠습니', '삽질', '시원치', '가게', '지이', '누군데', '인솔자', '배수용', '어딨지', '실패', '중요', '이것', '크긴', '무시해도', '십쇼', '올라가겠습니', '핰ㅋㅋ', '곡괭이', '계속', '오성진', '실제', '대답', '중이', '시작', '시작했습니', '문젠데', '저도', '병사들', '매일매일', '연병장', '지렸', '음료수', '먹을래', '연락', '분류', '껍질', '말했잖', '경우', '잘못']\n",
            "\n",
            "Cluster 2\n",
            "['일병', '분리수거', '알겠습니', '김상훈', '박민', '소대장님', '죄송합니', '센티', '아닙니', '누구', '병사', '동작', '병호', '최병호', '사회', '주말', '체력', '제안', '그거', '테니스장', '처음', '전시상황', '실시', '교육', '종교', '유리', '어디', '가위바위보이겼어야', '어딨어', '내일', '야임다', '사람', '옵니', '부족한데', '모르겠습니', '이유', '부족', '가보셨습니', '되잔', '적출', '가정', '아니잖습니까', '실전처', '군인전', 'ㅎ허', '소리', '시간부', '실화', '중누', '끝냈겠습니', '어딨습니', '빗줄기', '모양', '동안', '군장', '웃음', '쏘가리', '소위', '다행', '아수라장', '빨래', '끝났다', '예술이었습니', '축구', '윤신영', '스타일', '피엑스', '칫솔', '카드', '맞습니', '핑계', '보이', '아래', '뜰래', '운동', '다음부턴', '일어나', 'ㅋㅋ']\n",
            "\n",
            "Cluster 3\n",
            "['진짜', '이거', '말입니', '다음', '시간', '계급', '오후', '양반', '진행', '불복종', '얼차려', '한번', '병장님', '그렇습니', '부대', '이겨보겠습니', '팍팍해', '맨솔이잖', '여깄습니', '아이씨', '귀차', '시행', '그만하십쇼', '뭡니까', '지파', '튀어나오긴', '당장', '봤습니', '물자창고', '가지', '이럴', '선임자', '있노', '퍼졌', '다들', '대첩', '다녀왔습니', '그박민석', '오겠습니', '쓰레기', '아씨', '밑바닥', '관심', '있습니']\n"
          ],
          "name": "stdout"
        }
      ]
    },
    {
      "cell_type": "markdown",
      "metadata": {
        "id": "ED0fWTn755ma"
      },
      "source": [
        "LDA - gensim"
      ]
    },
    {
      "cell_type": "code",
      "metadata": {
        "colab": {
          "base_uri": "https://localhost:8080/"
        },
        "id": "_pY7lXN559Lc",
        "outputId": "4e4fd3b9-9bff-4222-f963-8ce2c9cef31d"
      },
      "source": [
        "import pandas as pd\n",
        "doc = pd.DataFrame({'tokens':vec})\n",
        "tokenized_doc = doc['tokens']\n",
        "tokenized_doc"
      ],
      "execution_count": null,
      "outputs": [
        {
          "output_type": "execute_result",
          "data": {
            "text/plain": [
              "0         [주말, 배수, 작업]\n",
              "1               [죄송합니]\n",
              "2          [가위바위보이겼어야]\n",
              "3      [우리, 부대, 가위바위보]\n",
              "4                 [우리]\n",
              "            ...       \n",
              "233               [죄송]\n",
              "234         [이거, 분리수거]\n",
              "235     [유리, 이쪽, 모아놔야]\n",
              "236              [일어나]\n",
              "237          [ㅋㅋ, 재밌으]\n",
              "Name: tokens, Length: 238, dtype: object"
            ]
          },
          "metadata": {
            "tags": []
          },
          "execution_count": 67
        }
      ]
    },
    {
      "cell_type": "code",
      "metadata": {
        "colab": {
          "base_uri": "https://localhost:8080/"
        },
        "id": "JtGy_8Q7_wj0",
        "outputId": "b9b1116c-b25c-46e3-ed30-33cfefee0576"
      },
      "source": [
        "#단어 정수 인코딩&빈도수\n",
        "from gensim import corpora\n",
        "dictionary = corpora.Dictionary(tokenized_doc)\n",
        "corpus = [dictionary.doc2bow(text) for text in tokenized_doc]\n",
        "print(corpus[0])  #첫번째 doc에서의 각 단어 빈도수"
      ],
      "execution_count": null,
      "outputs": [
        {
          "output_type": "stream",
          "text": [
            "[(0, 1), (1, 1), (2, 1)]\n"
          ],
          "name": "stdout"
        }
      ]
    },
    {
      "cell_type": "code",
      "metadata": {
        "colab": {
          "base_uri": "https://localhost:8080/"
        },
        "id": "iKr1DWIwBo5c",
        "outputId": "2f00f43b-ade3-4662-e6d0-0f8002f38fb4"
      },
      "source": [
        "len(dictionary)"
      ],
      "execution_count": null,
      "outputs": [
        {
          "output_type": "execute_result",
          "data": {
            "text/plain": [
              "250"
            ]
          },
          "metadata": {
            "tags": []
          },
          "execution_count": 69
        }
      ]
    },
    {
      "cell_type": "code",
      "metadata": {
        "colab": {
          "base_uri": "https://localhost:8080/"
        },
        "id": "BkvWSH74CxlV",
        "outputId": "2bad75d2-32d2-4a0a-cdbc-5aa322a092ac"
      },
      "source": [
        "import gensim\n",
        "\n",
        "NUM_TOPICS = 4\n",
        "ldamodel = gensim.models.ldamodel.LdaModel(corpus, num_topics = NUM_TOPICS, id2word=dictionary, passes=10)\n",
        "for topic in ldamodel.print_topics():\n",
        "    print(topic)\n"
      ],
      "execution_count": null,
      "outputs": [
        {
          "output_type": "stream",
          "text": [
            "(0, '0.021*\"문제\" + 0.021*\"배수\" + 0.021*\"맞짱\" + 0.015*\"센티\" + 0.015*\"다음\" + 0.015*\"오후\" + 0.015*\"정도\" + 0.015*\"분명\" + 0.015*\"전시상황\" + 0.015*\"한번\"')\n",
            "(1, '0.065*\"엎드려뻗쳐\" + 0.043*\"분리수거\" + 0.036*\"김상훈\" + 0.031*\"이거\" + 0.025*\"아닙니\" + 0.019*\"행보관\" + 0.019*\"근데\" + 0.019*\"병호\" + 0.019*\"상병님\" + 0.013*\"병사\"')\n",
            "(2, '0.062*\"최일구\" + 0.056*\"일병\" + 0.045*\"상병\" + 0.036*\"박민\" + 0.026*\"소대장님\" + 0.026*\"박민석\" + 0.026*\"죄송합니\" + 0.021*\"죄송\" + 0.021*\"김다혜\" + 0.017*\"엎드려뻗쳐\"')\n",
            "(3, '0.041*\"작전\" + 0.041*\"알겠습니\" + 0.041*\"여기\" + 0.026*\"배수\" + 0.025*\"명령\" + 0.021*\"진짜\" + 0.016*\"하십쇼\" + 0.016*\"동작\" + 0.016*\"종이\" + 0.011*\"김상훈\"')\n"
          ],
          "name": "stdout"
        }
      ]
    },
    {
      "cell_type": "code",
      "metadata": {
        "colab": {
          "base_uri": "https://localhost:8080/"
        },
        "id": "56YLN-y5C3dG",
        "outputId": "bc87cc4f-c7d5-47cc-e01b-a52c1a5f079e"
      },
      "source": [
        "#문서별 토픽 분포\n",
        "for i, topic_list in enumerate(ldamodel[corpus]):\n",
        "    if i==15:\n",
        "        break\n",
        "    print(i,'번째 문서의 topic 비율은',topic_list)"
      ],
      "execution_count": null,
      "outputs": [
        {
          "output_type": "stream",
          "text": [
            "0 번째 문서의 topic 비율은 [(0, 0.06602376), (1, 0.064245865), (2, 0.06253956), (3, 0.80719084)]\n",
            "1 번째 문서의 topic 비율은 [(0, 0.12503755), (1, 0.12504545), (2, 0.62488806), (3, 0.12502891)]\n",
            "2 번째 문서의 topic 비율은 [(0, 0.12522468), (1, 0.12520282), (2, 0.62440115), (3, 0.12517133)]\n",
            "3 번째 문서의 topic 비율은 [(0, 0.06449688), (1, 0.062586166), (2, 0.062572844), (3, 0.8103441)]\n",
            "4 번째 문서의 topic 비율은 [(0, 0.61431515), (1, 0.125158), (2, 0.12513344), (3, 0.13539341)]\n",
            "5 번째 문서의 topic 비율은 [(0, 0.80390525), (1, 0.06255438), (2, 0.07056782), (3, 0.062972486)]\n",
            "6 번째 문서의 topic 비율은 [(0, 0.12503518), (1, 0.12502404), (2, 0.62492067), (3, 0.12502016)]\n",
            "7 번째 문서의 topic 비율은 [(0, 0.0833567), (1, 0.083345555), (2, 0.7499545), (3, 0.08334318)]\n",
            "8 번째 문서의 topic 비율은 [(0, 0.12510009), (1, 0.13100632), (2, 0.61881703), (3, 0.12507659)]\n",
            "9 번째 문서의 topic 비율은 [(0, 0.083415344), (1, 0.74224234), (2, 0.09094623), (3, 0.083396085)]\n",
            "10 번째 문서의 topic 비율은 [(0, 0.06256587), (1, 0.8111299), (2, 0.06255037), (3, 0.063753866)]\n",
            "11 번째 문서의 topic 비율은 [(0, 0.083467074), (1, 0.08752487), (2, 0.08343556), (3, 0.7455725)]\n",
            "12 번째 문서의 topic 비율은 [(0, 0.12522443), (1, 0.12520255), (2, 0.62440175), (3, 0.1251713)]\n",
            "13 번째 문서의 topic 비율은 [(0, 0.6245837), (1, 0.12515473), (2, 0.12513074), (3, 0.1251308)]\n",
            "14 번째 문서의 topic 비율은 [(0, 0.12509912), (1, 0.6247705), (2, 0.12506507), (3, 0.12506528)]\n"
          ],
          "name": "stdout"
        }
      ]
    },
    {
      "cell_type": "code",
      "metadata": {
        "id": "xNxW8yDJDHDC"
      },
      "source": [
        "def make_topictable_per_doc(ldamodel, corpus):\n",
        "    topic_table = pd.DataFrame()\n",
        "\n",
        "    # 몇 번째 문서인지를 의미하는 문서 번호와 해당 문서의 토픽 비중을 한 줄씩 꺼내온다.\n",
        "    for i, topic_list in enumerate(ldamodel[corpus]):\n",
        "        doc = topic_list[0] if ldamodel.per_word_topics else topic_list            \n",
        "        doc = sorted(doc, key=lambda x: (x[1]), reverse=True)\n",
        "        # 각 문서에 대해서 비중이 높은 토픽순으로 토픽을 정렬한다.\n",
        "        # EX) 정렬 전 0번 문서 : (2번 토픽, 48.5%), (8번 토픽, 25%), (10번 토픽, 5%), (12번 토픽, 21.5%), \n",
        "        # Ex) 정렬 후 0번 문서 : (2번 토픽, 48.5%), (8번 토픽, 25%), (12번 토픽, 21.5%), (10번 토픽, 5%)\n",
        "        # 48 > 25 > 21 > 5 순으로 정렬이 된 것.\n",
        "\n",
        "        # 모든 문서에 대해서 각각 아래를 수행\n",
        "        for j, (topic_num, prop_topic) in enumerate(doc): #  몇 번 토픽인지와 비중을 나눠서 저장한다.\n",
        "            if j == 0:  # 정렬을 한 상태이므로 가장 앞에 있는 것이 가장 비중이 높은 토픽\n",
        "                topic_table = topic_table.append(pd.Series([int(topic_num), round(prop_topic,4), topic_list]), ignore_index=True)\n",
        "                # 가장 비중이 높은 토픽과, 가장 비중이 높은 토픽의 비중과, 전체 토픽의 비중을 저장한다.\n",
        "            else:\n",
        "                break\n",
        "    return(topic_table)"
      ],
      "execution_count": null,
      "outputs": []
    },
    {
      "cell_type": "code",
      "metadata": {
        "colab": {
          "base_uri": "https://localhost:8080/",
          "height": 795
        },
        "id": "m6rDDYsdDgYk",
        "outputId": "d135d638-711c-4408-e7a4-461dc17c07f2"
      },
      "source": [
        "topictable = make_topictable_per_doc(ldamodel, corpus)\n",
        "topictable = topictable.reset_index() # 문서 번호을 의미하는 열(column)로 사용하기 위해서 인덱스 열을 하나 더 만든다.\n",
        "topictable.columns = ['문서 번호', '가장 비중이 높은 토픽', '가장 높은 토픽의 비중', '각 토픽의 비중']\n",
        "topictable[:15]"
      ],
      "execution_count": null,
      "outputs": [
        {
          "output_type": "execute_result",
          "data": {
            "text/html": [
              "<div>\n",
              "<style scoped>\n",
              "    .dataframe tbody tr th:only-of-type {\n",
              "        vertical-align: middle;\n",
              "    }\n",
              "\n",
              "    .dataframe tbody tr th {\n",
              "        vertical-align: top;\n",
              "    }\n",
              "\n",
              "    .dataframe thead th {\n",
              "        text-align: right;\n",
              "    }\n",
              "</style>\n",
              "<table border=\"1\" class=\"dataframe\">\n",
              "  <thead>\n",
              "    <tr style=\"text-align: right;\">\n",
              "      <th></th>\n",
              "      <th>문서 번호</th>\n",
              "      <th>가장 비중이 높은 토픽</th>\n",
              "      <th>가장 높은 토픽의 비중</th>\n",
              "      <th>각 토픽의 비중</th>\n",
              "    </tr>\n",
              "  </thead>\n",
              "  <tbody>\n",
              "    <tr>\n",
              "      <th>0</th>\n",
              "      <td>0</td>\n",
              "      <td>3.0</td>\n",
              "      <td>0.8071</td>\n",
              "      <td>[(0, 0.06607638), (1, 0.06424655), (2, 0.06253...</td>\n",
              "    </tr>\n",
              "    <tr>\n",
              "      <th>1</th>\n",
              "      <td>1</td>\n",
              "      <td>2.0</td>\n",
              "      <td>0.6249</td>\n",
              "      <td>[(0, 0.12503757), (1, 0.12504545), (2, 0.62488...</td>\n",
              "    </tr>\n",
              "    <tr>\n",
              "      <th>2</th>\n",
              "      <td>2</td>\n",
              "      <td>2.0</td>\n",
              "      <td>0.6244</td>\n",
              "      <td>[(0, 0.1252249), (1, 0.12520356), (2, 0.624399...</td>\n",
              "    </tr>\n",
              "    <tr>\n",
              "      <th>3</th>\n",
              "      <td>3</td>\n",
              "      <td>3.0</td>\n",
              "      <td>0.8104</td>\n",
              "      <td>[(0, 0.06448463), (1, 0.06258615), (2, 0.06257...</td>\n",
              "    </tr>\n",
              "    <tr>\n",
              "      <th>4</th>\n",
              "      <td>4</td>\n",
              "      <td>0.0</td>\n",
              "      <td>0.6142</td>\n",
              "      <td>[(0, 0.61419463), (1, 0.1251581), (2, 0.125133...</td>\n",
              "    </tr>\n",
              "    <tr>\n",
              "      <th>5</th>\n",
              "      <td>5</td>\n",
              "      <td>0.0</td>\n",
              "      <td>0.8038</td>\n",
              "      <td>[(0, 0.8037799), (1, 0.062554404), (2, 0.07069...</td>\n",
              "    </tr>\n",
              "    <tr>\n",
              "      <th>6</th>\n",
              "      <td>6</td>\n",
              "      <td>2.0</td>\n",
              "      <td>0.6249</td>\n",
              "      <td>[(0, 0.12503517), (1, 0.12502402), (2, 0.62492...</td>\n",
              "    </tr>\n",
              "    <tr>\n",
              "      <th>7</th>\n",
              "      <td>7</td>\n",
              "      <td>2.0</td>\n",
              "      <td>0.7500</td>\n",
              "      <td>[(0, 0.0833567), (1, 0.083345555), (2, 0.74995...</td>\n",
              "    </tr>\n",
              "    <tr>\n",
              "      <th>8</th>\n",
              "      <td>8</td>\n",
              "      <td>2.0</td>\n",
              "      <td>0.6188</td>\n",
              "      <td>[(0, 0.12510014), (1, 0.13104796), (2, 0.61877...</td>\n",
              "    </tr>\n",
              "    <tr>\n",
              "      <th>9</th>\n",
              "      <td>9</td>\n",
              "      <td>1.0</td>\n",
              "      <td>0.7423</td>\n",
              "      <td>[(0, 0.08341532), (1, 0.74233323), (2, 0.09085...</td>\n",
              "    </tr>\n",
              "    <tr>\n",
              "      <th>10</th>\n",
              "      <td>10</td>\n",
              "      <td>1.0</td>\n",
              "      <td>0.8111</td>\n",
              "      <td>[(0, 0.06256584), (1, 0.8111445), (2, 0.062550...</td>\n",
              "    </tr>\n",
              "    <tr>\n",
              "      <th>11</th>\n",
              "      <td>11</td>\n",
              "      <td>3.0</td>\n",
              "      <td>0.7456</td>\n",
              "      <td>[(0, 0.083467074), (1, 0.087522864), (2, 0.083...</td>\n",
              "    </tr>\n",
              "    <tr>\n",
              "      <th>12</th>\n",
              "      <td>12</td>\n",
              "      <td>2.0</td>\n",
              "      <td>0.6244</td>\n",
              "      <td>[(0, 0.12522449), (1, 0.12520254), (2, 0.62440...</td>\n",
              "    </tr>\n",
              "    <tr>\n",
              "      <th>13</th>\n",
              "      <td>13</td>\n",
              "      <td>0.0</td>\n",
              "      <td>0.6246</td>\n",
              "      <td>[(0, 0.6245835), (1, 0.12515484), (2, 0.125130...</td>\n",
              "    </tr>\n",
              "    <tr>\n",
              "      <th>14</th>\n",
              "      <td>14</td>\n",
              "      <td>1.0</td>\n",
              "      <td>0.6248</td>\n",
              "      <td>[(0, 0.12509911), (1, 0.6247705), (2, 0.125065...</td>\n",
              "    </tr>\n",
              "  </tbody>\n",
              "</table>\n",
              "</div>"
            ],
            "text/plain": [
              "    문서 번호  ...                                           각 토픽의 비중\n",
              "0       0  ...  [(0, 0.06607638), (1, 0.06424655), (2, 0.06253...\n",
              "1       1  ...  [(0, 0.12503757), (1, 0.12504545), (2, 0.62488...\n",
              "2       2  ...  [(0, 0.1252249), (1, 0.12520356), (2, 0.624399...\n",
              "3       3  ...  [(0, 0.06448463), (1, 0.06258615), (2, 0.06257...\n",
              "4       4  ...  [(0, 0.61419463), (1, 0.1251581), (2, 0.125133...\n",
              "5       5  ...  [(0, 0.8037799), (1, 0.062554404), (2, 0.07069...\n",
              "6       6  ...  [(0, 0.12503517), (1, 0.12502402), (2, 0.62492...\n",
              "7       7  ...  [(0, 0.0833567), (1, 0.083345555), (2, 0.74995...\n",
              "8       8  ...  [(0, 0.12510014), (1, 0.13104796), (2, 0.61877...\n",
              "9       9  ...  [(0, 0.08341532), (1, 0.74233323), (2, 0.09085...\n",
              "10     10  ...  [(0, 0.06256584), (1, 0.8111445), (2, 0.062550...\n",
              "11     11  ...  [(0, 0.083467074), (1, 0.087522864), (2, 0.083...\n",
              "12     12  ...  [(0, 0.12522449), (1, 0.12520254), (2, 0.62440...\n",
              "13     13  ...  [(0, 0.6245835), (1, 0.12515484), (2, 0.125130...\n",
              "14     14  ...  [(0, 0.12509911), (1, 0.6247705), (2, 0.125065...\n",
              "\n",
              "[15 rows x 4 columns]"
            ]
          },
          "metadata": {
            "tags": []
          },
          "execution_count": 73
        }
      ]
    },
    {
      "cell_type": "code",
      "metadata": {
        "colab": {
          "base_uri": "https://localhost:8080/"
        },
        "id": "5Yv3jOlXDq_0",
        "outputId": "9d3d839f-eddc-4b16-e1d9-e1cbc5ee6937"
      },
      "source": [
        "pip install pyLDAvis"
      ],
      "execution_count": null,
      "outputs": [
        {
          "output_type": "stream",
          "text": [
            "Requirement already satisfied: pyLDAvis in /usr/local/lib/python3.7/dist-packages (3.3.1)\n",
            "Requirement already satisfied: scikit-learn in /usr/local/lib/python3.7/dist-packages (from pyLDAvis) (0.22.2.post1)\n",
            "Requirement already satisfied: setuptools in /usr/local/lib/python3.7/dist-packages (from pyLDAvis) (57.0.0)\n",
            "Requirement already satisfied: numpy>=1.20.0 in /usr/local/lib/python3.7/dist-packages (from pyLDAvis) (1.20.3)\n",
            "Requirement already satisfied: joblib in /usr/local/lib/python3.7/dist-packages (from pyLDAvis) (1.0.1)\n",
            "Requirement already satisfied: pandas>=1.2.0 in /usr/local/lib/python3.7/dist-packages (from pyLDAvis) (1.2.4)\n",
            "Requirement already satisfied: jinja2 in /usr/local/lib/python3.7/dist-packages (from pyLDAvis) (2.11.3)\n",
            "Requirement already satisfied: numexpr in /usr/local/lib/python3.7/dist-packages (from pyLDAvis) (2.7.3)\n",
            "Requirement already satisfied: funcy in /usr/local/lib/python3.7/dist-packages (from pyLDAvis) (1.16)\n",
            "Requirement already satisfied: gensim in /usr/local/lib/python3.7/dist-packages (from pyLDAvis) (3.6.0)\n",
            "Requirement already satisfied: scipy in /usr/local/lib/python3.7/dist-packages (from pyLDAvis) (1.4.1)\n",
            "Requirement already satisfied: future in /usr/local/lib/python3.7/dist-packages (from pyLDAvis) (0.16.0)\n",
            "Requirement already satisfied: sklearn in /usr/local/lib/python3.7/dist-packages (from pyLDAvis) (0.0)\n",
            "Requirement already satisfied: pytz>=2017.3 in /usr/local/lib/python3.7/dist-packages (from pandas>=1.2.0->pyLDAvis) (2018.9)\n",
            "Requirement already satisfied: python-dateutil>=2.7.3 in /usr/local/lib/python3.7/dist-packages (from pandas>=1.2.0->pyLDAvis) (2.8.1)\n",
            "Requirement already satisfied: MarkupSafe>=0.23 in /usr/local/lib/python3.7/dist-packages (from jinja2->pyLDAvis) (2.0.1)\n",
            "Requirement already satisfied: six>=1.5.0 in /usr/local/lib/python3.7/dist-packages (from gensim->pyLDAvis) (1.15.0)\n",
            "Requirement already satisfied: smart-open>=1.2.1 in /usr/local/lib/python3.7/dist-packages (from gensim->pyLDAvis) (5.0.0)\n"
          ],
          "name": "stdout"
        }
      ]
    },
    {
      "cell_type": "markdown",
      "metadata": {
        "id": "-J1xZMhlGcGi"
      },
      "source": [
        "LDA - sklearn"
      ]
    },
    {
      "cell_type": "code",
      "metadata": {
        "colab": {
          "base_uri": "https://localhost:8080/",
          "height": 422
        },
        "id": "YrCHJgqlGevq",
        "outputId": "20eb210c-1f7b-4b2b-e9f6-b89012f1e168"
      },
      "source": [
        "tt = pd.DataFrame({'tokens':vec})\n",
        "#역토큰화 필요\n",
        "tokenized_doc = tt['tokens']\n",
        "detokenized_doc = []\n",
        "for i in range(len(tt)):\n",
        "    t = ' '.join(tokenized_doc[i])\n",
        "    detokenized_doc.append(t)\n",
        "tt['tokens'] = detokenized_doc\n",
        "tt"
      ],
      "execution_count": null,
      "outputs": [
        {
          "output_type": "execute_result",
          "data": {
            "text/html": [
              "<div>\n",
              "<style scoped>\n",
              "    .dataframe tbody tr th:only-of-type {\n",
              "        vertical-align: middle;\n",
              "    }\n",
              "\n",
              "    .dataframe tbody tr th {\n",
              "        vertical-align: top;\n",
              "    }\n",
              "\n",
              "    .dataframe thead th {\n",
              "        text-align: right;\n",
              "    }\n",
              "</style>\n",
              "<table border=\"1\" class=\"dataframe\">\n",
              "  <thead>\n",
              "    <tr style=\"text-align: right;\">\n",
              "      <th></th>\n",
              "      <th>tokens</th>\n",
              "    </tr>\n",
              "  </thead>\n",
              "  <tbody>\n",
              "    <tr>\n",
              "      <th>0</th>\n",
              "      <td>주말 배수 작업</td>\n",
              "    </tr>\n",
              "    <tr>\n",
              "      <th>1</th>\n",
              "      <td>죄송합니</td>\n",
              "    </tr>\n",
              "    <tr>\n",
              "      <th>2</th>\n",
              "      <td>가위바위보이겼어야</td>\n",
              "    </tr>\n",
              "    <tr>\n",
              "      <th>3</th>\n",
              "      <td>우리 부대 가위바위보</td>\n",
              "    </tr>\n",
              "    <tr>\n",
              "      <th>4</th>\n",
              "      <td>우리</td>\n",
              "    </tr>\n",
              "    <tr>\n",
              "      <th>...</th>\n",
              "      <td>...</td>\n",
              "    </tr>\n",
              "    <tr>\n",
              "      <th>233</th>\n",
              "      <td>죄송</td>\n",
              "    </tr>\n",
              "    <tr>\n",
              "      <th>234</th>\n",
              "      <td>이거 분리수거</td>\n",
              "    </tr>\n",
              "    <tr>\n",
              "      <th>235</th>\n",
              "      <td>유리 이쪽 모아놔야</td>\n",
              "    </tr>\n",
              "    <tr>\n",
              "      <th>236</th>\n",
              "      <td>일어나</td>\n",
              "    </tr>\n",
              "    <tr>\n",
              "      <th>237</th>\n",
              "      <td>ㅋㅋ 재밌으</td>\n",
              "    </tr>\n",
              "  </tbody>\n",
              "</table>\n",
              "<p>238 rows × 1 columns</p>\n",
              "</div>"
            ],
            "text/plain": [
              "          tokens\n",
              "0       주말 배수 작업\n",
              "1           죄송합니\n",
              "2      가위바위보이겼어야\n",
              "3    우리 부대 가위바위보\n",
              "4             우리\n",
              "..           ...\n",
              "233           죄송\n",
              "234      이거 분리수거\n",
              "235   유리 이쪽 모아놔야\n",
              "236          일어나\n",
              "237       ㅋㅋ 재밌으\n",
              "\n",
              "[238 rows x 1 columns]"
            ]
          },
          "metadata": {
            "tags": []
          },
          "execution_count": 74
        }
      ]
    },
    {
      "cell_type": "code",
      "metadata": {
        "colab": {
          "base_uri": "https://localhost:8080/"
        },
        "id": "MDrlyaANGz-S",
        "outputId": "67228805-1e82-42fa-9062-78a28bfd8e93"
      },
      "source": [
        "from sklearn.feature_extraction.text import TfidfVectorizer\n",
        "vectorizer = TfidfVectorizer(max_features= 1000) # 상위 1,000개의 단어를 보존 \n",
        "X = vectorizer.fit_transform(tt['tokens'])\n",
        "X.shape # TF-IDF 행렬의 크기 확인"
      ],
      "execution_count": null,
      "outputs": [
        {
          "output_type": "execute_result",
          "data": {
            "text/plain": [
              "(238, 250)"
            ]
          },
          "metadata": {
            "tags": []
          },
          "execution_count": 75
        }
      ]
    },
    {
      "cell_type": "code",
      "metadata": {
        "colab": {
          "base_uri": "https://localhost:8080/"
        },
        "id": "MD-AI6nrG3nk",
        "outputId": "8a7b33c9-ab93-4071-f3fb-48f47bad0951"
      },
      "source": [
        "from sklearn.decomposition import LatentDirichletAllocation\n",
        "lda_model=LatentDirichletAllocation(n_components=4,learning_method='online',random_state=777,max_iter=1)\n",
        "lda_model.fit_transform(X) #토픽별 단어들 분포"
      ],
      "execution_count": null,
      "outputs": [
        {
          "output_type": "execute_result",
          "data": {
            "text/plain": [
              "array([[0.09673172, 0.09778151, 0.09968619, 0.70580058],\n",
              "       [0.12599828, 0.12690475, 0.12716284, 0.61993412],\n",
              "       [0.13197257, 0.60603491, 0.1314425 , 0.13055002],\n",
              "       [0.09578953, 0.09847541, 0.09763993, 0.70809513],\n",
              "       [0.12951426, 0.60590607, 0.13046317, 0.1341165 ],\n",
              "       [0.09576146, 0.09476379, 0.09617664, 0.71329811],\n",
              "       [0.12681638, 0.1269206 , 0.12866673, 0.61759629],\n",
              "       [0.1057765 , 0.11250658, 0.1073725 , 0.67434443],\n",
              "       [0.13119568, 0.13487735, 0.59946772, 0.13445926],\n",
              "       [0.10859877, 0.11002268, 0.11151752, 0.66986104],\n",
              "       [0.09675581, 0.09528104, 0.09639791, 0.71156524],\n",
              "       [0.10826247, 0.1086479 , 0.10947755, 0.67361208],\n",
              "       [0.60624378, 0.1309144 , 0.13205477, 0.13078705],\n",
              "       [0.12976583, 0.13009901, 0.60919491, 0.13094026],\n",
              "       [0.1283827 , 0.61299331, 0.12967471, 0.12894928],\n",
              "       [0.1291096 , 0.13165105, 0.60922346, 0.13001589],\n",
              "       [0.09557272, 0.71213756, 0.0964633 , 0.09582642],\n",
              "       [0.13106812, 0.12945002, 0.60831192, 0.13116994],\n",
              "       [0.13254384, 0.13081019, 0.60606744, 0.13057852],\n",
              "       [0.12679224, 0.61729376, 0.12804009, 0.12787391],\n",
              "       [0.10346189, 0.70003075, 0.09963971, 0.09686765],\n",
              "       [0.13220935, 0.60663458, 0.13135815, 0.12979793],\n",
              "       [0.60695569, 0.13174174, 0.13068428, 0.13061829],\n",
              "       [0.12789038, 0.1298814 , 0.61471332, 0.1275149 ],\n",
              "       [0.1283827 , 0.61299331, 0.12967471, 0.12894928],\n",
              "       [0.12817842, 0.61397237, 0.12863081, 0.1292184 ],\n",
              "       [0.12679224, 0.61729376, 0.12804009, 0.12787391],\n",
              "       [0.10974868, 0.10777003, 0.10943274, 0.67304854],\n",
              "       [0.68283971, 0.1060264 , 0.10587275, 0.10526113],\n",
              "       [0.10989429, 0.10854601, 0.10940227, 0.67215743],\n",
              "       [0.13209214, 0.13191555, 0.6055655 , 0.13042681],\n",
              "       [0.10720447, 0.10974889, 0.10649886, 0.67654778],\n",
              "       [0.10804108, 0.11151529, 0.67169332, 0.10875031],\n",
              "       [0.11298176, 0.66752351, 0.11098922, 0.10850551],\n",
              "       [0.68283971, 0.1060264 , 0.10587275, 0.10526113],\n",
              "       [0.09523229, 0.09453485, 0.71465541, 0.09557745],\n",
              "       [0.71362421, 0.09646026, 0.09508364, 0.09483189],\n",
              "       [0.70803068, 0.09948334, 0.09664798, 0.09583799],\n",
              "       [0.08697961, 0.0866357 , 0.738811  , 0.08757368],\n",
              "       [0.08770174, 0.73658132, 0.08777948, 0.08793745],\n",
              "       [0.67638918, 0.10719345, 0.10908033, 0.10733704],\n",
              "       [0.13039357, 0.130944  , 0.13056904, 0.60809339],\n",
              "       [0.12769817, 0.12776758, 0.61601325, 0.128521  ],\n",
              "       [0.10686146, 0.10794608, 0.67783966, 0.1073528 ],\n",
              "       [0.10700833, 0.67379283, 0.10934347, 0.10985538],\n",
              "       [0.12899784, 0.60993572, 0.13346864, 0.1275978 ],\n",
              "       [0.11419295, 0.11436997, 0.65546161, 0.11597547],\n",
              "       [0.13181447, 0.13055113, 0.13107028, 0.60656413],\n",
              "       [0.13060303, 0.12965128, 0.12987404, 0.60987165],\n",
              "       [0.09069565, 0.09062553, 0.72225944, 0.09641938],\n",
              "       [0.1288516 , 0.13129713, 0.61083784, 0.12901342],\n",
              "       [0.10723171, 0.66604741, 0.1199007 , 0.10682018],\n",
              "       [0.10729195, 0.10739376, 0.67881418, 0.10650011],\n",
              "       [0.12769817, 0.12776758, 0.61601325, 0.128521  ],\n",
              "       [0.12679224, 0.61729376, 0.12804009, 0.12787391],\n",
              "       [0.75682122, 0.08131909, 0.08065423, 0.08120546],\n",
              "       [0.60627126, 0.13041543, 0.13298643, 0.13032688],\n",
              "       [0.12970869, 0.13137224, 0.12957433, 0.60934475],\n",
              "       [0.07702242, 0.76271755, 0.08127018, 0.07898985],\n",
              "       [0.10072425, 0.0968375 , 0.09861764, 0.70382061],\n",
              "       [0.08230766, 0.08300164, 0.7518604 , 0.0828303 ],\n",
              "       [0.12500544, 0.6581093 , 0.10952107, 0.10736419],\n",
              "       [0.68063783, 0.10599818, 0.10634577, 0.10701823],\n",
              "       [0.12996862, 0.60683221, 0.12926061, 0.13393857],\n",
              "       [0.11714532, 0.10870288, 0.10933247, 0.66481932],\n",
              "       [0.13099451, 0.12945289, 0.60812349, 0.13142911],\n",
              "       [0.09659847, 0.09538448, 0.09522611, 0.71279095],\n",
              "       [0.12881791, 0.12957674, 0.61054864, 0.13105672],\n",
              "       [0.13244897, 0.12984846, 0.12806692, 0.60963566],\n",
              "       [0.09712001, 0.09671993, 0.0958544 , 0.71030566],\n",
              "       [0.13083643, 0.13185746, 0.13105816, 0.60624796],\n",
              "       [0.13850083, 0.12904399, 0.12962588, 0.60282931],\n",
              "       [0.13187701, 0.13149675, 0.13088353, 0.60574271],\n",
              "       [0.08871792, 0.08787877, 0.73529732, 0.08810599],\n",
              "       [0.66982326, 0.10927635, 0.11133409, 0.1095663 ],\n",
              "       [0.67359931, 0.10937144, 0.10830951, 0.10871974],\n",
              "       [0.13054326, 0.13330538, 0.12937676, 0.6067746 ],\n",
              "       [0.11602335, 0.11619971, 0.1158313 , 0.65194564],\n",
              "       [0.12679224, 0.61729376, 0.12804009, 0.12787391],\n",
              "       [0.12872138, 0.60908108, 0.1339601 , 0.12823745],\n",
              "       [0.12872138, 0.60908108, 0.1339601 , 0.12823745],\n",
              "       [0.09708672, 0.70506257, 0.09585968, 0.10199103],\n",
              "       [0.12872138, 0.60908108, 0.1339601 , 0.12823745],\n",
              "       [0.08821163, 0.73132014, 0.08822901, 0.09223921],\n",
              "       [0.08774323, 0.08923892, 0.73594225, 0.0870756 ],\n",
              "       [0.67721222, 0.10778499, 0.10730625, 0.10769654],\n",
              "       [0.10802991, 0.1074727 , 0.10743759, 0.6770598 ],\n",
              "       [0.10559664, 0.68116438, 0.10606807, 0.10717091],\n",
              "       [0.1057765 , 0.11250658, 0.1073725 , 0.67434443],\n",
              "       [0.10826273, 0.67453039, 0.10938724, 0.10781965],\n",
              "       [0.12990522, 0.1295869 , 0.12914281, 0.61136507],\n",
              "       [0.12990522, 0.1295869 , 0.12914281, 0.61136507],\n",
              "       [0.12681638, 0.1269206 , 0.12866673, 0.61759629],\n",
              "       [0.1057765 , 0.11250658, 0.1073725 , 0.67434443],\n",
              "       [0.13193124, 0.1295242 , 0.60752349, 0.13102107],\n",
              "       [0.13172286, 0.60890702, 0.12883158, 0.13053854],\n",
              "       [0.07576836, 0.77277281, 0.07600841, 0.07545042],\n",
              "       [0.12500544, 0.6581093 , 0.10952107, 0.10736419],\n",
              "       [0.74720939, 0.08269877, 0.08302791, 0.08706393],\n",
              "       [0.66890944, 0.11031193, 0.10940304, 0.1113756 ],\n",
              "       [0.10751913, 0.67960109, 0.10618111, 0.10669867],\n",
              "       [0.68283971, 0.1060264 , 0.10587275, 0.10526113],\n",
              "       [0.08707429, 0.73857116, 0.08706792, 0.08728663],\n",
              "       [0.6044336 , 0.13387078, 0.12820967, 0.13348594],\n",
              "       [0.6044336 , 0.13387078, 0.12820967, 0.13348594],\n",
              "       [0.6044336 , 0.13387078, 0.12820967, 0.13348594],\n",
              "       [0.6044336 , 0.13387078, 0.12820967, 0.13348594],\n",
              "       [0.6044336 , 0.13387078, 0.12820967, 0.13348594],\n",
              "       [0.6044336 , 0.13387078, 0.12820967, 0.13348594],\n",
              "       [0.6044336 , 0.13387078, 0.12820967, 0.13348594],\n",
              "       [0.09782671, 0.70183508, 0.1028699 , 0.09746831],\n",
              "       [0.6044336 , 0.13387078, 0.12820967, 0.13348594],\n",
              "       [0.09664833, 0.71199951, 0.0951938 , 0.09615836],\n",
              "       [0.70681937, 0.09694163, 0.09655374, 0.09968526],\n",
              "       [0.09664833, 0.71199951, 0.0951938 , 0.09615836],\n",
              "       [0.7133583 , 0.09546266, 0.09527652, 0.09590252],\n",
              "       [0.10772197, 0.11381613, 0.10831633, 0.67014557],\n",
              "       [0.09699585, 0.0963103 , 0.09619011, 0.71050373],\n",
              "       [0.61120906, 0.12842771, 0.12879528, 0.13156795],\n",
              "       [0.13098476, 0.60784302, 0.1304589 , 0.13071332],\n",
              "       [0.73548135, 0.08863476, 0.08890969, 0.0869742 ],\n",
              "       [0.71762011, 0.09470196, 0.09356407, 0.09411386],\n",
              "       [0.13370689, 0.60442079, 0.13147474, 0.13039758],\n",
              "       [0.71762011, 0.09470196, 0.09356407, 0.09411386],\n",
              "       [0.13135176, 0.13105523, 0.12935493, 0.60823808],\n",
              "       [0.08116228, 0.75738782, 0.0806263 , 0.0808236 ],\n",
              "       [0.73886323, 0.08877263, 0.08616525, 0.0861989 ],\n",
              "       [0.67404074, 0.10854473, 0.10880577, 0.10860876],\n",
              "       [0.10835412, 0.67407642, 0.10890423, 0.10866524],\n",
              "       [0.12860651, 0.6138001 , 0.12878351, 0.12880988],\n",
              "       [0.71127458, 0.09644049, 0.09624518, 0.09603975],\n",
              "       [0.13012569, 0.6094784 , 0.12964377, 0.13075214],\n",
              "       [0.1294491 , 0.12992548, 0.12727307, 0.61335235],\n",
              "       [0.67715235, 0.10800009, 0.10662162, 0.10822594],\n",
              "       [0.13994425, 0.59837752, 0.1308104 , 0.13086782],\n",
              "       [0.13065115, 0.60641807, 0.13168808, 0.13124271],\n",
              "       [0.1294491 , 0.12992548, 0.12727307, 0.61335235],\n",
              "       [0.74069626, 0.08637793, 0.08668615, 0.08623966],\n",
              "       [0.79550759, 0.06822631, 0.06828771, 0.06797839],\n",
              "       [0.08903741, 0.08847557, 0.73446931, 0.08801771],\n",
              "       [0.08123995, 0.08058351, 0.0815594 , 0.75661714],\n",
              "       [0.08102072, 0.081267  , 0.0811206 , 0.75659168],\n",
              "       [0.7089981 , 0.09687492, 0.09801237, 0.09611461],\n",
              "       [0.10882609, 0.673973  , 0.10886599, 0.10833492],\n",
              "       [0.13086576, 0.13078212, 0.12963988, 0.60871225],\n",
              "       [0.10717963, 0.10678279, 0.67918773, 0.10684985],\n",
              "       [0.60819233, 0.12979035, 0.12988329, 0.13213402],\n",
              "       [0.67604567, 0.10772335, 0.1081405 , 0.10809048],\n",
              "       [0.10737683, 0.10781613, 0.10847776, 0.67632929],\n",
              "       [0.66962162, 0.1149108 , 0.10767796, 0.10778961],\n",
              "       [0.1279918 , 0.12981595, 0.61329154, 0.12890072],\n",
              "       [0.12981093, 0.1298564 , 0.12984019, 0.61049247],\n",
              "       [0.12711151, 0.12729647, 0.13925926, 0.60633276],\n",
              "       [0.10757904, 0.67991563, 0.10593615, 0.10656918],\n",
              "       [0.09426445, 0.0940406 , 0.71551493, 0.09618003],\n",
              "       [0.70874804, 0.09705682, 0.09670529, 0.09748985],\n",
              "       [0.10761399, 0.11278364, 0.67225413, 0.10734824],\n",
              "       [0.74453834, 0.09073287, 0.08305678, 0.08167202],\n",
              "       [0.1319311 , 0.61079019, 0.12832163, 0.12895708],\n",
              "       [0.67964882, 0.1067748 , 0.10640322, 0.10717317],\n",
              "       [0.13144776, 0.12942396, 0.60826046, 0.13086782],\n",
              "       [0.12677102, 0.12685009, 0.61951377, 0.12686513],\n",
              "       [0.12711151, 0.12729647, 0.13925926, 0.60633276],\n",
              "       [0.6741958 , 0.11111723, 0.10737935, 0.10730762],\n",
              "       [0.13566541, 0.60357907, 0.13071577, 0.13003975],\n",
              "       [0.12711151, 0.12729647, 0.13925926, 0.60633276],\n",
              "       [0.12679224, 0.61729376, 0.12804009, 0.12787391],\n",
              "       [0.08959007, 0.08789625, 0.73455509, 0.0879586 ],\n",
              "       [0.0859217 , 0.74048039, 0.08648741, 0.0871105 ],\n",
              "       [0.61669304, 0.12768921, 0.1282529 , 0.12736485],\n",
              "       [0.12807221, 0.12783908, 0.61618686, 0.12790185],\n",
              "       [0.60688966, 0.13123365, 0.1306693 , 0.13120739],\n",
              "       [0.12849766, 0.61242143, 0.1294027 , 0.12967821],\n",
              "       [0.10828134, 0.67402391, 0.10809808, 0.10959666],\n",
              "       [0.12711151, 0.12729647, 0.13925926, 0.60633276],\n",
              "       [0.12807221, 0.12783908, 0.61618686, 0.12790185],\n",
              "       [0.12866891, 0.61243185, 0.12880756, 0.13009168],\n",
              "       [0.12681638, 0.1269206 , 0.12866673, 0.61759629],\n",
              "       [0.09561417, 0.71142517, 0.0963392 , 0.09662145],\n",
              "       [0.12876173, 0.60983342, 0.13065451, 0.13075035],\n",
              "       [0.13248639, 0.61094336, 0.1278897 , 0.12868055],\n",
              "       [0.09616674, 0.71155844, 0.09643089, 0.09584393],\n",
              "       [0.61057987, 0.12985463, 0.12953017, 0.13003532],\n",
              "       [0.10559664, 0.68116438, 0.10606807, 0.10717091],\n",
              "       [0.12730294, 0.12661972, 0.12731118, 0.61876617],\n",
              "       [0.12711151, 0.12729647, 0.13925926, 0.60633276],\n",
              "       [0.73935493, 0.08634007, 0.08732954, 0.08697546],\n",
              "       [0.12679224, 0.61729376, 0.12804009, 0.12787391],\n",
              "       [0.75464647, 0.08160629, 0.08219475, 0.08155249],\n",
              "       [0.12681638, 0.1269206 , 0.12866673, 0.61759629],\n",
              "       [0.67964882, 0.1067748 , 0.10640322, 0.10717317],\n",
              "       [0.70897398, 0.0967328 , 0.0979729 , 0.09632032],\n",
              "       [0.09451476, 0.09494432, 0.71386221, 0.09667871],\n",
              "       [0.73637665, 0.08753017, 0.08927285, 0.08682033],\n",
              "       [0.1076799 , 0.10752272, 0.67571914, 0.10907824],\n",
              "       [0.08667174, 0.08644387, 0.73854998, 0.08833441],\n",
              "       [0.13013259, 0.60999581, 0.13034422, 0.12952738],\n",
              "       [0.09395983, 0.71761208, 0.09476779, 0.0936603 ],\n",
              "       [0.12938883, 0.12947961, 0.61265052, 0.12848104],\n",
              "       [0.10627292, 0.67993893, 0.10812774, 0.10566041],\n",
              "       [0.12677102, 0.12685009, 0.61951377, 0.12686513],\n",
              "       [0.12599828, 0.12690475, 0.12716284, 0.61993412],\n",
              "       [0.13007445, 0.1306919 , 0.13091075, 0.60832289],\n",
              "       [0.68059592, 0.10623579, 0.10637899, 0.10678929],\n",
              "       [0.75577188, 0.0814904 , 0.08172695, 0.08101078],\n",
              "       [0.10616167, 0.10711455, 0.68027943, 0.10644435],\n",
              "       [0.12771165, 0.61703841, 0.12896887, 0.12628107],\n",
              "       [0.68059592, 0.10623579, 0.10637899, 0.10678929],\n",
              "       [0.7117951 , 0.09735667, 0.09544398, 0.09540425],\n",
              "       [0.12599828, 0.12690475, 0.12716284, 0.61993412],\n",
              "       [0.13018286, 0.12708607, 0.12809102, 0.61464005],\n",
              "       [0.11142434, 0.10647199, 0.10750782, 0.67459586],\n",
              "       [0.12677102, 0.12685009, 0.61951377, 0.12686513],\n",
              "       [0.10525916, 0.09684554, 0.69710992, 0.10078538],\n",
              "       [0.10667956, 0.10591385, 0.10639478, 0.68101181],\n",
              "       [0.12679224, 0.61729376, 0.12804009, 0.12787391],\n",
              "       [0.12771165, 0.61703841, 0.12896887, 0.12628107],\n",
              "       [0.12716797, 0.12825255, 0.13104298, 0.6135365 ],\n",
              "       [0.61235463, 0.12818939, 0.12976784, 0.12968814],\n",
              "       [0.12677102, 0.12685009, 0.61951377, 0.12686513],\n",
              "       [0.71534202, 0.09453592, 0.09450944, 0.09561262],\n",
              "       [0.10775647, 0.10731598, 0.67407094, 0.11085661],\n",
              "       [0.10771025, 0.10726004, 0.10955447, 0.67547524],\n",
              "       [0.12599828, 0.12690475, 0.12716284, 0.61993412],\n",
              "       [0.11142434, 0.10647199, 0.10750782, 0.67459586],\n",
              "       [0.13102073, 0.13027618, 0.1311086 , 0.6075945 ],\n",
              "       [0.61031727, 0.12866347, 0.13145552, 0.12956375],\n",
              "       [0.12679224, 0.61729376, 0.12804009, 0.12787391],\n",
              "       [0.12716797, 0.12825255, 0.13104298, 0.6135365 ],\n",
              "       [0.12730294, 0.12661972, 0.12731118, 0.61876617],\n",
              "       [0.13994425, 0.59837752, 0.1308104 , 0.13086782],\n",
              "       [0.67933475, 0.10661471, 0.10650791, 0.10754263],\n",
              "       [0.12270629, 0.10714902, 0.10674834, 0.66339634],\n",
              "       [0.13018286, 0.12708607, 0.12809102, 0.61464005],\n",
              "       [0.10536468, 0.10515074, 0.10884903, 0.68063555],\n",
              "       [0.09725114, 0.09642162, 0.71086165, 0.09546559],\n",
              "       [0.1294683 , 0.1293454 , 0.61052248, 0.13066381],\n",
              "       [0.10869792, 0.67429648, 0.10810723, 0.10889837]])"
            ]
          },
          "metadata": {
            "tags": []
          },
          "execution_count": 76
        }
      ]
    },
    {
      "cell_type": "code",
      "metadata": {
        "colab": {
          "base_uri": "https://localhost:8080/"
        },
        "id": "jXPGcJt3G8YB",
        "outputId": "a156be32-7d48-4c65-e988-d9ffeb70375d"
      },
      "source": [
        "print(lda_model.components_)\n",
        "print(lda_model.components_.shape) "
      ],
      "execution_count": null,
      "outputs": [
        {
          "output_type": "stream",
          "text": [
            "[[0.72561901 0.69854883 0.82234513 0.99057699 0.64132717 0.82763633\n",
            "  0.79009331 0.8929167  0.71569591 0.71532475 1.02613455 1.12935538\n",
            "  0.78286714 0.88532674 1.11542765 1.3072357  0.82432094 0.75723828\n",
            "  1.16870866 0.65756511 1.02755631 0.93101077 0.86173467 0.7472601\n",
            "  0.66237486 0.67416037 0.97245544 0.75539934 0.62812422 0.77846294\n",
            "  0.78131803 0.72333699 0.92091651 0.98426772 0.80616787 0.73802356\n",
            "  0.94693849 0.99562042 1.0098609  0.73633123 0.79463556 1.0419298\n",
            "  1.01134629 0.74102496 0.95892308 1.24603699 1.13984464 0.81404511\n",
            "  0.79614766 0.69855503 0.93090202 0.86904573 0.7370603  0.71257602\n",
            "  0.76157895 1.05890516 1.15530128 1.1187159  0.73382992 1.33595274\n",
            "  0.73895711 0.71980787 1.55416163 0.83160833 0.80325253 0.78722221\n",
            "  1.1105178  0.82364635 0.75272868 0.76689891 0.91562303 0.59583731\n",
            "  0.76039956 0.72433137 0.725719   1.03794916 0.9030626  0.77947001\n",
            "  0.73029342 0.97933618 0.99449877 0.68630015 1.18187499 0.93846633\n",
            "  0.94851403 0.9792644  1.13357135 0.78905121 0.71278556 0.78553349\n",
            "  0.74746687 0.67498309 0.95432172 0.75425518 0.72376964 0.70060357\n",
            "  0.77876446 0.60952967 0.99195008 0.99657789 0.81314952 0.63160878\n",
            "  0.72160963 0.71932352 2.12940899 0.83248734 0.6892897  1.03106424\n",
            "  1.03544882 1.01493644 0.75790645 0.69384384 1.00590344 0.67335446\n",
            "  0.69045644 0.74661899 0.74815659 0.75023482 0.90972093 0.74138595\n",
            "  0.7427523  0.94425539 0.91187487 0.74384215 0.8177588  0.93476161\n",
            "  0.90118091 0.66543697 0.78971815 0.70974547 0.68075497 0.78868259\n",
            "  1.23388884 0.94998256 0.73333623 0.94415697 0.7450378  0.76614852\n",
            "  0.58965025 0.75067275 0.84009743 0.85405914 0.67784098 0.73283732\n",
            "  0.63450975 0.71669196 0.79365055 0.77463778 0.86283521 1.12770222\n",
            "  0.78347097 2.14268533 2.05956875 1.06662974 0.68523296 0.75814943\n",
            "  0.94459889 0.65435223 0.66633636 0.66167574 0.89719326 0.74326553\n",
            "  0.85449659 0.63450744 0.68220966 0.75389349 0.71868574 0.87088989\n",
            "  0.76006655 0.77707518 0.76868029 0.83624503 0.75207698 0.73711233\n",
            "  0.96814386 1.27547725 0.72117592 0.85727235 0.79129266 0.88431188\n",
            "  0.92288806 0.79826711 0.77349597 0.71336528 0.7179039  0.71720514\n",
            "  0.90799524 0.74886117 1.11439876 0.65704518 0.80083462 0.69341244\n",
            "  0.65177027 0.7769751  1.2570469  0.72960058 0.76449048 0.79217611\n",
            "  1.01031847 0.71245686 1.16648829 1.0977926  1.33796591 1.20057554\n",
            "  1.08414102 0.60569334 0.76986789 0.73743265 0.74289625 0.68261892\n",
            "  0.79915048 0.74738034 0.94187193 0.69048459 0.87063535 0.82914776\n",
            "  0.76454311 0.85207398 1.95167084 0.79124815 0.9233667  0.76610618\n",
            "  0.8376146  0.70299836 0.74148063 1.64851317 2.159123   0.82203589\n",
            "  0.90695788 0.73537517 0.62107692 0.6996485  0.75671774 0.76689024\n",
            "  0.91204217 0.95445031 0.73993971 0.79670085 0.79530708 0.85457075\n",
            "  1.1184596  0.64561437 0.75186898 0.68832424 0.90624052 1.06654127\n",
            "  0.8014936  1.57040399 0.76311066 1.06454888]\n",
            " [0.9259465  0.90932391 0.73656371 0.71922705 0.71820542 1.12128211\n",
            "  0.72560234 0.73628403 1.02240316 0.68115641 0.743373   1.12557534\n",
            "  0.93067073 0.73687688 0.72340588 0.76823818 1.13369943 1.048057\n",
            "  0.60969679 0.79742896 0.68476252 0.70161151 0.75813354 0.87564913\n",
            "  0.66808109 0.67029496 0.79181774 0.7249766  0.76466038 1.05473698\n",
            "  1.50207984 0.91944245 1.75140001 0.73662281 0.75966442 0.73786666\n",
            "  0.67810667 0.65260994 0.70224524 1.50829726 0.783245   0.75631889\n",
            "  0.79241021 0.74405075 0.63255948 0.76168546 0.64700962 0.99090674\n",
            "  0.77447668 0.94680836 0.7027776  0.81007243 0.7138597  1.30839988\n",
            "  0.6690095  0.6895509  0.77301174 0.75898029 0.98850617 0.69173157\n",
            "  0.71761471 1.10826416 0.65796265 1.0006665  1.06651792 1.03815228\n",
            "  1.51067096 1.05256002 0.69015428 0.73807233 0.73954199 0.71917923\n",
            "  1.20563465 1.11828796 1.04571131 0.69249014 0.80911339 0.79804991\n",
            "  1.77966746 0.75752314 0.66087002 0.74071172 0.96321537 0.8398749\n",
            "  0.78146062 1.36123018 0.79069939 0.82580619 0.85340483 0.71200926\n",
            "  0.75397029 0.80586768 0.65670174 0.78268422 0.74076939 1.09916036\n",
            "  0.76002928 0.74035856 0.82926554 0.66819485 0.69528106 0.75656461\n",
            "  0.9283812  1.03941131 0.82713405 1.81970615 0.71580566 0.64887702\n",
            "  1.18733817 0.78990471 0.76385812 0.69977687 1.05166294 1.0035294\n",
            "  0.69359843 0.92079048 0.8615851  0.69848097 0.75130948 0.86620646\n",
            "  0.90667791 0.78941338 0.69655842 0.82341994 0.78967643 0.74667918\n",
            "  0.85372438 0.89235026 0.757152   1.0123004  1.2241396  0.78056571\n",
            "  0.75973435 0.7375351  0.74586989 0.68152392 0.74755624 0.6874652\n",
            "  1.05017514 0.6699248  1.04194172 2.80963889 0.99494513 0.75117767\n",
            "  0.97589653 1.6064784  0.80639094 0.82416326 0.74536975 0.74092294\n",
            "  0.95640493 1.63973256 0.83900776 0.77565293 0.93943726 0.66257749\n",
            "  0.72784221 1.17541053 0.63813456 0.82952182 0.73863926 0.96633058\n",
            "  0.80401758 0.70789328 1.1084071  0.7844764  1.06668073 0.80759494\n",
            "  0.74015918 1.09837559 0.92427066 0.70044169 0.72982525 0.67412302\n",
            "  0.8415926  0.82237421 0.66576231 0.79604184 0.74220774 1.22299965\n",
            "  0.94294627 0.83056624 1.99008634 0.75522451 1.40304027 0.70567174\n",
            "  0.70076751 1.04774431 0.622933   0.81887775 0.85761418 0.97800365\n",
            "  0.77039211 0.73128597 0.75431019 1.04796783 1.13319758 0.84486924\n",
            "  0.76746512 0.64386588 0.69336679 0.72275748 0.74914197 0.69005296\n",
            "  0.69155982 0.82244919 0.87380596 1.06016713 0.87425133 0.69480722\n",
            "  0.68259381 1.05734259 0.71653034 0.8111734  0.82399984 0.68028144\n",
            "  0.60876256 0.97263965 0.79760067 0.69390044 0.75921612 0.98529663\n",
            "  0.73425887 0.6927887  0.85632918 0.73857428 1.06059143 0.6956313\n",
            "  0.85043374 0.78456727 0.66640444 1.30250354 0.79297483 0.8583324\n",
            "  0.76111667 0.77451005 0.64814711 0.74465005 0.71430124 0.60924896\n",
            "  0.77616208 1.1862787  0.75520129 0.73611039 1.11809082 0.79028802\n",
            "  0.64604071 0.71578502 0.79115122 0.79486412]\n",
            " [0.65802782 0.68570847 1.0619823  0.73536946 0.87373496 0.78945985\n",
            "  0.80645502 1.21137924 0.72367275 0.73758794 0.73065909 0.75787637\n",
            "  0.88023428 0.65606785 0.73521104 0.69866036 0.64016283 0.92201336\n",
            "  0.7159251  1.1003644  0.66891004 0.79085421 1.38052304 0.66709368\n",
            "  0.76700542 0.91092132 1.04149403 1.5727632  1.07182497 0.68623178\n",
            "  0.68487589 1.54318126 1.31123845 0.79397178 0.68629953 0.72981636\n",
            "  0.80542388 0.82717954 0.74585005 0.77199819 1.0499228  0.76975017\n",
            "  0.67527478 1.05237024 0.63394504 0.76077915 0.94325694 1.15085917\n",
            "  0.73621313 0.6243775  0.75530919 0.77279724 0.91047959 1.04157598\n",
            "  1.08071765 0.65700023 0.71196229 0.70891603 0.77986367 0.71705086\n",
            "  0.85373662 0.72202569 0.77636525 0.83385135 0.75289101 0.73977897\n",
            "  0.69653965 0.61734969 0.70897505 1.00662395 0.65939269 0.67227284\n",
            "  0.70105481 0.68575816 0.66522285 0.79908899 0.8149996  1.10181987\n",
            "  0.72077496 1.17554609 0.61580069 1.01993734 0.71790097 0.75491806\n",
            "  0.90339654 0.68862566 0.75205676 0.83067589 0.77831536 0.82401219\n",
            "  1.02708307 1.00375397 0.71884949 1.9954907  1.21948903 0.67573542\n",
            "  0.65573605 1.18807672 0.74840555 1.01175793 0.80055681 1.00577284\n",
            "  1.00350827 0.85070844 0.77648226 0.93127479 0.93729593 0.72515745\n",
            "  0.78657868 0.84968342 1.72179541 0.80605514 0.71266856 0.78076159\n",
            "  1.13695394 0.75593299 0.85795919 1.04846634 0.61127534 0.87606541\n",
            "  0.79342806 0.68243313 0.75697084 0.73346551 0.74681632 0.72346152\n",
            "  0.75957167 0.69417072 0.71297208 0.67851603 0.8012192  0.70472277\n",
            "  0.73008048 0.81219873 2.21328162 0.84507893 0.81601104 1.10754936\n",
            "  0.63657302 0.74007    0.84709795 1.11889612 0.68721773 1.16579402\n",
            "  0.92394611 0.84543929 0.7756432  0.8277095  0.65120353 0.75557971\n",
            "  0.84404024 0.9384052  0.91137832 0.71632944 0.66473003 0.81585438\n",
            "  0.69011376 0.65620321 0.77400548 1.05254693 1.56882249 0.72578474\n",
            "  0.79455611 0.70345256 0.72987827 1.11771603 0.69277995 1.06389139\n",
            "  0.83224875 0.77502326 0.87418051 0.82547469 0.76265938 0.67522376\n",
            "  0.75221073 0.7569311  0.67249641 0.94900055 0.56534668 0.85082972\n",
            "  0.78098649 0.68523273 0.96199621 1.31400312 0.81767677 1.17375349\n",
            "  0.84437354 0.79572022 0.77850094 0.80441887 0.89477396 0.93237997\n",
            "  1.4203349  0.77072424 0.76106652 0.71450786 0.8093435  0.79350684\n",
            "  0.87361232 0.67478614 0.72848102 0.57336851 0.78721676 0.91032685\n",
            "  0.82705648 0.86925748 0.7494649  0.70138944 0.7605349  0.85586739\n",
            "  0.7300979  0.83702324 0.77168401 1.22182054 0.80918515 0.78853962\n",
            "  0.78789949 0.96914681 0.71749066 1.25223649 0.68904282 0.78374506\n",
            "  0.77021968 0.76965734 0.83289636 0.71232204 1.02821436 1.14013742\n",
            "  0.7997071  1.14179136 1.06089429 0.70483313 0.97337532 0.72741776\n",
            "  0.69699668 0.67296835 1.03785911 0.78665468 0.77213205 0.63404172\n",
            "  0.8216303  0.70303167 1.26630001 0.6707421  0.79026931 0.74489777\n",
            "  0.92357867 0.77172643 0.76259247 0.67363456]\n",
            " [0.75012049 0.67922247 0.72312558 0.84240087 1.03008011 0.74745639\n",
            "  0.7167299  0.834565   1.13627218 0.98496532 0.64281714 0.76741581\n",
            "  0.75314977 0.69789557 1.2328444  0.85002046 0.7545805  0.71482723\n",
            "  0.71649    0.71074417 0.71622453 0.65599498 0.71539182 1.11266757\n",
            "  0.92305411 0.69564759 0.74086394 0.73131968 0.63550512 0.73201161\n",
            "  0.79704713 0.67509978 0.74022237 0.69917032 1.34359567 1.18062073\n",
            "  0.68753801 0.68470067 0.69512791 0.83437849 0.70807212 0.81005551\n",
            "  0.66893652 1.19871093 0.74274419 0.90673746 0.73862698 0.97199262\n",
            "  1.07731964 0.78063745 0.7336369  0.72082397 0.99655182 0.66632928\n",
            "  0.77961588 0.77015463 0.69560254 0.74106634 0.89847305 0.92226051\n",
            "  0.81971091 0.67930365 0.69489392 0.9666871  0.67538113 0.79553175\n",
            "  0.78564422 0.91340954 1.01300203 0.69182904 0.76884296 0.89063325\n",
            "  0.97453099 0.75536823 0.70024017 0.68686718 0.66399807 2.42020415\n",
            "  0.70948778 0.95535506 0.71909771 0.76570084 0.72284789 0.75349805\n",
            "  0.72965918 0.75116209 0.78809886 1.24936724 0.81956188 0.94401825\n",
            "  0.58460349 0.69500363 0.74273422 2.06189119 0.68087675 0.75357211\n",
            "  1.08883255 0.67741499 0.59549384 0.75913008 1.09017246 1.54610438\n",
            "  0.75511741 0.79439675 0.7352633  0.79575652 0.78128644 0.98072227\n",
            "  0.75043902 0.84328881 0.85736787 0.89068243 1.83422807 0.77334068\n",
            "  0.73337524 0.75025327 0.83256274 0.70451606 1.20734426 0.66859152\n",
            "  0.71012981 0.71153031 0.78130311 0.92395255 1.32697554 0.74710583\n",
            "  0.5913565  0.7857117  0.9638038  0.70697161 0.81386931 1.15745591\n",
            "  0.77081577 0.72904092 0.74772625 0.69784115 1.0013962  0.83215416\n",
            "  0.80621431 1.04953493 0.72311905 1.09578765 0.86595744 0.79993531\n",
            "  0.68775936 0.51620487 0.86278494 1.0476828  0.73606383 0.69020484\n",
            "  0.80905884 1.60197521 0.78664584 0.71858712 0.65042331 0.93824873\n",
            "  0.83876245 0.74884167 0.96511663 0.70247731 0.88443607 0.75476286\n",
            "  0.99473564 1.21886435 0.90860559 0.64380222 0.76948253 0.75758196\n",
            "  0.81952022 0.80735337 0.75657869 2.24649885 1.03175171 0.88876361\n",
            "  0.76129065 0.85911572 1.06112043 0.69302018 0.93419532 0.79147036\n",
            "  0.63526783 0.70719967 1.40167789 0.80004868 0.76518886 0.78944091\n",
            "  0.87038322 0.7503522  0.68148232 1.18209565 0.67482123 0.96229493\n",
            "  0.89263332 1.11551004 0.82003556 0.71437096 0.79299573 1.16125257\n",
            "  0.80850124 1.03102632 1.20895083 0.72700947 0.7316556  0.83365895\n",
            "  1.8345871  2.53902992 1.26175928 0.71993996 0.92220105 0.64563062\n",
            "  0.93022799 0.80322975 0.77341813 0.81202366 0.81746155 0.94068796\n",
            "  1.08977918 0.61198032 0.97991076 0.72282239 0.75334302 0.62976043\n",
            "  1.29847664 1.04958215 0.71970043 0.78620469 0.81097263 0.78473117\n",
            "  0.78576449 0.85937685 0.74560664 0.71258807 0.73001373 0.92177429\n",
            "  0.71785606 0.76481925 0.74076639 0.76028334 0.82846654 0.65042864\n",
            "  0.80037235 0.72741259 0.67659618 1.03759627 0.73713643 0.71329027\n",
            "  0.73768551 0.78302878 1.16103816 0.7116941 ]]\n",
            "(4, 250)\n"
          ],
          "name": "stdout"
        }
      ]
    },
    {
      "cell_type": "code",
      "metadata": {
        "colab": {
          "base_uri": "https://localhost:8080/"
        },
        "id": "VSuTsOuqG_V4",
        "outputId": "ca0dbca5-cc5a-4fe3-e481-96c4cb937be4"
      },
      "source": [
        "terms = vectorizer.get_feature_names() # 단어 집합. 1,000개의 단어가 저장됨.\n",
        "\n",
        "def get_topics(components, feature_names, n=15):\n",
        "    for idx, topic in enumerate(components):\n",
        "        print(\"Topic %d:\" % (idx+1), [(feature_names[i], topic[i].round(2)) for i in topic.argsort()[:-n - 1:-1]])\n",
        "get_topics(lda_model.components_,terms)"
      ],
      "execution_count": null,
      "outputs": [
        {
          "output_type": "stream",
          "text": [
            "Topic 1: [('최일구', 2.16), ('엎드려뻗쳐', 2.14), ('상병', 2.13), ('여기', 2.06), ('진짜', 1.95), ('최병호', 1.65), ('행보관', 1.57), ('맞짱', 1.55), ('종교', 1.34), ('말입니', 1.34), ('계급장', 1.31), ('이병', 1.28), ('잘하겠습니', 1.26), ('다행', 1.25), ('쓰레기', 1.23)]\n",
            "Topic 2: [('알겠습니', 2.81), ('일병', 1.99), ('상병님', 1.82), ('박민석', 1.78), ('김상훈', 1.75), ('엎드려뻗쳐', 1.64), ('어디', 1.61), ('명령', 1.51), ('누구', 1.51), ('근데', 1.5), ('일병임다', 1.4), ('병호', 1.36), ('동작', 1.31), ('테니스장', 1.3), ('십시', 1.22)]\n",
            "Topic 3: [('아닙니', 2.21), ('분리수거', 2.0), ('센티', 1.72), ('그렇습니', 1.57), ('오후', 1.57), ('김다혜', 1.54), ('작전', 1.42), ('군대', 1.38), ('일병님', 1.31), ('김상훈', 1.31), ('핑계', 1.27), ('진행', 1.25), ('지금', 1.22), ('분명', 1.22), ('가지', 1.21)]\n",
            "Topic 4: [('죄송합니', 2.54), ('박민', 2.42), ('이거', 2.25), ('분리수거', 2.06), ('죄송', 1.83), ('소대장님', 1.83), ('엎드려뻗쳐', 1.6), ('사회', 1.55), ('일병', 1.4), ('끊어습니', 1.34), ('실시', 1.33), ('처음', 1.3), ('주말', 1.26), ('보이', 1.25), ('계급', 1.23)]\n"
          ],
          "name": "stdout"
        }
      ]
    },
    {
      "cell_type": "code",
      "metadata": {
        "id": "NR7_vdAGNDiQ"
      },
      "source": [
        "Topic1 = ['최일구', '상병', '행보관', '계급장', '맞짱']                      #선임 관련\n",
        "Topic2 = ['일병', '박민석', '엎드려뻗쳐', '명령', '동작']                    #낮은계급 관련\n",
        "Topic3 = ['아닙니', '그렇습니', '군대', '일병님']                            #대화\n",
        "Topic4 = ['죄송', '분리수거', '실시', '처음', '주말', '사회', '이거']        #군대 일상"
      ],
      "execution_count": null,
      "outputs": []
    }
  ]
}