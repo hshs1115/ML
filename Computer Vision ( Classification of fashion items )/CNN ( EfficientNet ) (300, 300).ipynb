{
 "cells": [
  {
   "cell_type": "code",
   "execution_count": 1,
   "metadata": {},
   "outputs": [],
   "source": [
    "import tensorflow as tf\n",
    "import numpy as np\n",
    "import pandas as pd\n",
    "import os\n",
    "from tensorflow.keras.optimizers import RMSprop\n",
    "# from tensorflow.keras.applications.efficientnet import EfficientNetB7\n",
    "from tensorflow.keras.models import Sequential\n",
    "from tensorflow.keras.layers import Dense, Dropout, Flatten \n",
    "from tensorflow.keras.models import Model\n",
    "from tensorflow.keras import optimizers\n",
    "# from keras.utils import np_utils\n",
    "import cv2\n",
    "\n",
    "import gc\n",
    "from keras import backend as bek"
   ]
  },
  {
   "cell_type": "code",
   "execution_count": 2,
   "metadata": {},
   "outputs": [],
   "source": [
    "# 참고 : https://dacon.io/codeshare/1679"
   ]
  },
  {
   "cell_type": "code",
   "execution_count": 3,
   "metadata": {},
   "outputs": [
    {
     "name": "stdout",
     "output_type": "stream",
     "text": [
      "x_train shape: (60000, 28, 28) y_train shape: (60000,)\n",
      "x_test shape: (10000, 28, 28) y_test shape: (10000,)\n"
     ]
    }
   ],
   "source": [
    "(x_train, y_train), (x_test, y_test) = tf.keras.datasets.fashion_mnist.load_data()\n",
    "\n",
    "print(\"x_train shape:\", x_train.shape, \"y_train shape:\", y_train.shape)\n",
    "print(\"x_test shape:\", x_test.shape, \"y_test shape:\", y_test.shape)"
   ]
  },
  {
   "cell_type": "code",
   "execution_count": 4,
   "metadata": {},
   "outputs": [
    {
     "name": "stdout",
     "output_type": "stream",
     "text": [
      "(2000, 28, 28)\n",
      "(2000,)\n"
     ]
    }
   ],
   "source": [
    "# train data 2000개만 사용해서 학습\n",
    "\n",
    "x_train = x_train[0:2000]\n",
    "y_train = y_train[0:2000]\n",
    "\n",
    "print(x_train.shape)\n",
    "print(y_train.shape)"
   ]
  },
  {
   "cell_type": "code",
   "execution_count": 5,
   "metadata": {},
   "outputs": [],
   "source": [
    "# 데이터 정규화 ( 0~1 값 갖도록 )\n",
    "\n",
    "x_train = x_train.astype('float32') / 255\n",
    "x_test = x_test.astype('float32') / 255"
   ]
  },
  {
   "cell_type": "code",
   "execution_count": 6,
   "metadata": {},
   "outputs": [],
   "source": [
    "#x_train resize\n",
    "\n",
    "x_train_224=np.zeros([2000,300,300,3],dtype=np.float32)\n",
    "\n",
    "for i, s in enumerate(x_train):\n",
    "    converted = cv2.cvtColor(s, cv2.COLOR_GRAY2RGB)\n",
    "    resized = cv2.resize(converted,(300,300),interpolation = cv2.INTER_CUBIC)\n",
    "    del converted\n",
    "    x_train_224[i] = resized\n",
    "    del resized\n",
    "    bek.clear_session()\n",
    "    gc.collect()"
   ]
  },
  {
   "cell_type": "code",
   "execution_count": 6,
   "metadata": {},
   "outputs": [
    {
     "data": {
      "text/plain": [
       "60"
      ]
     },
     "execution_count": 6,
     "metadata": {},
     "output_type": "execute_result"
    }
   ],
   "source": [
    "#x_test resize\n",
    "\n",
    "x_test_224=np.zeros([10000,300,300,3],dtype=np.float32)\n",
    "\n",
    "for i, s in enumerate(x_test):\n",
    "    converted = cv2.cvtColor(s, cv2.COLOR_GRAY2RGB)\n",
    "    resized = cv2.resize(converted,(300,300),interpolation = cv2.INTER_CUBIC)\n",
    "    del converted\n",
    "    x_test_224[i] = resized\n",
    "    del resized\n",
    "\n",
    "bek.clear_session()\n",
    "gc.collect()"
   ]
  },
  {
   "cell_type": "code",
   "execution_count": 8,
   "metadata": {},
   "outputs": [
    {
     "name": "stdout",
     "output_type": "stream",
     "text": [
      "끝남\n"
     ]
    }
   ],
   "source": [
    "print(\"끝남\")"
   ]
  },
  {
   "cell_type": "code",
   "execution_count": 9,
   "metadata": {},
   "outputs": [],
   "source": [
    "effnet = tf.keras.applications.EfficientNetB3(\n",
    "      include_top=True,\n",
    "      weights=None,\n",
    "      input_shape=(300,300,3),\n",
    "      classes=10,\n",
    "      classifier_activation=\"softmax\",\n",
    "  )\n",
    "model = Sequential()\n",
    "model.add(effnet)"
   ]
  },
  {
   "cell_type": "code",
   "execution_count": 10,
   "metadata": {},
   "outputs": [
    {
     "name": "stdout",
     "output_type": "stream",
     "text": [
      "Model: \"sequential\"\n",
      "_________________________________________________________________\n",
      " Layer (type)                Output Shape              Param #   \n",
      "=================================================================\n",
      " efficientnetb3 (Functional)  (None, 10)               10798905  \n",
      "                                                                 \n",
      "=================================================================\n",
      "Total params: 10,798,905\n",
      "Trainable params: 10,711,602\n",
      "Non-trainable params: 87,303\n",
      "_________________________________________________________________\n"
     ]
    }
   ],
   "source": [
    "model.summary()"
   ]
  },
  {
   "cell_type": "code",
   "execution_count": 7,
   "metadata": {},
   "outputs": [
    {
     "ename": "NameError",
     "evalue": "name 'model' is not defined",
     "output_type": "error",
     "traceback": [
      "\u001b[1;31m---------------------------------------------------------------------------\u001b[0m",
      "\u001b[1;31mNameError\u001b[0m                                 Traceback (most recent call last)",
      "\u001b[1;32m<ipython-input-7-f93a05aee3c8>\u001b[0m in \u001b[0;36m<module>\u001b[1;34m\u001b[0m\n\u001b[1;32m----> 1\u001b[1;33m model.compile(loss=\"categorical_crossentropy\",\n\u001b[0m\u001b[0;32m      2\u001b[0m               \u001b[0moptimizer\u001b[0m\u001b[1;33m=\u001b[0m\u001b[1;34m'adam'\u001b[0m\u001b[1;33m,\u001b[0m\u001b[1;33m\u001b[0m\u001b[1;33m\u001b[0m\u001b[0m\n\u001b[0;32m      3\u001b[0m               metrics=['accuracy'])\n",
      "\u001b[1;31mNameError\u001b[0m: name 'model' is not defined"
     ]
    }
   ],
   "source": [
    "model.compile(loss=\"categorical_crossentropy\",\n",
    "              optimizer='adam', \n",
    "              metrics=['accuracy'])"
   ]
  },
  {
   "cell_type": "code",
   "execution_count": 11,
   "metadata": {},
   "outputs": [
    {
     "name": "stdout",
     "output_type": "stream",
     "text": [
      "(2000,)\n",
      "(10000,)\n",
      "(2000, 10)\n",
      "(10000, 10)\n"
     ]
    }
   ],
   "source": [
    "print(y_train.shape)\n",
    "print(y_test.shape)\n",
    "\n",
    "from keras.utils import to_categorical\n",
    "\n",
    "y_train = to_categorical(y_train, 10)\n",
    "y_test = to_categorical(y_test, 10)\n",
    "\n",
    "print(y_train.shape)\n",
    "print(y_test.shape)"
   ]
  },
  {
   "cell_type": "code",
   "execution_count": 13,
   "metadata": {},
   "outputs": [
    {
     "name": "stdout",
     "output_type": "stream",
     "text": [
      "Epoch 1/10\n",
      "32/32 [==============================] - 2904s 89s/step - loss: 3.7304 - accuracy: 0.2140\n",
      "Epoch 2/10\n",
      "32/32 [==============================] - 3459s 108s/step - loss: 2.4190 - accuracy: 0.4030\n",
      "Epoch 3/10\n",
      "32/32 [==============================] - 3131s 98s/step - loss: 1.7731 - accuracy: 0.5280\n",
      "Epoch 4/10\n",
      "32/32 [==============================] - 3124s 98s/step - loss: 1.3471 - accuracy: 0.5850\n",
      "Epoch 5/10\n",
      "32/32 [==============================] - 3029s 95s/step - loss: 1.1620 - accuracy: 0.6390\n",
      "Epoch 6/10\n",
      "32/32 [==============================] - 3095s 97s/step - loss: 0.9491 - accuracy: 0.6965\n",
      "Epoch 7/10\n",
      "32/32 [==============================] - 3033s 95s/step - loss: 0.8558 - accuracy: 0.7150\n",
      "Epoch 8/10\n",
      "32/32 [==============================] - 3325s 104s/step - loss: 0.8107 - accuracy: 0.7310\n",
      "Epoch 9/10\n",
      "32/32 [==============================] - 3572s 111s/step - loss: 0.7009 - accuracy: 0.7690\n",
      "Epoch 10/10\n",
      "32/32 [==============================] - 3553s 111s/step - loss: 0.7054 - accuracy: 0.7835\n"
     ]
    }
   ],
   "source": [
    "hist = model.fit(\n",
    "                x = x_train_224,\n",
    "                y = y_train,\n",
    "                epochs=10,\n",
    "                batch_size=64\n",
    "                )"
   ]
  },
  {
   "cell_type": "code",
   "execution_count": 14,
   "metadata": {},
   "outputs": [
    {
     "name": "stderr",
     "output_type": "stream",
     "text": [
      "WARNING:absl:Found untraced functions such as _jit_compiled_convolution_op, _jit_compiled_convolution_op, _jit_compiled_convolution_op, _jit_compiled_convolution_op, _jit_compiled_convolution_op while saving (showing 5 of 130). These functions will not be directly callable after loading.\n"
     ]
    },
    {
     "name": "stdout",
     "output_type": "stream",
     "text": [
      "INFO:tensorflow:Assets written to: EfficientNet\\assets\n"
     ]
    },
    {
     "name": "stderr",
     "output_type": "stream",
     "text": [
      "INFO:tensorflow:Assets written to: EfficientNet\\assets\n"
     ]
    }
   ],
   "source": [
    "############# 모델 저장 ##################\n",
    "\n",
    "model.save(\"EfficientNet\")"
   ]
  },
  {
   "cell_type": "code",
   "execution_count": 15,
   "metadata": {},
   "outputs": [
    {
     "data": {
      "image/png": "[encoded data removed]",
      "text/plain": [
       "<Figure size 432x288 with 1 Axes>"
      ]
     },
     "metadata": {
      "needs_background": "light"
     },
     "output_type": "display_data"
    }
   ],
   "source": [
    "import matplotlib.pyplot as plt\n",
    "plt.plot(hist.history['loss'])\n",
    "plt.plot(hist.history['accuracy'])\n",
    "plt.title(\"model accuracy\")\n",
    "plt.ylabel(\"Accuracy\")\n",
    "plt.xlabel(\"Epoch\")\n",
    "plt.legend([\"loss\", \"Accuracy\"])\n",
    "plt.show()"
   ]
  },
  {
   "cell_type": "code",
   "execution_count": 9,
   "metadata": {},
   "outputs": [],
   "source": [
    "from tensorflow import keras\n",
    "model = keras.models.load_model('./EfficientNet')"
   ]
  },
  {
   "cell_type": "code",
   "execution_count": 12,
   "metadata": {},
   "outputs": [
    {
     "name": "stdout",
     "output_type": "stream",
     "text": [
      "\n",
      " Test accuracy: 0.10000000149011612\n"
     ]
    }
   ],
   "source": [
    "# 테스트 셋으로 모델 평가\n",
    "score = model.evaluate(x_test_224, y_test, verbose=0)\n",
    "\n",
    "# 테스트 정확도\n",
    "print('\\n', 'Test accuracy:', score[1])"
   ]
  },
  {
   "cell_type": "code",
   "execution_count": null,
   "metadata": {},
   "outputs": [],
   "source": [
    " "
   ]
  }
 ],
 "metadata": {
  "kernelspec": {
   "display_name": "Python 3",
   "language": "python",
   "name": "python3"
  },
  "language_info": {
   "codemirror_mode": {
    "name": "ipython",
    "version": 3
   },
   "file_extension": ".py",
   "mimetype": "text/x-python",
   "name": "python",
   "nbconvert_exporter": "python",
   "pygments_lexer": "ipython3",
   "version": "3.8.5"
  }
 },
 "nbformat": 4,
 "nbformat_minor": 4
}
