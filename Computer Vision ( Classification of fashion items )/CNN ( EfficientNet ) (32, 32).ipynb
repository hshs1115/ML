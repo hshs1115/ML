{
 "cells": [
  {
   "cell_type": "code",
   "execution_count": 11,
   "metadata": {},
   "outputs": [],
   "source": [
    "import tensorflow as tf\n",
    "import numpy as np\n",
    "import pandas as pd\n",
    "import os\n",
    "from tensorflow.keras.optimizers import RMSprop\n",
    "# from tensorflow.keras.applications.efficientnet import EfficientNetB7\n",
    "from tensorflow.keras.models import Sequential\n",
    "from tensorflow.keras.layers import Dense, Dropout, Flatten \n",
    "from tensorflow.keras.models import Model\n",
    "from tensorflow.keras import optimizers\n",
    "# from keras.utils import np_utils\n",
    "import cv2\n",
    "\n",
    "import gc\n",
    "from keras import backend as bek"
   ]
  },
  {
   "cell_type": "code",
   "execution_count": 12,
   "metadata": {},
   "outputs": [],
   "source": [
    "# 참고 : https://dacon.io/codeshare/1679"
   ]
  },
  {
   "cell_type": "code",
   "execution_count": 13,
   "metadata": {},
   "outputs": [
    {
     "name": "stdout",
     "output_type": "stream",
     "text": [
      "x_train shape: (60000, 28, 28) y_train shape: (60000,)\n",
      "x_test shape: (10000, 28, 28) y_test shape: (10000,)\n"
     ]
    }
   ],
   "source": [
    "(x_train, y_train), (x_test, y_test) = tf.keras.datasets.fashion_mnist.load_data()\n",
    "\n",
    "print(\"x_train shape:\", x_train.shape, \"y_train shape:\", y_train.shape)\n",
    "print(\"x_test shape:\", x_test.shape, \"y_test shape:\", y_test.shape)"
   ]
  },
  {
   "cell_type": "code",
   "execution_count": 14,
   "metadata": {},
   "outputs": [
    {
     "name": "stdout",
     "output_type": "stream",
     "text": [
      "(10000, 28, 28)\n",
      "(10000,)\n"
     ]
    }
   ],
   "source": [
    "# train data 2000개만 사용해서 학습\n",
    "\n",
    "x_train = x_train[0:10000]\n",
    "y_train = y_train[0:10000]\n",
    "\n",
    "print(x_train.shape)\n",
    "print(y_train.shape)"
   ]
  },
  {
   "cell_type": "code",
   "execution_count": 15,
   "metadata": {},
   "outputs": [],
   "source": [
    "# 데이터 정규화 ( 0~1 값 갖도록 )\n",
    "\n",
    "x_train = x_train.astype('float32') / 255\n",
    "x_test = x_test.astype('float32') / 255"
   ]
  },
  {
   "cell_type": "code",
   "execution_count": 16,
   "metadata": {},
   "outputs": [],
   "source": [
    "#x_train resize\n",
    "\n",
    "x_train_224=np.zeros([10000,32,32,3],dtype=np.float32)\n",
    "\n",
    "for i, s in enumerate(x_train):\n",
    "    converted = cv2.cvtColor(s, cv2.COLOR_GRAY2RGB)\n",
    "    resized = cv2.resize(converted,(32,32),interpolation = cv2.INTER_CUBIC)\n",
    "    del converted\n",
    "    x_train_224[i] = resized\n",
    "    del resized\n",
    "    bek.clear_session()\n",
    "    gc.collect()"
   ]
  },
  {
   "cell_type": "code",
   "execution_count": 17,
   "metadata": {},
   "outputs": [
    {
     "data": {
      "text/plain": [
       "116"
      ]
     },
     "execution_count": 17,
     "metadata": {},
     "output_type": "execute_result"
    }
   ],
   "source": [
    "#x_test resize\n",
    "\n",
    "x_test_224=np.zeros([10000,32,32,3],dtype=np.float32)\n",
    "\n",
    "for i, s in enumerate(x_test):\n",
    "    converted = cv2.cvtColor(s, cv2.COLOR_GRAY2RGB)\n",
    "    resized = cv2.resize(converted,(32,32),interpolation = cv2.INTER_CUBIC)\n",
    "    del converted\n",
    "    x_test_224[i] = resized\n",
    "    del resized\n",
    "\n",
    "bek.clear_session()\n",
    "gc.collect()"
   ]
  },
  {
   "cell_type": "code",
   "execution_count": 18,
   "metadata": {},
   "outputs": [
    {
     "name": "stdout",
     "output_type": "stream",
     "text": [
      "끝남\n"
     ]
    }
   ],
   "source": [
    "print(\"끝남\")"
   ]
  },
  {
   "cell_type": "code",
   "execution_count": 19,
   "metadata": {},
   "outputs": [],
   "source": [
    "effnet = tf.keras.applications.EfficientNetB3(\n",
    "      include_top=True,\n",
    "      weights=None,\n",
    "      input_shape=(32,32,3),\n",
    "      classes=10,\n",
    "      classifier_activation=\"softmax\",\n",
    "  )\n",
    "model = Sequential()\n",
    "model.add(effnet)"
   ]
  },
  {
   "cell_type": "code",
   "execution_count": 20,
   "metadata": {},
   "outputs": [
    {
     "name": "stdout",
     "output_type": "stream",
     "text": [
      "Model: \"sequential\"\n",
      "_________________________________________________________________\n",
      " Layer (type)                Output Shape              Param #   \n",
      "=================================================================\n",
      " efficientnetb3 (Functional)  (None, 10)               10798905  \n",
      "                                                                 \n",
      "=================================================================\n",
      "Total params: 10,798,905\n",
      "Trainable params: 10,711,602\n",
      "Non-trainable params: 87,303\n",
      "_________________________________________________________________\n"
     ]
    }
   ],
   "source": [
    "model.summary()"
   ]
  },
  {
   "cell_type": "code",
   "execution_count": 21,
   "metadata": {},
   "outputs": [],
   "source": [
    "model.compile(loss=\"categorical_crossentropy\",\n",
    "              optimizer='adam', \n",
    "              metrics=['accuracy'])"
   ]
  },
  {
   "cell_type": "code",
   "execution_count": 22,
   "metadata": {},
   "outputs": [
    {
     "name": "stdout",
     "output_type": "stream",
     "text": [
      "(10000,)\n",
      "(10000,)\n",
      "(10000, 10)\n",
      "(10000, 10)\n"
     ]
    }
   ],
   "source": [
    "print(y_train.shape)\n",
    "print(y_test.shape)\n",
    "\n",
    "from keras.utils import to_categorical\n",
    "\n",
    "y_train = to_categorical(y_train, 10)\n",
    "y_test = to_categorical(y_test, 10)\n",
    "\n",
    "print(y_train.shape)\n",
    "print(y_test.shape)"
   ]
  },
  {
   "cell_type": "code",
   "execution_count": 23,
   "metadata": {},
   "outputs": [
    {
     "name": "stdout",
     "output_type": "stream",
     "text": [
      "Epoch 1/10\n",
      "157/157 [==============================] - 127s 719ms/step - loss: 3.4547 - accuracy: 0.2629\n",
      "Epoch 2/10\n",
      "157/157 [==============================] - 114s 728ms/step - loss: 1.5648 - accuracy: 0.4609\n",
      "Epoch 3/10\n",
      "157/157 [==============================] - 115s 733ms/step - loss: 1.2175 - accuracy: 0.5630\n",
      "Epoch 4/10\n",
      "157/157 [==============================] - 116s 738ms/step - loss: 1.0296 - accuracy: 0.6254\n",
      "Epoch 5/10\n",
      "157/157 [==============================] - 115s 736ms/step - loss: 0.9120 - accuracy: 0.6769\n",
      "Epoch 6/10\n",
      "157/157 [==============================] - 116s 739ms/step - loss: 0.7877 - accuracy: 0.7105\n",
      "Epoch 7/10\n",
      "157/157 [==============================] - 115s 734ms/step - loss: 0.7339 - accuracy: 0.7289\n",
      "Epoch 8/10\n",
      "157/157 [==============================] - 115s 735ms/step - loss: 0.7108 - accuracy: 0.7559\n",
      "Epoch 9/10\n",
      "157/157 [==============================] - 116s 738ms/step - loss: 0.6617 - accuracy: 0.7708\n",
      "Epoch 10/10\n",
      "157/157 [==============================] - 115s 735ms/step - loss: 0.6368 - accuracy: 0.7750\n"
     ]
    }
   ],
   "source": [
    "hist = model.fit(\n",
    "                x = x_train_224,\n",
    "                y = y_train,\n",
    "                epochs=10,\n",
    "                batch_size=64\n",
    "                )"
   ]
  },
  {
   "cell_type": "code",
   "execution_count": 24,
   "metadata": {},
   "outputs": [
    {
     "name": "stderr",
     "output_type": "stream",
     "text": [
      "WARNING:absl:Found untraced functions such as _jit_compiled_convolution_op, _jit_compiled_convolution_op, _jit_compiled_convolution_op, _jit_compiled_convolution_op, _jit_compiled_convolution_op while saving (showing 5 of 130). These functions will not be directly callable after loading.\n"
     ]
    },
    {
     "name": "stdout",
     "output_type": "stream",
     "text": [
      "INFO:tensorflow:Assets written to: EfficientNet_28\\assets\n"
     ]
    },
    {
     "name": "stderr",
     "output_type": "stream",
     "text": [
      "INFO:tensorflow:Assets written to: EfficientNet_28\\assets\n"
     ]
    }
   ],
   "source": [
    "############# 모델 저장 ##################\n",
    "\n",
    "model.save(\"EfficientNet_28\")"
   ]
  },
  {
   "cell_type": "code",
   "execution_count": 25,
   "metadata": {},
   "outputs": [
    {
     "data": {
      "image/png": "[encoded data removed]",
      "text/plain": [
       "<Figure size 432x288 with 1 Axes>"
      ]
     },
     "metadata": {
      "needs_background": "light"
     },
     "output_type": "display_data"
    }
   ],
   "source": [
    "import matplotlib.pyplot as plt\n",
    "plt.plot(hist.history['loss'])\n",
    "plt.plot(hist.history['accuracy'])\n",
    "plt.title(\"model accuracy\")\n",
    "plt.ylabel(\"Accuracy\")\n",
    "plt.xlabel(\"Epoch\")\n",
    "plt.legend([\"loss\", \"Accuracy\"])\n",
    "plt.show()"
   ]
  },
  {
   "cell_type": "code",
   "execution_count": 26,
   "metadata": {},
   "outputs": [
    {
     "name": "stdout",
     "output_type": "stream",
     "text": [
      "\n",
      " Test accuracy: 0.7795000076293945\n"
     ]
    }
   ],
   "source": [
    "# 테스트 셋으로 모델 평가\n",
    "score = model.evaluate(x_test_224, y_test, verbose=0)\n",
    "\n",
    "# 테스트 정확도\n",
    "print('\\n', 'Test accuracy:', score[1])"
   ]
  },
  {
   "cell_type": "code",
   "execution_count": null,
   "metadata": {},
   "outputs": [],
   "source": [
    " "
   ]
  }
 ],
 "metadata": {
  "kernelspec": {
   "display_name": "Python 3",
   "language": "python",
   "name": "python3"
  },
  "language_info": {
   "codemirror_mode": {
    "name": "ipython",
    "version": 3
   },
   "file_extension": ".py",
   "mimetype": "text/x-python",
   "name": "python",
   "nbconvert_exporter": "python",
   "pygments_lexer": "ipython3",
   "version": "3.8.5"
  }
 },
 "nbformat": 4,
 "nbformat_minor": 4
}
