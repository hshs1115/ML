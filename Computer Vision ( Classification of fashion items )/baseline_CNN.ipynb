{
 "cells": [
  {
   "cell_type": "code",
   "execution_count": 44,
   "metadata": {
    "scrolled": true
   },
   "outputs": [
    {
     "name": "stdout",
     "output_type": "stream",
     "text": [
      "Collecting pip\n",
      "  Downloading pip-22.1.2-py3-none-any.whl (2.1 MB)\n"
     ]
    },
    {
     "name": "stderr",
     "output_type": "stream",
     "text": [
      "ERROR: Could not install packages due to an EnvironmentError: [WinError 5] 액세스가 거부되었습니다: 'C:\\\\Users\\\\이현식\\\\AppData\\\\Local\\\\Temp\\\\pip-uninstall-cx7z1j4p\\\\pip.exe'\n",
      "Consider using the `--user` option or check the permissions.\n",
      "\n"
     ]
    },
    {
     "name": "stdout",
     "output_type": "stream",
     "text": [
      "Installing collected packages: pip\n",
      "  Attempting uninstall: pip\n",
      "    Found existing installation: pip 20.2.4\n",
      "    Uninstalling pip-20.2.4:\n",
      "      Successfully uninstalled pip-20.2.4\n",
      "Requirement already satisfied: tensorflow in c:\\pythontemp\\anaconda3\\lib\\site-packages (2.9.1)\n",
      "Requirement already satisfied: tensorboard<2.10,>=2.9 in c:\\pythontemp\\anaconda3\\lib\\site-packages (from tensorflow) (2.9.1)\n",
      "Requirement already satisfied: protobuf<3.20,>=3.9.2 in c:\\pythontemp\\anaconda3\\lib\\site-packages (from tensorflow) (3.19.4)\n",
      "Requirement already satisfied: wrapt>=1.11.0 in c:\\pythontemp\\anaconda3\\lib\\site-packages (from tensorflow) (1.11.2)\n",
      "Requirement already satisfied: gast<=0.4.0,>=0.2.1 in c:\\pythontemp\\anaconda3\\lib\\site-packages (from tensorflow) (0.4.0)\n",
      "Requirement already satisfied: typing-extensions>=3.6.6 in c:\\pythontemp\\anaconda3\\lib\\site-packages (from tensorflow) (3.7.4.3)\n",
      "Requirement already satisfied: tensorflow-estimator<2.10.0,>=2.9.0rc0 in c:\\pythontemp\\anaconda3\\lib\\site-packages (from tensorflow) (2.9.0)\n",
      "Requirement already satisfied: absl-py>=1.0.0 in c:\\pythontemp\\anaconda3\\lib\\site-packages (from tensorflow) (1.1.0)\n",
      "Requirement already satisfied: setuptools in c:\\pythontemp\\anaconda3\\lib\\site-packages (from tensorflow) (50.3.1.post20201107)\n",
      "Requirement already satisfied: flatbuffers<2,>=1.12 in c:\\pythontemp\\anaconda3\\lib\\site-packages (from tensorflow) (1.12)\n",
      "Requirement already satisfied: six>=1.12.0 in c:\\pythontemp\\anaconda3\\lib\\site-packages (from tensorflow) (1.15.0)\n",
      "Requirement already satisfied: packaging in c:\\pythontemp\\anaconda3\\lib\\site-packages (from tensorflow) (20.4)\n",
      "Requirement already satisfied: libclang>=13.0.0 in c:\\pythontemp\\anaconda3\\lib\\site-packages (from tensorflow) (14.0.1)\n",
      "Requirement already satisfied: astunparse>=1.6.0 in c:\\pythontemp\\anaconda3\\lib\\site-packages (from tensorflow) (1.6.3)\n",
      "Requirement already satisfied: keras<2.10.0,>=2.9.0rc0 in c:\\pythontemp\\anaconda3\\lib\\site-packages (from tensorflow) (2.9.0)\n",
      "Requirement already satisfied: tensorflow-io-gcs-filesystem>=0.23.1 in c:\\pythontemp\\anaconda3\\lib\\site-packages (from tensorflow) (0.26.0)\n",
      "Requirement already satisfied: keras-preprocessing>=1.1.1 in c:\\pythontemp\\anaconda3\\lib\\site-packages (from tensorflow) (1.1.2)\n",
      "Requirement already satisfied: numpy>=1.20 in c:\\pythontemp\\anaconda3\\lib\\site-packages (from tensorflow) (1.21.4)\n",
      "Requirement already satisfied: termcolor>=1.1.0 in c:\\pythontemp\\anaconda3\\lib\\site-packages (from tensorflow) (1.1.0)\n",
      "Requirement already satisfied: h5py>=2.9.0 in c:\\pythontemp\\anaconda3\\lib\\site-packages (from tensorflow) (2.10.0)\n",
      "Requirement already satisfied: grpcio<2.0,>=1.24.3 in c:\\pythontemp\\anaconda3\\lib\\site-packages (from tensorflow) (1.47.0)\n",
      "Requirement already satisfied: google-pasta>=0.1.1 in c:\\pythontemp\\anaconda3\\lib\\site-packages (from tensorflow) (0.2.0)\n",
      "Requirement already satisfied: opt-einsum>=2.3.2 in c:\\pythontemp\\anaconda3\\lib\\site-packages (from tensorflow) (3.3.0)\n",
      "Requirement already satisfied: wheel<1.0,>=0.23.0 in c:\\pythontemp\\anaconda3\\lib\\site-packages (from astunparse>=1.6.0->tensorflow) (0.35.1)\n",
      "Requirement already satisfied: google-auth<3,>=1.6.3 in c:\\pythontemp\\anaconda3\\lib\\site-packages (from tensorboard<2.10,>=2.9->tensorflow) (2.9.0)\n",
      "Requirement already satisfied: werkzeug>=1.0.1 in c:\\pythontemp\\anaconda3\\lib\\site-packages (from tensorboard<2.10,>=2.9->tensorflow) (1.0.1)\n",
      "Requirement already satisfied: google-auth-oauthlib<0.5,>=0.4.1 in c:\\pythontemp\\anaconda3\\lib\\site-packages (from tensorboard<2.10,>=2.9->tensorflow) (0.4.6)\n",
      "Requirement already satisfied: tensorboard-plugin-wit>=1.6.0 in c:\\pythontemp\\anaconda3\\lib\\site-packages (from tensorboard<2.10,>=2.9->tensorflow) (1.8.1)\n",
      "Requirement already satisfied: tensorboard-data-server<0.7.0,>=0.6.0 in c:\\pythontemp\\anaconda3\\lib\\site-packages (from tensorboard<2.10,>=2.9->tensorflow) (0.6.1)\n",
      "Requirement already satisfied: markdown>=2.6.8 in c:\\pythontemp\\anaconda3\\lib\\site-packages (from tensorboard<2.10,>=2.9->tensorflow) (3.3.7)\n",
      "Requirement already satisfied: requests<3,>=2.21.0 in c:\\pythontemp\\anaconda3\\lib\\site-packages (from tensorboard<2.10,>=2.9->tensorflow) (2.24.0)\n",
      "Requirement already satisfied: pyparsing>=2.0.2 in c:\\pythontemp\\anaconda3\\lib\\site-packages (from packaging->tensorflow) (2.4.7)\n",
      "Requirement already satisfied: cachetools<6.0,>=2.0.0 in c:\\pythontemp\\anaconda3\\lib\\site-packages (from google-auth<3,>=1.6.3->tensorboard<2.10,>=2.9->tensorflow) (5.2.0)\n",
      "Requirement already satisfied: pyasn1-modules>=0.2.1 in c:\\pythontemp\\anaconda3\\lib\\site-packages (from google-auth<3,>=1.6.3->tensorboard<2.10,>=2.9->tensorflow) (0.2.8)\n",
      "Requirement already satisfied: rsa<5,>=3.1.4 in c:\\pythontemp\\anaconda3\\lib\\site-packages (from google-auth<3,>=1.6.3->tensorboard<2.10,>=2.9->tensorflow) (4.8)\n",
      "Requirement already satisfied: requests-oauthlib>=0.7.0 in c:\\pythontemp\\anaconda3\\lib\\site-packages (from google-auth-oauthlib<0.5,>=0.4.1->tensorboard<2.10,>=2.9->tensorflow) (1.3.1)\n",
      "Requirement already satisfied: importlib-metadata>=4.4 in c:\\pythontemp\\anaconda3\\lib\\site-packages (from markdown>=2.6.8->tensorboard<2.10,>=2.9->tensorflow) (4.12.0)\n",
      "Requirement already satisfied: idna<3,>=2.5 in c:\\pythontemp\\anaconda3\\lib\\site-packages (from requests<3,>=2.21.0->tensorboard<2.10,>=2.9->tensorflow) (2.10)\n",
      "Requirement already satisfied: urllib3!=1.25.0,!=1.25.1,<1.26,>=1.21.1 in c:\\pythontemp\\anaconda3\\lib\\site-packages (from requests<3,>=2.21.0->tensorboard<2.10,>=2.9->tensorflow) (1.25.11)\n",
      "Requirement already satisfied: chardet<4,>=3.0.2 in c:\\pythontemp\\anaconda3\\lib\\site-packages (from requests<3,>=2.21.0->tensorboard<2.10,>=2.9->tensorflow) (3.0.4)\n",
      "Requirement already satisfied: certifi>=2017.4.17 in c:\\pythontemp\\anaconda3\\lib\\site-packages (from requests<3,>=2.21.0->tensorboard<2.10,>=2.9->tensorflow) (2020.6.20)\n",
      "Requirement already satisfied: zipp>=0.5 in c:\\pythontemp\\anaconda3\\lib\\site-packages (from importlib-metadata>=4.4->markdown>=2.6.8->tensorboard<2.10,>=2.9->tensorflow) (3.4.0)\n",
      "Requirement already satisfied: pyasn1<0.5.0,>=0.4.6 in c:\\pythontemp\\anaconda3\\lib\\site-packages (from pyasn1-modules>=0.2.1->google-auth<3,>=1.6.3->tensorboard<2.10,>=2.9->tensorflow) (0.4.8)\n",
      "Requirement already satisfied: oauthlib>=3.0.0 in c:\\pythontemp\\anaconda3\\lib\\site-packages (from requests-oauthlib>=0.7.0->google-auth-oauthlib<0.5,>=0.4.1->tensorboard<2.10,>=2.9->tensorflow) (3.2.0)\n",
      "Collecting tf-nightly\n",
      "  Downloading tf_nightly-2.10.0.dev20220630-cp38-cp38-win_amd64.whl (361.4 MB)\n",
      "     -------------------------------------- 361.4/361.4 MB 3.5 MB/s eta 0:00:00\n",
      "Requirement already satisfied: h5py>=2.9.0 in c:\\pythontemp\\anaconda3\\lib\\site-packages (from tf-nightly) (2.10.0)\n",
      "Requirement already satisfied: opt-einsum>=2.3.2 in c:\\pythontemp\\anaconda3\\lib\\site-packages (from tf-nightly) (3.3.0)\n",
      "Requirement already satisfied: protobuf<3.20,>=3.9.2 in c:\\pythontemp\\anaconda3\\lib\\site-packages (from tf-nightly) (3.19.4)\n",
      "Requirement already satisfied: libclang>=13.0.0 in c:\\pythontemp\\anaconda3\\lib\\site-packages (from tf-nightly) (14.0.1)\n",
      "Collecting tb-nightly~=2.10.0.a\n",
      "  Downloading tb_nightly-2.10.0a20220630-py3-none-any.whl (5.8 MB)\n",
      "     ---------------------------------------- 5.8/5.8 MB 18.6 MB/s eta 0:00:00\n",
      "Requirement already satisfied: grpcio<2.0,>=1.24.3 in c:\\pythontemp\\anaconda3\\lib\\site-packages (from tf-nightly) (1.47.0)\n",
      "Collecting keras-nightly~=2.10.0.dev\n",
      "  Downloading keras_nightly-2.10.0.dev2022063007-py2.py3-none-any.whl (1.7 MB)\n",
      "     ---------------------------------------- 1.7/1.7 MB 17.9 MB/s eta 0:00:00\n",
      "Requirement already satisfied: tensorflow-io-gcs-filesystem>=0.23.1 in c:\\pythontemp\\anaconda3\\lib\\site-packages (from tf-nightly) (0.26.0)\n",
      "Requirement already satisfied: setuptools in c:\\pythontemp\\anaconda3\\lib\\site-packages (from tf-nightly) (50.3.1.post20201107)\n",
      "Requirement already satisfied: typing-extensions>=3.6.6 in c:\\pythontemp\\anaconda3\\lib\\site-packages (from tf-nightly) (3.7.4.3)\n",
      "Collecting tf-estimator-nightly~=2.10.0.dev\n",
      "  Downloading tf_estimator_nightly-2.10.0.dev2022063008-py2.py3-none-any.whl (438 kB)\n",
      "     ------------------------------------- 438.9/438.9 kB 28.6 MB/s eta 0:00:00\n",
      "Requirement already satisfied: keras-preprocessing>=1.1.1 in c:\\pythontemp\\anaconda3\\lib\\site-packages (from tf-nightly) (1.1.2)\n",
      "Requirement already satisfied: astunparse>=1.6.0 in c:\\pythontemp\\anaconda3\\lib\\site-packages (from tf-nightly) (1.6.3)\n",
      "Requirement already satisfied: google-pasta>=0.1.1 in c:\\pythontemp\\anaconda3\\lib\\site-packages (from tf-nightly) (0.2.0)\n",
      "Requirement already satisfied: gast<=0.4.0,>=0.2.1 in c:\\pythontemp\\anaconda3\\lib\\site-packages (from tf-nightly) (0.4.0)\n",
      "Requirement already satisfied: wrapt>=1.11.0 in c:\\pythontemp\\anaconda3\\lib\\site-packages (from tf-nightly) (1.11.2)\n",
      "Requirement already satisfied: termcolor>=1.1.0 in c:\\pythontemp\\anaconda3\\lib\\site-packages (from tf-nightly) (1.1.0)\n",
      "Requirement already satisfied: packaging in c:\\pythontemp\\anaconda3\\lib\\site-packages (from tf-nightly) (20.4)\n",
      "Requirement already satisfied: numpy>=1.20 in c:\\pythontemp\\anaconda3\\lib\\site-packages (from tf-nightly) (1.21.4)\n",
      "Requirement already satisfied: six>=1.12.0 in c:\\pythontemp\\anaconda3\\lib\\site-packages (from tf-nightly) (1.15.0)\n",
      "Collecting flatbuffers>=2.0\n",
      "  Downloading flatbuffers-2.0-py2.py3-none-any.whl (26 kB)\n",
      "Requirement already satisfied: absl-py>=1.0.0 in c:\\pythontemp\\anaconda3\\lib\\site-packages (from tf-nightly) (1.1.0)\n",
      "Requirement already satisfied: wheel<1.0,>=0.23.0 in c:\\pythontemp\\anaconda3\\lib\\site-packages (from astunparse>=1.6.0->tf-nightly) (0.35.1)\n",
      "Requirement already satisfied: tensorboard-plugin-wit>=1.6.0 in c:\\pythontemp\\anaconda3\\lib\\site-packages (from tb-nightly~=2.10.0.a->tf-nightly) (1.8.1)\n",
      "Requirement already satisfied: werkzeug>=1.0.1 in c:\\pythontemp\\anaconda3\\lib\\site-packages (from tb-nightly~=2.10.0.a->tf-nightly) (1.0.1)\n",
      "Requirement already satisfied: google-auth-oauthlib<0.5,>=0.4.1 in c:\\pythontemp\\anaconda3\\lib\\site-packages (from tb-nightly~=2.10.0.a->tf-nightly) (0.4.6)\n",
      "Requirement already satisfied: markdown>=2.6.8 in c:\\pythontemp\\anaconda3\\lib\\site-packages (from tb-nightly~=2.10.0.a->tf-nightly) (3.3.7)\n",
      "Requirement already satisfied: google-auth<3,>=1.6.3 in c:\\pythontemp\\anaconda3\\lib\\site-packages (from tb-nightly~=2.10.0.a->tf-nightly) (2.9.0)\n",
      "Requirement already satisfied: tensorboard-data-server<0.7.0,>=0.6.0 in c:\\pythontemp\\anaconda3\\lib\\site-packages (from tb-nightly~=2.10.0.a->tf-nightly) (0.6.1)\n",
      "Requirement already satisfied: requests<3,>=2.21.0 in c:\\pythontemp\\anaconda3\\lib\\site-packages (from tb-nightly~=2.10.0.a->tf-nightly) (2.24.0)\n",
      "Requirement already satisfied: pyparsing>=2.0.2 in c:\\pythontemp\\anaconda3\\lib\\site-packages (from packaging->tf-nightly) (2.4.7)\n",
      "Requirement already satisfied: cachetools<6.0,>=2.0.0 in c:\\pythontemp\\anaconda3\\lib\\site-packages (from google-auth<3,>=1.6.3->tb-nightly~=2.10.0.a->tf-nightly) (5.2.0)\n",
      "Requirement already satisfied: pyasn1-modules>=0.2.1 in c:\\pythontemp\\anaconda3\\lib\\site-packages (from google-auth<3,>=1.6.3->tb-nightly~=2.10.0.a->tf-nightly) (0.2.8)\n",
      "Requirement already satisfied: rsa<5,>=3.1.4 in c:\\pythontemp\\anaconda3\\lib\\site-packages (from google-auth<3,>=1.6.3->tb-nightly~=2.10.0.a->tf-nightly) (4.8)\n",
      "Requirement already satisfied: requests-oauthlib>=0.7.0 in c:\\pythontemp\\anaconda3\\lib\\site-packages (from google-auth-oauthlib<0.5,>=0.4.1->tb-nightly~=2.10.0.a->tf-nightly) (1.3.1)\n",
      "Requirement already satisfied: importlib-metadata>=4.4 in c:\\pythontemp\\anaconda3\\lib\\site-packages (from markdown>=2.6.8->tb-nightly~=2.10.0.a->tf-nightly) (4.12.0)\n",
      "Requirement already satisfied: chardet<4,>=3.0.2 in c:\\pythontemp\\anaconda3\\lib\\site-packages (from requests<3,>=2.21.0->tb-nightly~=2.10.0.a->tf-nightly) (3.0.4)\n",
      "Requirement already satisfied: certifi>=2017.4.17 in c:\\pythontemp\\anaconda3\\lib\\site-packages (from requests<3,>=2.21.0->tb-nightly~=2.10.0.a->tf-nightly) (2020.6.20)\n",
      "Requirement already satisfied: idna<3,>=2.5 in c:\\pythontemp\\anaconda3\\lib\\site-packages (from requests<3,>=2.21.0->tb-nightly~=2.10.0.a->tf-nightly) (2.10)\n",
      "Requirement already satisfied: urllib3!=1.25.0,!=1.25.1,<1.26,>=1.21.1 in c:\\pythontemp\\anaconda3\\lib\\site-packages (from requests<3,>=2.21.0->tb-nightly~=2.10.0.a->tf-nightly) (1.25.11)\n",
      "Requirement already satisfied: zipp>=0.5 in c:\\pythontemp\\anaconda3\\lib\\site-packages (from importlib-metadata>=4.4->markdown>=2.6.8->tb-nightly~=2.10.0.a->tf-nightly) (3.4.0)\n",
      "Requirement already satisfied: pyasn1<0.5.0,>=0.4.6 in c:\\pythontemp\\anaconda3\\lib\\site-packages (from pyasn1-modules>=0.2.1->google-auth<3,>=1.6.3->tb-nightly~=2.10.0.a->tf-nightly) (0.4.8)\n",
      "Requirement already satisfied: oauthlib>=3.0.0 in c:\\pythontemp\\anaconda3\\lib\\site-packages (from requests-oauthlib>=0.7.0->google-auth-oauthlib<0.5,>=0.4.1->tb-nightly~=2.10.0.a->tf-nightly) (3.2.0)\n",
      "Installing collected packages: keras-nightly, flatbuffers, tf-estimator-nightly, tb-nightly, tf-nightly\n",
      "  Attempting uninstall: flatbuffers\n",
      "    Found existing installation: flatbuffers 1.12\n",
      "    Uninstalling flatbuffers-1.12:\n",
      "      Successfully uninstalled flatbuffers-1.12\n"
     ]
    },
    {
     "name": "stderr",
     "output_type": "stream",
     "text": [
      "ERROR: Could not install packages due to an OSError: [WinError 5] 액세스가 거부되었습니다: 'c:\\\\pythontemp\\\\anaconda3\\\\Lib\\\\site-packages\\\\tensorflow\\\\compiler\\\\tf2tensorrt\\\\_pywrap_py_utils.pyd'\n",
      "Consider using the `--user` option or check the permissions.\n",
      "\n"
     ]
    }
   ],
   "source": [
    "# Requires the latest pip\n",
    "!pip install --upgrade pip\n",
    "\n",
    "# Current stable release for CPU and GPU\n",
    "!pip install tensorflow\n",
    "\n",
    "# Or try the preview build (unstable)\n",
    "!pip install tf-nightly\n"
   ]
  },
  {
   "cell_type": "code",
   "execution_count": 61,
   "metadata": {},
   "outputs": [
    {
     "name": "stdout",
     "output_type": "stream",
     "text": [
      "Requirement already satisfied: keras in c:\\pythontemp\\anaconda3\\lib\\site-packages (2.9.0)\n"
     ]
    }
   ],
   "source": [
    "!pip install keras"
   ]
  },
  {
   "cell_type": "code",
   "execution_count": 1,
   "metadata": {},
   "outputs": [],
   "source": [
    "import tensorflow as tf\n",
    "\n",
    "import numpy as np\n",
    "import matplotlib.pyplot as plt\n",
    "\n",
    "import keras\n",
    "from keras.models import Sequential\n",
    "from keras.layers import Dense, Dropout, Flatten\n",
    "from keras.layers.convolutional import Conv2D, MaxPooling2D\n",
    "from keras.callbacks import ModelCheckpoint"
   ]
  },
  {
   "cell_type": "code",
   "execution_count": 2,
   "metadata": {
    "scrolled": false
   },
   "outputs": [
    {
     "name": "stdout",
     "output_type": "stream",
     "text": [
      "x_train shape: (60000, 28, 28) y_train shape: (60000,)\n",
      "x_test shape: (10000, 28, 28) y_test shape: (10000,)\n"
     ]
    }
   ],
   "source": [
    "(x_train, y_train), (x_test, y_test) = tf.keras.datasets.fashion_mnist.load_data()\n",
    "\n",
    "print(\"x_train shape:\", x_train.shape, \"y_train shape:\", y_train.shape)\n",
    "print(\"x_test shape:\", x_test.shape, \"y_test shape:\", y_test.shape)"
   ]
  },
  {
   "cell_type": "code",
   "execution_count": 3,
   "metadata": {},
   "outputs": [],
   "source": [
    "from keras.utils import to_categorical\n",
    "\n",
    "y_train = to_categorical(y_train, 10)\n",
    "y_test = to_categorical(y_test, 10)"
   ]
  },
  {
   "cell_type": "code",
   "execution_count": 4,
   "metadata": {},
   "outputs": [],
   "source": [
    "class_name = [\n",
    "    'T-shirt/top',\n",
    "    'Trouser',\n",
    "    'Pullover',\n",
    "    'Dress',\n",
    "    'Coat',\n",
    "    'Sandal',\n",
    "    'Shirt',\n",
    "    'Sneaker',\n",
    "    'Bag',\n",
    "    'Ankel boot'\n",
    "]"
   ]
  },
  {
   "cell_type": "code",
   "execution_count": 5,
   "metadata": {},
   "outputs": [
    {
     "ename": "TypeError",
     "evalue": "only integer scalar arrays can be converted to a scalar index",
     "output_type": "error",
     "traceback": [
      "\u001b[1;31m---------------------------------------------------------------------------\u001b[0m",
      "\u001b[1;31mTypeError\u001b[0m                                 Traceback (most recent call last)",
      "\u001b[1;32m<ipython-input-5-44cba3bf931c>\u001b[0m in \u001b[0;36m<module>\u001b[1;34m\u001b[0m\n\u001b[0;32m      3\u001b[0m \u001b[1;33m\u001b[0m\u001b[0m\n\u001b[0;32m      4\u001b[0m \u001b[0mplt\u001b[0m\u001b[1;33m.\u001b[0m\u001b[0mimshow\u001b[0m\u001b[1;33m(\u001b[0m\u001b[0mx_train\u001b[0m\u001b[1;33m[\u001b[0m\u001b[0mimg_index\u001b[0m\u001b[1;33m]\u001b[0m\u001b[1;33m)\u001b[0m\u001b[1;33m\u001b[0m\u001b[1;33m\u001b[0m\u001b[0m\n\u001b[1;32m----> 5\u001b[1;33m \u001b[0mprint\u001b[0m\u001b[1;33m(\u001b[0m\u001b[0mclass_name\u001b[0m\u001b[1;33m[\u001b[0m\u001b[0my_train\u001b[0m\u001b[1;33m[\u001b[0m\u001b[0mimg_index\u001b[0m\u001b[1;33m]\u001b[0m\u001b[1;33m]\u001b[0m\u001b[1;33m)\u001b[0m\u001b[1;33m\u001b[0m\u001b[1;33m\u001b[0m\u001b[0m\n\u001b[0m",
      "\u001b[1;31mTypeError\u001b[0m: only integer scalar arrays can be converted to a scalar index"
     ]
    },
    {
     "data": {
      "image/png": "[encoded data removed]",
      "text/plain": [
       "<Figure size 432x288 with 1 Axes>"
      ]
     },
     "metadata": {
      "needs_background": "light"
     },
     "output_type": "display_data"
    }
   ],
   "source": [
    " # 학습 데이터셋 중에서 하나의 이미지 보여주기\n",
    " img_index = 1005\n",
    "\n",
    " plt.imshow(x_train[img_index])\n",
    " print(class_name[y_train[img_index]])"
   ]
  },
  {
   "cell_type": "code",
   "execution_count": null,
   "metadata": {
    "scrolled": true
   },
   "outputs": [],
   "source": [
    "print(x_train[0])"
   ]
  },
  {
   "cell_type": "code",
   "execution_count": 6,
   "metadata": {},
   "outputs": [],
   "source": [
    "# 데이터 정규화 ( 0~1 값 갖도록 )\n",
    "\n",
    "x_train = x_train.astype('float32') / 255\n",
    "x_test = x_test.astype('float32') / 255"
   ]
  },
  {
   "cell_type": "code",
   "execution_count": 7,
   "metadata": {},
   "outputs": [
    {
     "name": "stdout",
     "output_type": "stream",
     "text": [
      "[[0.         0.         0.         0.         0.         0.\n",
      "  0.         0.         0.         0.         0.         0.\n",
      "  0.         0.         0.         0.         0.         0.\n",
      "  0.         0.         0.         0.         0.         0.\n",
      "  0.         0.         0.         0.        ]\n",
      " [0.         0.         0.         0.         0.         0.\n",
      "  0.         0.         0.         0.         0.         0.\n",
      "  0.         0.         0.         0.         0.         0.\n",
      "  0.         0.         0.         0.         0.         0.\n",
      "  0.         0.         0.         0.        ]\n",
      " [0.         0.         0.         0.         0.         0.\n",
      "  0.         0.         0.         0.         0.         0.\n",
      "  0.         0.         0.         0.         0.         0.\n",
      "  0.         0.         0.         0.         0.         0.\n",
      "  0.         0.         0.         0.        ]\n",
      " [0.         0.         0.         0.         0.         0.\n",
      "  0.         0.         0.         0.         0.         0.\n",
      "  0.00392157 0.         0.         0.05098039 0.28627452 0.\n",
      "  0.         0.00392157 0.01568628 0.         0.         0.\n",
      "  0.         0.00392157 0.00392157 0.        ]\n",
      " [0.         0.         0.         0.         0.         0.\n",
      "  0.         0.         0.         0.         0.         0.\n",
      "  0.01176471 0.         0.14117648 0.53333336 0.49803922 0.24313726\n",
      "  0.21176471 0.         0.         0.         0.00392157 0.01176471\n",
      "  0.01568628 0.         0.         0.01176471]\n",
      " [0.         0.         0.         0.         0.         0.\n",
      "  0.         0.         0.         0.         0.         0.\n",
      "  0.02352941 0.         0.4        0.8        0.6901961  0.5254902\n",
      "  0.5647059  0.48235294 0.09019608 0.         0.         0.\n",
      "  0.         0.04705882 0.03921569 0.        ]\n",
      " [0.         0.         0.         0.         0.         0.\n",
      "  0.         0.         0.         0.         0.         0.\n",
      "  0.         0.         0.60784316 0.9254902  0.8117647  0.69803923\n",
      "  0.41960785 0.6117647  0.6313726  0.42745098 0.2509804  0.09019608\n",
      "  0.3019608  0.50980395 0.28235295 0.05882353]\n",
      " [0.         0.         0.         0.         0.         0.\n",
      "  0.         0.         0.         0.         0.         0.00392157\n",
      "  0.         0.27058825 0.8117647  0.8745098  0.85490197 0.84705883\n",
      "  0.84705883 0.6392157  0.49803922 0.4745098  0.47843137 0.57254905\n",
      "  0.5529412  0.34509805 0.6745098  0.25882354]\n",
      " [0.         0.         0.         0.         0.         0.\n",
      "  0.         0.         0.         0.00392157 0.00392157 0.00392157\n",
      "  0.         0.78431374 0.9098039  0.9098039  0.9137255  0.8980392\n",
      "  0.8745098  0.8745098  0.84313726 0.8352941  0.6431373  0.49803922\n",
      "  0.48235294 0.76862746 0.8980392  0.        ]\n",
      " [0.         0.         0.         0.         0.         0.\n",
      "  0.         0.         0.         0.         0.         0.\n",
      "  0.         0.7176471  0.88235295 0.84705883 0.8745098  0.89411765\n",
      "  0.92156863 0.8901961  0.8784314  0.87058824 0.8784314  0.8666667\n",
      "  0.8745098  0.9607843  0.6784314  0.        ]\n",
      " [0.         0.         0.         0.         0.         0.\n",
      "  0.         0.         0.         0.         0.         0.\n",
      "  0.         0.75686276 0.89411765 0.85490197 0.8352941  0.7764706\n",
      "  0.7058824  0.83137256 0.8235294  0.827451   0.8352941  0.8745098\n",
      "  0.8627451  0.9529412  0.7921569  0.        ]\n",
      " [0.         0.         0.         0.         0.         0.\n",
      "  0.         0.         0.         0.00392157 0.01176471 0.\n",
      "  0.04705882 0.85882354 0.8627451  0.83137256 0.85490197 0.7529412\n",
      "  0.6627451  0.8901961  0.8156863  0.85490197 0.8784314  0.83137256\n",
      "  0.8862745  0.77254903 0.81960785 0.20392157]\n",
      " [0.         0.         0.         0.         0.         0.\n",
      "  0.         0.         0.         0.         0.02352941 0.\n",
      "  0.3882353  0.95686275 0.87058824 0.8627451  0.85490197 0.79607844\n",
      "  0.7764706  0.8666667  0.84313726 0.8352941  0.87058824 0.8627451\n",
      "  0.9607843  0.46666667 0.654902   0.21960784]\n",
      " [0.         0.         0.         0.         0.         0.\n",
      "  0.         0.         0.         0.01568628 0.         0.\n",
      "  0.21568628 0.9254902  0.89411765 0.9019608  0.89411765 0.9411765\n",
      "  0.9098039  0.8352941  0.85490197 0.8745098  0.91764706 0.8509804\n",
      "  0.8509804  0.81960785 0.36078432 0.        ]\n",
      " [0.         0.         0.00392157 0.01568628 0.02352941 0.02745098\n",
      "  0.00784314 0.         0.         0.         0.         0.\n",
      "  0.92941177 0.8862745  0.8509804  0.8745098  0.87058824 0.85882354\n",
      "  0.87058824 0.8666667  0.84705883 0.8745098  0.8980392  0.84313726\n",
      "  0.85490197 1.         0.3019608  0.        ]\n",
      " [0.         0.01176471 0.         0.         0.         0.\n",
      "  0.         0.         0.         0.24313726 0.5686275  0.8\n",
      "  0.89411765 0.8117647  0.8352941  0.8666667  0.85490197 0.8156863\n",
      "  0.827451   0.85490197 0.8784314  0.8745098  0.85882354 0.84313726\n",
      "  0.8784314  0.95686275 0.62352943 0.        ]\n",
      " [0.         0.         0.         0.         0.07058824 0.17254902\n",
      "  0.32156864 0.41960785 0.7411765  0.89411765 0.8627451  0.87058824\n",
      "  0.8509804  0.8862745  0.78431374 0.8039216  0.827451   0.9019608\n",
      "  0.8784314  0.91764706 0.6901961  0.7372549  0.98039216 0.972549\n",
      "  0.9137255  0.93333334 0.84313726 0.        ]\n",
      " [0.         0.22352941 0.73333335 0.8156863  0.8784314  0.8666667\n",
      "  0.8784314  0.8156863  0.8        0.8392157  0.8156863  0.81960785\n",
      "  0.78431374 0.62352943 0.9607843  0.75686276 0.80784315 0.8745098\n",
      "  1.         1.         0.8666667  0.91764706 0.8666667  0.827451\n",
      "  0.8627451  0.9098039  0.9647059  0.        ]\n",
      " [0.01176471 0.7921569  0.89411765 0.8784314  0.8666667  0.827451\n",
      "  0.827451   0.8392157  0.8039216  0.8039216  0.8039216  0.8627451\n",
      "  0.9411765  0.3137255  0.5882353  1.         0.8980392  0.8666667\n",
      "  0.7372549  0.6039216  0.7490196  0.8235294  0.8        0.81960785\n",
      "  0.87058824 0.89411765 0.88235295 0.        ]\n",
      " [0.38431373 0.9137255  0.7764706  0.8235294  0.87058824 0.8980392\n",
      "  0.8980392  0.91764706 0.9764706  0.8627451  0.7607843  0.84313726\n",
      "  0.8509804  0.94509804 0.25490198 0.28627452 0.41568628 0.45882353\n",
      "  0.65882355 0.85882354 0.8666667  0.84313726 0.8509804  0.8745098\n",
      "  0.8745098  0.8784314  0.8980392  0.11372549]\n",
      " [0.29411766 0.8        0.83137256 0.8        0.75686276 0.8039216\n",
      "  0.827451   0.88235295 0.84705883 0.7254902  0.77254903 0.80784315\n",
      "  0.7764706  0.8352941  0.9411765  0.7647059  0.8901961  0.9607843\n",
      "  0.9372549  0.8745098  0.85490197 0.83137256 0.81960785 0.87058824\n",
      "  0.8627451  0.8666667  0.9019608  0.2627451 ]\n",
      " [0.1882353  0.79607844 0.7176471  0.7607843  0.8352941  0.77254903\n",
      "  0.7254902  0.74509805 0.7607843  0.7529412  0.7921569  0.8392157\n",
      "  0.85882354 0.8666667  0.8627451  0.9254902  0.88235295 0.84705883\n",
      "  0.78039217 0.80784315 0.7294118  0.70980394 0.69411767 0.6745098\n",
      "  0.70980394 0.8039216  0.80784315 0.4509804 ]\n",
      " [0.         0.47843137 0.85882354 0.75686276 0.7019608  0.67058825\n",
      "  0.7176471  0.76862746 0.8        0.8235294  0.8352941  0.8117647\n",
      "  0.827451   0.8235294  0.78431374 0.76862746 0.7607843  0.7490196\n",
      "  0.7647059  0.7490196  0.7764706  0.7529412  0.6901961  0.6117647\n",
      "  0.654902   0.69411767 0.8235294  0.36078432]\n",
      " [0.         0.         0.2901961  0.7411765  0.83137256 0.7490196\n",
      "  0.6862745  0.6745098  0.6862745  0.70980394 0.7254902  0.7372549\n",
      "  0.7411765  0.7372549  0.75686276 0.7764706  0.8        0.81960785\n",
      "  0.8235294  0.8235294  0.827451   0.7372549  0.7372549  0.7607843\n",
      "  0.7529412  0.84705883 0.6666667  0.        ]\n",
      " [0.00784314 0.         0.         0.         0.25882354 0.78431374\n",
      "  0.87058824 0.92941177 0.9372549  0.9490196  0.9647059  0.9529412\n",
      "  0.95686275 0.8666667  0.8627451  0.75686276 0.7490196  0.7019608\n",
      "  0.7137255  0.7137255  0.70980394 0.6901961  0.6509804  0.65882355\n",
      "  0.3882353  0.22745098 0.         0.        ]\n",
      " [0.         0.         0.         0.         0.         0.\n",
      "  0.         0.15686275 0.23921569 0.17254902 0.28235295 0.16078432\n",
      "  0.13725491 0.         0.         0.         0.         0.\n",
      "  0.         0.         0.         0.         0.         0.\n",
      "  0.         0.         0.         0.        ]\n",
      " [0.         0.         0.         0.         0.         0.\n",
      "  0.         0.         0.         0.         0.         0.\n",
      "  0.         0.         0.         0.         0.         0.\n",
      "  0.         0.         0.         0.         0.         0.\n",
      "  0.         0.         0.         0.        ]\n",
      " [0.         0.         0.         0.         0.         0.\n",
      "  0.         0.         0.         0.         0.         0.\n",
      "  0.         0.         0.         0.         0.         0.\n",
      "  0.         0.         0.         0.         0.         0.\n",
      "  0.         0.         0.         0.        ]]\n"
     ]
    }
   ],
   "source": [
    "print(x_train[0])"
   ]
  },
  {
   "cell_type": "code",
   "execution_count": 9,
   "metadata": {},
   "outputs": [
    {
     "name": "stdout",
     "output_type": "stream",
     "text": [
      "(60000, 28, 28)\n"
     ]
    }
   ],
   "source": [
    "print(x_train.shape)"
   ]
  },
  {
   "cell_type": "code",
   "execution_count": 8,
   "metadata": {},
   "outputs": [
    {
     "name": "stdout",
     "output_type": "stream",
     "text": [
      "Model: \"sequential\"\n",
      "_________________________________________________________________\n",
      " Layer (type)                Output Shape              Param #   \n",
      "=================================================================\n",
      " conv2d (Conv2D)             (None, 28, 28, 64)        320       \n",
      "                                                                 \n",
      " max_pooling2d (MaxPooling2D  (None, 14, 14, 64)       0         \n",
      " )                                                               \n",
      "                                                                 \n",
      " dropout (Dropout)           (None, 14, 14, 64)        0         \n",
      "                                                                 \n",
      " max_pooling2d_1 (MaxPooling  (None, 7, 7, 64)         0         \n",
      " 2D)                                                             \n",
      "                                                                 \n",
      " dropout_1 (Dropout)         (None, 7, 7, 64)          0         \n",
      "                                                                 \n",
      " flatten (Flatten)           (None, 3136)              0         \n",
      "                                                                 \n",
      " dense (Dense)               (None, 256)               803072    \n",
      "                                                                 \n",
      " dropout_2 (Dropout)         (None, 256)               0         \n",
      "                                                                 \n",
      " dense_1 (Dense)             (None, 10)                2570      \n",
      "                                                                 \n",
      "=================================================================\n",
      "Total params: 805,962\n",
      "Trainable params: 805,962\n",
      "Non-trainable params: 0\n",
      "_________________________________________________________________\n"
     ]
    }
   ],
   "source": [
    "model = keras.Sequential()\n",
    "\n",
    "# 신경망의 첫 번째 레이어에서 입력 데이터 크기를 정의해야 합니다.\n",
    "model.add(keras.layers.Conv2D(filters=64, kernel_size=2, padding='same', activation='relu', input_shape=(28,28,1)))\n",
    "model.add(keras.layers.MaxPooling2D(pool_size=2))\n",
    "model.add(keras.layers.Dropout(0.3))\n",
    "\n",
    "model.add(keras.layers.MaxPooling2D(pool_size=2))\n",
    "model.add(keras.layers.Dropout(0.3))\n",
    "\n",
    "model.add(keras.layers.Flatten()) # Flatten()은 이미지를 일차원으로 바꿔줍니다.\n",
    "model.add(keras.layers.Dense(256, activation='relu'))\n",
    "model.add(keras.layers.Dropout(0.5))\n",
    "model.add(keras.layers.Dense(10, activation='softmax'))\n",
    "\n",
    "# model.summary()를 통해 모델을 살펴보세요.\n",
    "model.summary()"
   ]
  },
  {
   "cell_type": "code",
   "execution_count": 10,
   "metadata": {},
   "outputs": [],
   "source": [
    "model.compile(loss='categorical_crossentropy',\n",
    "             optimizer='adam',\n",
    "             metrics=['accuracy'])"
   ]
  },
  {
   "cell_type": "code",
   "execution_count": 11,
   "metadata": {},
   "outputs": [
    {
     "name": "stdout",
     "output_type": "stream",
     "text": [
      "Epoch 1/10\n",
      "938/938 [==============================] - 94s 98ms/step - loss: 0.5535 - accuracy: 0.8000\n",
      "Epoch 2/10\n",
      "938/938 [==============================] - 73s 78ms/step - loss: 0.3960 - accuracy: 0.8562\n",
      "Epoch 3/10\n",
      "938/938 [==============================] - 57s 61ms/step - loss: 0.3627 - accuracy: 0.8683\n",
      "Epoch 4/10\n",
      "938/938 [==============================] - 57s 61ms/step - loss: 0.3419 - accuracy: 0.8744\n",
      "Epoch 5/10\n",
      "938/938 [==============================] - 58s 62ms/step - loss: 0.3295 - accuracy: 0.8803\n",
      "Epoch 6/10\n",
      "938/938 [==============================] - 57s 61ms/step - loss: 0.3183 - accuracy: 0.8834\n",
      "Epoch 7/10\n",
      "938/938 [==============================] - 57s 61ms/step - loss: 0.3122 - accuracy: 0.8868\n",
      "Epoch 8/10\n",
      "938/938 [==============================] - 58s 61ms/step - loss: 0.3039 - accuracy: 0.8884\n",
      "Epoch 9/10\n",
      "938/938 [==============================] - 58s 62ms/step - loss: 0.2966 - accuracy: 0.8905\n",
      "Epoch 10/10\n",
      "938/938 [==============================] - 57s 61ms/step - loss: 0.2890 - accuracy: 0.8951\n"
     ]
    }
   ],
   "source": [
    "hist = model.fit(\n",
    "                x = x_train,\n",
    "                 y = y_train,\n",
    "                 batch_size=64,\n",
    "                 epochs=10\n",
    "                 )"
   ]
  },
  {
   "cell_type": "code",
   "execution_count": 22,
   "metadata": {},
   "outputs": [
    {
     "data": {
      "text/plain": [
       "dict_keys(['loss', 'accuracy'])"
      ]
     },
     "execution_count": 22,
     "metadata": {},
     "output_type": "execute_result"
    }
   ],
   "source": [
    "hist.history.keys()"
   ]
  },
  {
   "cell_type": "code",
   "execution_count": 24,
   "metadata": {
    "scrolled": true
   },
   "outputs": [
    {
     "data": {
      "image/png": "[encoded data removed]",
      "text/plain": [
       "<Figure size 432x288 with 1 Axes>"
      ]
     },
     "metadata": {
      "needs_background": "light"
     },
     "output_type": "display_data"
    }
   ],
   "source": [
    "import matplotlib.pyplot as plt\n",
    "plt.plot(hist.history['loss'])\n",
    "plt.plot(hist.history['accuracy'])\n",
    "plt.title(\"model accuracy\")\n",
    "plt.ylabel(\"Accuracy\")\n",
    "plt.xlabel(\"Epoch\")\n",
    "plt.legend([\"loss\", \"Accuracy\"])\n",
    "plt.show()"
   ]
  },
  {
   "cell_type": "code",
   "execution_count": 25,
   "metadata": {},
   "outputs": [
    {
     "name": "stdout",
     "output_type": "stream",
     "text": [
      "\n",
      " Test accuracy: 0.9024999737739563\n"
     ]
    }
   ],
   "source": [
    "# 테스트 셋으로 모델 평가\n",
    "score = model.evaluate(x_test, y_test, verbose=0)\n",
    "\n",
    "# 테스트 정확도\n",
    "print('\\n', 'Test accuracy:', score[1])"
   ]
  },
  {
   "cell_type": "code",
   "execution_count": null,
   "metadata": {},
   "outputs": [],
   "source": []
  },
  {
   "cell_type": "code",
   "execution_count": null,
   "metadata": {},
   "outputs": [],
   "source": []
  },
  {
   "cell_type": "code",
   "execution_count": null,
   "metadata": {},
   "outputs": [],
   "source": [
    "# 0. 사용할 패키지 불러오기\n",
    "from keras.utils import np_utils\n",
    "from keras.datasets import mnist\n",
    "from keras.models import Sequential\n",
    "from keras.layers import Dense, Activation\n",
    "import numpy as np\n",
    "\n",
    "# 1. 데이터셋 생성하기\n",
    "(x_train, y_train), (x_test, y_test) = mnist.load_data()\n",
    "x_train = x_train.reshape(60000, 784).astype('float32') / 255.0\n",
    "x_test = x_test.reshape(10000, 784).astype('float32') / 255.0\n",
    "y_train = np_utils.to_categorical(y_train)\n",
    "y_test = np_utils.to_categorical(y_test)\n",
    "\n",
    "# 2. 모델 구성하기\n",
    "model = Sequential()\n",
    "model.add(Dense(units=64, input_dim=28*28, activation='relu'))\n",
    "model.add(Dense(units=10, activation='softmax'))\n",
    "\n",
    "# 3. 모델 학습과정 설정하기\n",
    "model.compile(loss='categorical_crossentropy', optimizer='adam', metrics=['accuracy'])\n",
    "\n",
    "# 4. 모델 학습시키기\n",
    "hist = model.fit(x_train, y_train, epochs=5, batch_size=32)\n",
    "\n",
    "prob_pred = model.predict(x_test)\n",
    "prob_label = prob_pred.argmax(axis=-1)\n",
    "np.savetxt('y_pred.csv', prob_label,fmt='%d')"
   ]
  }
 ],
 "metadata": {
  "kernelspec": {
   "display_name": "Python 3",
   "language": "python",
   "name": "python3"
  },
  "language_info": {
   "codemirror_mode": {
    "name": "ipython",
    "version": 3
   },
   "file_extension": ".py",
   "mimetype": "text/x-python",
   "name": "python",
   "nbconvert_exporter": "python",
   "pygments_lexer": "ipython3",
   "version": "3.8.5"
  }
 },
 "nbformat": 4,
 "nbformat_minor": 4
}
